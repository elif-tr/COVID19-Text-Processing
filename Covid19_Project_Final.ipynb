{
  "nbformat": 4,
  "nbformat_minor": 0,
  "metadata": {
    "kernelspec": {
      "display_name": "Python 3",
      "language": "python",
      "name": "python3"
    },
    "language_info": {
      "codemirror_mode": {
        "name": "ipython",
        "version": 3
      },
      "file_extension": ".py",
      "mimetype": "text/x-python",
      "name": "python",
      "nbconvert_exporter": "python",
      "pygments_lexer": "ipython3",
      "version": "3.8.5"
    },
    "colab": {
      "name": "Covid19-Project_Final.ipynb",
      "provenance": [],
      "include_colab_link": true
    }
  },
  "cells": [
    {
      "cell_type": "markdown",
      "metadata": {
        "id": "view-in-github",
        "colab_type": "text"
      },
      "source": [
        "<a href=\"https://colab.research.google.com/github/elif-tr/COVID19-Text-Processing/blob/main/Covid19_Project_Final.ipynb\" target=\"_parent\"><img src=\"https://colab.research.google.com/assets/colab-badge.svg\" alt=\"Open In Colab\"/></a>"
      ]
    },
    {
      "cell_type": "markdown",
      "metadata": {
        "id": "HGV5OrsHkGvl"
      },
      "source": [
        "## COVID19 related papers that published during the first week of May, 2020"
      ]
    },
    {
      "cell_type": "code",
      "metadata": {
        "id": "B6CaF2YdkGvl"
      },
      "source": [
        "import pandas as pd\n",
        "import numpy as np\n",
        "import os\n",
        "import json\n",
        "import re\n",
        "import nltk\n",
        "nltk.download('punkt')\n",
        "from nltk.tokenize import sent_tokenize\n",
        "from nltk.tokenize import word_tokenize"
      ],
      "execution_count": null,
      "outputs": []
    },
    {
      "cell_type": "code",
      "metadata": {
        "id": "NxfYdOcwkGvm"
      },
      "source": [
        "import matplotlib.pyplot as plt\n",
        "from plotly import __version__\n",
        "from plotly.offline import download_plotlyjs, init_notebook_mode, plot, iplot\n",
        "import cufflinks as cf"
      ],
      "execution_count": null,
      "outputs": []
    },
    {
      "cell_type": "code",
      "metadata": {
        "id": "-mdQ4dfRkGvm",
        "outputId": "4d23eae1-415e-4af8-bcbc-6364280e7cf2"
      },
      "source": [
        "# For Notebooks\n",
        "init_notebook_mode(connected=True)\n",
        "\n",
        "# For offline use\n",
        "cf.go_offline()"
      ],
      "execution_count": null,
      "outputs": [
        {
          "output_type": "display_data",
          "data": {
            "text/html": [
              "        <script type=\"text/javascript\">\n",
              "        window.PlotlyConfig = {MathJaxConfig: 'local'};\n",
              "        if (window.MathJax) {MathJax.Hub.Config({SVG: {font: \"STIX-Web\"}});}\n",
              "        if (typeof require !== 'undefined') {\n",
              "        require.undef(\"plotly\");\n",
              "        requirejs.config({\n",
              "            paths: {\n",
              "                'plotly': ['https://cdn.plot.ly/plotly-latest.min']\n",
              "            }\n",
              "        });\n",
              "        require(['plotly'], function(Plotly) {\n",
              "            window._Plotly = Plotly;\n",
              "        });\n",
              "        }\n",
              "        </script>\n",
              "        "
            ]
          },
          "metadata": {
            "tags": []
          }
        },
        {
          "output_type": "display_data",
          "data": {
            "text/html": [
              "        <script type=\"text/javascript\">\n",
              "        window.PlotlyConfig = {MathJaxConfig: 'local'};\n",
              "        if (window.MathJax) {MathJax.Hub.Config({SVG: {font: \"STIX-Web\"}});}\n",
              "        if (typeof require !== 'undefined') {\n",
              "        require.undef(\"plotly\");\n",
              "        requirejs.config({\n",
              "            paths: {\n",
              "                'plotly': ['https://cdn.plot.ly/plotly-latest.min']\n",
              "            }\n",
              "        });\n",
              "        require(['plotly'], function(Plotly) {\n",
              "            window._Plotly = Plotly;\n",
              "        });\n",
              "        }\n",
              "        </script>\n",
              "        "
            ]
          },
          "metadata": {
            "tags": []
          }
        }
      ]
    },
    {
      "cell_type": "markdown",
      "metadata": {
        "id": "2LVS7vnMkGvn"
      },
      "source": [
        "### Define a global variable for the folder name that contains the json files of the papers"
      ]
    },
    {
      "cell_type": "code",
      "metadata": {
        "id": "htX8sqf0kGvn"
      },
      "source": [
        "DATA_DIR = 'archive'"
      ],
      "execution_count": null,
      "outputs": []
    },
    {
      "cell_type": "markdown",
      "metadata": {
        "id": "rLa1fVXjkGvn"
      },
      "source": [
        "### Working with meta data file\n",
        "\n",
        "First read in the meta data file to filter the papers for the time frame we want."
      ]
    },
    {
      "cell_type": "code",
      "metadata": {
        "id": "S3HCJ_o3kGvn"
      },
      "source": [
        "def meta_data(folder_name, metadata = \"metadata.csv\"):\n",
        "    ''' Function that takes in the folder name and returns the data fram fro the meta data\n",
        "    \n",
        "    :param folder_name: name of folder where covid data is located\n",
        "    :param metadata: file name for where metadata is saved\n",
        "    :return: data frame of the metadata\n",
        "    \n",
        "    '''\n",
        "    \n",
        "    file_name = os.path.join(os.getcwd(),folder_name, metadata )\n",
        "    data = pd.read_csv((file_name), usecols=['pdf_json_files', 'publish_time'], encoding= 'utf-8')\n",
        "    return data"
      ],
      "execution_count": null,
      "outputs": []
    },
    {
      "cell_type": "code",
      "metadata": {
        "id": "mXtp1I0hkGvn"
      },
      "source": [
        "def json_files(start_date = '2020-05-01', end_date = '2020-05-31'):\n",
        "    '''Function that filters the meta data file for a time frame we want. \n",
        "    If nothing specified, first week of may will be used\n",
        "    \n",
        "    :param start_date: reading in the json files from when they were published \n",
        "    :param end_date: reading in the json files until when they were published \n",
        "    :return: lisf of json file names that are within the specified publication date\n",
        "    \n",
        "    '''\n",
        "    \n",
        "    global DATA_DIR\n",
        "    \n",
        "    file = meta_data(DATA_DIR)\n",
        "    file['publication_date'] = pd.to_datetime(file['publish_time'])\n",
        "    may_first_week = file[(file['publication_date'] > start_date) & (file['publication_date'] <= end_date)]\n",
        "    \n",
        "    return list(may_first_week['pdf_json_files'].dropna())"
      ],
      "execution_count": null,
      "outputs": []
    },
    {
      "cell_type": "markdown",
      "metadata": {
        "id": "AFekr9N8kGvn"
      },
      "source": [
        "### 1. Encountered Problem: Files that contain multiple papers\n",
        "\n",
        "I observed that some of the files contain more than one paper which makes it harder for us to read them in individually. For that, we will bring all our json files into same format of containing 1 file per document."
      ]
    },
    {
      "cell_type": "code",
      "metadata": {
        "id": "_A_wbADtkGvn"
      },
      "source": [
        "#Those files were separated by ; sign instead of , sign.\n",
        "\n",
        "all_files = []\n",
        "for file in json_files():\n",
        "    all_files.extend(map(str.strip, file.split(\";\")))\n"
      ],
      "execution_count": null,
      "outputs": []
    },
    {
      "cell_type": "markdown",
      "metadata": {
        "id": "MGpI6lpQkGvn"
      },
      "source": [
        "### Extracting only the columns needed for our analysis \n",
        "\n",
        "Some of the code was take from: https://www.kaggle.com/davidbetancur8/symptoms-word-cloud"
      ]
    },
    {
      "cell_type": "code",
      "metadata": {
        "id": "KL-LLTASkGvn"
      },
      "source": [
        "def read_json_files(file_list = all_files):\n",
        "    \n",
        "    '''Function that takes in date filtered json files and outputs a data frame with only 3 columns:\n",
        "    paper_id, title and body text of the paper\n",
        "    \n",
        "    :param file_list: list of json files that will be read in by locating in the directory \n",
        "    :return: return a data frame of those json files with three columns only \"paper_id\", \"title\", \"full_text\"\n",
        "    \n",
        "    '''\n",
        "    docs = []\n",
        "    for file in file_list:\n",
        "        file_name = os.path.join(os.getcwd(),DATA_DIR, file)\n",
        "        with open(file_name) as f:\n",
        "            data_json = json.load(f)\n",
        "                        \n",
        "            \n",
        "        title = data_json[\"metadata\"][\"title\"]\n",
        "        paper_id = data_json['paper_id']\n",
        "        \n",
        "\n",
        "        full_text = \"\"\n",
        "        i = 1\n",
        "        for text in data_json[\"body_text\"]:\n",
        "            i+=1\n",
        "            full_text += text[\"text\"]\n",
        "        docs.append([paper_id, title, full_text])\n",
        "\n",
        "    df = pd.DataFrame(docs, columns=[\"paper_id\", \"title\", \"full_text\"])\n",
        "\n",
        "    return df\n",
        "    "
      ],
      "execution_count": null,
      "outputs": []
    },
    {
      "cell_type": "markdown",
      "metadata": {
        "id": "rzhmpqhLkGvn"
      },
      "source": [
        "### Extracting sentences that contain systoms "
      ]
    },
    {
      "cell_type": "markdown",
      "metadata": {
        "id": "pWTLuzickGvn"
      },
      "source": [
        "Defining the symptoms that we will extract from our sentences. The list was taken from: https://www.kaggle.com/davidbetancur8/symptoms-word-cloud\n",
        "\n",
        "The list was modified by Max to have more up to date symptoms and I added in the following symptoms which were taken from CDC's website or I observed them frequintly in the papers:\n",
        "\n",
        "    -\"difficulty breathing\"\n",
        "    -\"muscle ache\"\n",
        "    -\"congestion\"\n",
        "    -\"runny nose\"\n",
        "    -\"trouble breathing\"\n",
        "    -\"persistent pain\"\n",
        "    -\"pressure in the chest\"\n",
        "    -\"inability to wake\"\n",
        "    -\"stay awake\"\n",
        "    -\"bluish lips\"\n",
        "    -\"bluish face\"\n",
        "    -\"fevers\"\n",
        "    -\"decreased appetite\""
      ]
    },
    {
      "cell_type": "code",
      "metadata": {
        "id": "H6lhAcD7kGvn"
      },
      "source": [
        "symptoms = [\n",
        "    \"weight loss\",\"chills\",\"shivering\",\"convulsions\",\"deformity\",\"discharge\",\"dizziness\", \"lymphopenia\", \"sneezing\",\n",
        "    \"vertigo\",\"fatigue\",\"malaise\",\"asthenia\",\"hypothermia\",\"jaundice\",\"muscle weakness\", \"chest discomfort\",\n",
        "    \"pyrexia\",\"sweats\",\"swelling\",\"swollen\",\"painful lymph node\",\"weight gain\",\"arrhythmia\", \"loss of smell\", \n",
        "    \"loss of appetite\", \"loss of taste\", \"bradycardia\",\"chest pain\",\"claudication\",\"palpitations\",\"tachycardia\",\n",
        "    \"dry mouth\",\"epistaxis\", \"dysgeusia\", \"hypersomnia\", \"taste loss\", \"halitosis\",\"hearing loss\",\"nasal discharge\", \n",
        "    \"nasal inflammation\", \"otalgia\",\"otorrhea\",\"sore throat\",\"toothache\",\"tinnitus\", \"dysphonia\",\n",
        "    \"trismus\",\"abdominal pain\",\"fever\",\"bloating\",\"belching\",\"bleeding\",\"bloody stool\",\"melena\",\"hematochezia\", \n",
        "    \"burning sensation in the chest\", \"constipation\",\"diarrhea\",\"dysphagia\",\"dyspepsia\",\"fecal incontinence\",\n",
        "    \"flatulence\", \"heartburn\", \"chest tightness\", \"chest pressure\",\"nausea\",\"odynophagia\",\"proctalgia fugax\",\n",
        "    \"pyrosis\",\"steatorrhea\",\"vomiting\",\"alopecia\",\"hirsutism\", \"tachypnoea\", \"nasal obstruction\",\n",
        "    \"hypertrichosis\",\"abrasion\",\"anasarca\",\"bleeding into skin\",\"petechia\",\"purpura\",\"ecchymosis\", \"bruising\", \n",
        "    \"blister\",\"edema\",\"itching\",\"laceration\",\"rash\",\"urticaria\",\"abnormal posturing\",\"acalculia\",\"agnosia\",\"alexia\",\n",
        "    \"amnesia\",\"anomia\",\"anosognosia\",\"aphasia\",\"apraxia\",\"ataxia\",\"cataplexy\",\"confusion\",\"dysarthria\", \n",
        "    \"nasal congestion\",\"dysdiadochokinesia\",\"dysgraphia\",\"hallucination\",\"headache\",\"akinesia\",\"bradykinesia\",\n",
        "    \"ballismus\",\"blepharospasm\",\"chorea\",\"dystonia\",\"fasciculation\",\"muscle cramps\",\"myoclonus\",\"opsoclonus\",\n",
        "    \"tremor\",\"flapping tremor\",\"insomnia\",\"loss of consciousness\",\"syncope\",\"neck stiffness\",\"opisthotonus\",\n",
        "    \"paralysis\",\"paresis\",\"paresthesia\",\"prosopagnosia\",\"somnolence\",\"abnormal vaginal bleeding\", \"neuralgia\",\n",
        "    \"vaginal bleeding in early pregnancy\", \"miscarriage\",\"vaginal bleeding in late pregnancy\",\"amenorrhea\", \"body aches\",\n",
        "    \"infertility\",\"painful intercourse\",\"pelvic pain\",\"vaginal discharge\",\"amaurosis fugax\",\"amaurosis\", \"skin lesions\",\n",
        "    \"blurred vision\",\"double vision\",\"exophthalmos\",\"mydriasis\",\"miosis\",\"nystagmus\",\"amusia\",\"anhedonia\",\n",
        "    \"anxiety\",\"apathy\",\"confabulation\",\"depression\",\"delusion\",\"euphoria\",\"homicidal ideation\",\"irritability\",\n",
        "    \"mania\",\"paranoid ideation\",\"suicidal ideation\",\"apnea\",\"hypopnea\",\"cough\",\"dyspnea\",\"bradypnea\",\"tachypnea\",\n",
        "    \"orthopnea\",\"platypnea\",\"trepopnea\",\"hemoptysis\",\"pleuritic chest pain\",\"sputum production\",\"arthralgia\",\n",
        "    \"back pain\",\"sciatica\",\"urologic\",\"dysuria\",\"hematospermia\",\"hematuria\",\"impotence\",\"polyuria\",\n",
        "    \"retrograde ejaculation\",\"strangury\",\"urethral discharge\",\"urinary frequency\",\"urinary incontinence\", \n",
        "    \"anosmia\", \"myalgia\", \"rhinorrhea\", \"shortness of breath\", \"difficulty breathing\", \"muscle ache\", \"congestion\",\n",
        "    \"runny nose\", \"trouble breathing\", \"persistent pain\", \"pressure in the chest\", \"inability to wake\", \"stay awake\",\n",
        "    \"bluish lips\", \"bluish face\",\"akathisia\",\"athetosis\", \"urinary retention\", \"fevers\", \n",
        "    \"decreased appetite\"]"
      ],
      "execution_count": null,
      "outputs": []
    },
    {
      "cell_type": "code",
      "metadata": {
        "id": "_875jKnYkGvn",
        "outputId": "b4b08484-e33b-4c71-c31d-0172ac3c51ba"
      },
      "source": [
        "len(symptoms)"
      ],
      "execution_count": null,
      "outputs": [
        {
          "output_type": "execute_result",
          "data": {
            "text/plain": [
              "209"
            ]
          },
          "metadata": {
            "tags": []
          },
          "execution_count": 10
        }
      ]
    },
    {
      "cell_type": "markdown",
      "metadata": {
        "id": "11EUbVRokGvn"
      },
      "source": [
        "## Check the papers that contain the words in  our list of symptoms and then extract those sentences only"
      ]
    },
    {
      "cell_type": "markdown",
      "metadata": {
        "id": "bCDOjo9hkGvn"
      },
      "source": [
        "### 2. Encountered problem: Not being able to use the data frame with title column"
      ]
    },
    {
      "cell_type": "markdown",
      "metadata": {
        "id": "YEXBG6YPkGvn"
      },
      "source": [
        "I had to create a seperate data frame without the title column to work on as it kept getting mixed with the full text when using nltk.tokenize. \n",
        "\n",
        "I spent quite long time on this figure out why it was happening therefore, decided to use the data frame with paper id and fulltext only."
      ]
    },
    {
      "cell_type": "code",
      "metadata": {
        "id": "I8N5a7rbkGvn"
      },
      "source": [
        "data_frame = read_json_files()"
      ],
      "execution_count": null,
      "outputs": []
    },
    {
      "cell_type": "code",
      "metadata": {
        "id": "9UEKi0dHkGvn"
      },
      "source": [
        "df_no_title = data_frame[['paper_id', 'full_text']]"
      ],
      "execution_count": null,
      "outputs": []
    },
    {
      "cell_type": "markdown",
      "metadata": {
        "id": "XjaU1d1tkGvn"
      },
      "source": [
        "## nltk.tokenize\n",
        "\n",
        "I used nltk.tokenize to split the full text into one sentence per row"
      ]
    },
    {
      "cell_type": "code",
      "metadata": {
        "id": "Slxmv68BkGvn"
      },
      "source": [
        "# sentences = []\n",
        "\n",
        "# m = re.split(r'(?<=[^A-Z].[.?]) +(?=[A-Z])', s)\n",
        "# for row in df_no_title.itertuples():            \n",
        "#      for sentence in sent_tokenize(row[2]):\n",
        "#             sentences.append((row[1], sentence))\n",
        "    \n",
        "# new_df = pd.DataFrame(sentences, columns=['Paper_Id', 'Sentence'])"
      ],
      "execution_count": null,
      "outputs": []
    },
    {
      "cell_type": "code",
      "metadata": {
        "id": "BKeKAJTpkGvn"
      },
      "source": [
        "def split_sentences(df):\n",
        "    sentences = []\n",
        "    sentence_pattern = r'(?<=[^A-Z].[.?]) +(?=[A-Z])'\n",
        "\n",
        "    for row in df.itertuples():            \n",
        "         for sentence in re.split(sentence_pattern, row[2]):\n",
        "                sentences.append((row[1], sentence))\n",
        "\n",
        "    new_df = pd.DataFrame(sentences, columns=['Paper_Id', 'Sentence'])\n",
        "    return new_df"
      ],
      "execution_count": null,
      "outputs": []
    },
    {
      "cell_type": "code",
      "metadata": {
        "id": "GVte_4QBkGvn"
      },
      "source": [
        "new_df = split_sentences(df_no_title)"
      ],
      "execution_count": null,
      "outputs": []
    },
    {
      "cell_type": "code",
      "metadata": {
        "id": "dlb1yWMukGvn",
        "outputId": "ec31b0e9-0aa0-4b4a-b9ac-cedc9abf7688"
      },
      "source": [
        "new_df.head()"
      ],
      "execution_count": null,
      "outputs": [
        {
          "output_type": "execute_result",
          "data": {
            "text/html": [
              "<div>\n",
              "<style scoped>\n",
              "    .dataframe tbody tr th:only-of-type {\n",
              "        vertical-align: middle;\n",
              "    }\n",
              "\n",
              "    .dataframe tbody tr th {\n",
              "        vertical-align: top;\n",
              "    }\n",
              "\n",
              "    .dataframe thead th {\n",
              "        text-align: right;\n",
              "    }\n",
              "</style>\n",
              "<table border=\"1\" class=\"dataframe\">\n",
              "  <thead>\n",
              "    <tr style=\"text-align: right;\">\n",
              "      <th></th>\n",
              "      <th>Paper_Id</th>\n",
              "      <th>Sentence</th>\n",
              "    </tr>\n",
              "  </thead>\n",
              "  <tbody>\n",
              "    <tr>\n",
              "      <td>0</td>\n",
              "      <td>b72d2b2b61a0334faef085bdae3262394a1742d2</td>\n",
              "      <td>During a virtual news conference in Geneva, Sw...</td>\n",
              "    </tr>\n",
              "    <tr>\n",
              "      <td>1</td>\n",
              "      <td>b72d2b2b61a0334faef085bdae3262394a1742d2</td>\n",
              "      <td>Cantrell and 212 other mayors sounded the alar...</td>\n",
              "    </tr>\n",
              "    <tr>\n",
              "      <td>2</td>\n",
              "      <td>b72d2b2b61a0334faef085bdae3262394a1742d2</td>\n",
              "      <td>Some healthcare workers have resorted to searc...</td>\n",
              "    </tr>\n",
              "    <tr>\n",
              "      <td>3</td>\n",
              "      <td>b72d2b2b61a0334faef085bdae3262394a1742d2</td>\n",
              "      <td>From a warehouse in Baltimore, Maryland, owned...</td>\n",
              "    </tr>\n",
              "    <tr>\n",
              "      <td>4</td>\n",
              "      <td>b72d2b2b61a0334faef085bdae3262394a1742d2</td>\n",
              "      <td>What can be washed and reused?</td>\n",
              "    </tr>\n",
              "  </tbody>\n",
              "</table>\n",
              "</div>"
            ],
            "text/plain": [
              "                                   Paper_Id  \\\n",
              "0  b72d2b2b61a0334faef085bdae3262394a1742d2   \n",
              "1  b72d2b2b61a0334faef085bdae3262394a1742d2   \n",
              "2  b72d2b2b61a0334faef085bdae3262394a1742d2   \n",
              "3  b72d2b2b61a0334faef085bdae3262394a1742d2   \n",
              "4  b72d2b2b61a0334faef085bdae3262394a1742d2   \n",
              "\n",
              "                                            Sentence  \n",
              "0  During a virtual news conference in Geneva, Sw...  \n",
              "1  Cantrell and 212 other mayors sounded the alar...  \n",
              "2  Some healthcare workers have resorted to searc...  \n",
              "3  From a warehouse in Baltimore, Maryland, owned...  \n",
              "4                     What can be washed and reused?  "
            ]
          },
          "metadata": {
            "tags": []
          },
          "execution_count": 328
        }
      ]
    },
    {
      "cell_type": "markdown",
      "metadata": {
        "id": "jYi_IQo5kGvn"
      },
      "source": [
        "\n",
        "Added in the Sentence ID column to keep track of which sentences will be retreived when we check for the symptoms in each sentence. Started the id values from 1 thus the increment of 1 on the existing data frame index."
      ]
    },
    {
      "cell_type": "code",
      "metadata": {
        "id": "iWBDRmljkGvn"
      },
      "source": [
        "new_df['Sentence_ID'] = new_df.index + 1"
      ],
      "execution_count": null,
      "outputs": []
    },
    {
      "cell_type": "markdown",
      "metadata": {
        "id": "xpIGg8_0kGvn"
      },
      "source": [
        "### Final data frame that only includes sentences from each text that contains any of the symptoms from our list of symptoms"
      ]
    },
    {
      "cell_type": "code",
      "metadata": {
        "id": "6b7lnctykGvn"
      },
      "source": [
        "def sentence_w_symptoms(df, sym):\n",
        "    # match beginning of words and end of words for symptoms, not partial\n",
        "    pattern = '\\\\b' + '\\\\b|\\\\b'.join(sym) + '\\\\b'\n",
        "    final_df = df[df['Sentence'].str.contains(pattern, flags = re.IGNORECASE)].copy()\n",
        "    return final_df\n"
      ],
      "execution_count": null,
      "outputs": []
    },
    {
      "cell_type": "code",
      "metadata": {
        "id": "5nd9YcBUkGvn"
      },
      "source": [
        "final_df = sentence_w_symptoms(new_df, symptoms)"
      ],
      "execution_count": null,
      "outputs": []
    },
    {
      "cell_type": "code",
      "metadata": {
        "id": "dHwB75ntkGvn",
        "outputId": "632b79fa-f1bb-4a54-eed5-e62776a8c3a9"
      },
      "source": [
        "final_df['Sentence'].head()"
      ],
      "execution_count": null,
      "outputs": [
        {
          "output_type": "execute_result",
          "data": {
            "text/plain": [
              "96     Subjects who died in hospital were significant...\n",
              "202    We retrospectively analyzed medical charts of ...\n",
              "203    The patient first had 4-5 episodes of watery d...\n",
              "205    However, she returned to the ED the next day w...\n",
              "217    The patient reported an overall improvement in...\n",
              "Name: Sentence, dtype: object"
            ]
          },
          "metadata": {
            "tags": []
          },
          "execution_count": 247
        }
      ]
    },
    {
      "cell_type": "markdown",
      "metadata": {
        "id": "0jGJdpH4kGvn"
      },
      "source": [
        "### Rearranged the display of the columns"
      ]
    },
    {
      "cell_type": "code",
      "metadata": {
        "id": "CJGHyWKgkGvn"
      },
      "source": [
        "columnsTitles = ['Paper_Id', 'Sentence_ID', 'Sentence']\n",
        "\n",
        "covid_df = final_df.reindex(columns=columnsTitles)"
      ],
      "execution_count": null,
      "outputs": []
    },
    {
      "cell_type": "markdown",
      "metadata": {
        "id": "gCC-_4FwkGvn"
      },
      "source": [
        "## Characteristics of data\n",
        "\n",
        "Create a program that will take a csv file and report:\n",
        " - number of sentences\n",
        " - number of sentences with terms\n",
        " - individual term counts (how many times each term appears\n",
        " - given a collection of symptom terms X in a csv file, for each term in X, its count in the collection, sorted in descending order"
      ]
    },
    {
      "cell_type": "markdown",
      "metadata": {
        "id": "YCe8GP2okGvn"
      },
      "source": [
        "## Function that produces total number of sentences, papers and the ones that include our symptoms "
      ]
    },
    {
      "cell_type": "code",
      "metadata": {
        "id": "XDF96lGXkGvn"
      },
      "source": [
        "def char_of_data(df):\n",
        "    '''\n",
        "    functiono produces data characteristics such as number of sentences in the data frame, how many of those have \n",
        "    any of the symptoms and how many times each smyptom accour in these sentences. \n",
        "    \n",
        "    :param df: data frame that includes the sentence and paper_id for our data\n",
        "    returns sorted in descending order of the symptoms and the summary \n",
        "    '''\n",
        "    print('Total number of papers published in the month of May', len(new_df['Paper_Id'].unique()))\n",
        "    print('Total number of sentences from the papers that are published in the given time frame is', len(new_df['Sentence']))\n",
        "    print('Total number of sentences in the final data frame with symptoms is', len(df['Sentence']))\n",
        "    print('Total number of unique papers in the final data frame is', len(df['Paper_Id'].unique()))\n"
      ],
      "execution_count": null,
      "outputs": []
    },
    {
      "cell_type": "code",
      "metadata": {
        "id": "UlXMxJkskGvn",
        "outputId": "dd8be7ff-748e-4fc3-ecdd-1742d9009b61"
      },
      "source": [
        "char_of_data(covid_df)"
      ],
      "execution_count": null,
      "outputs": [
        {
          "output_type": "stream",
          "text": [
            "Total number of papers published in the month of May 12228\n",
            "Total number of sentences from the papers that are published in the given time frame is 1117912\n",
            "Total number of sentences in the final data frame with symptoms is 28279\n",
            "Total number of unique papers in the final data frame is 5970\n"
          ],
          "name": "stdout"
        }
      ]
    },
    {
      "cell_type": "markdown",
      "metadata": {
        "id": "a4K3WKgVkGvo"
      },
      "source": [
        "## Function that produces the count of symptoms in the given data frame"
      ]
    },
    {
      "cell_type": "code",
      "metadata": {
        "id": "cdAggau4kGvo"
      },
      "source": [
        "def symptoms_df(df_sym, symp = symptoms):\n",
        "    \n",
        "    df_test= df_sym.Sentence.str.extractall('({})'.format('|'.join(symp)), flags = re.IGNORECASE)\\\n",
        "                           .iloc[:, 0].str.get_dummies().sum(level=0)\n",
        "    sum_column = df_test.sum(axis=0)\n",
        "\n",
        "    df_symptom_count = pd.DataFrame({'Symptoms':sum_column.index, 'Counts':sum_column.values})\n",
        "    df_symptom_count['Symptoms'] = df_symptom_count['Symptoms'].str.lower()\n",
        "    sym_df = df_symptom_count.groupby('Symptoms').sum().sort_values(['Counts'],ascending=False)\n",
        "    return sym_df"
      ],
      "execution_count": null,
      "outputs": []
    },
    {
      "cell_type": "code",
      "metadata": {
        "scrolled": true,
        "id": "blR8x--MkGvo"
      },
      "source": [
        "sym_df = symptoms_df(covid_df)"
      ],
      "execution_count": null,
      "outputs": []
    },
    {
      "cell_type": "code",
      "metadata": {
        "scrolled": true,
        "id": "GGbrkZLDkGvo",
        "outputId": "549e6276-05a7-4acc-afad-c0af1da09fe2"
      },
      "source": [
        "sym_df.head()"
      ],
      "execution_count": null,
      "outputs": [
        {
          "output_type": "execute_result",
          "data": {
            "text/html": [
              "<div>\n",
              "<style scoped>\n",
              "    .dataframe tbody tr th:only-of-type {\n",
              "        vertical-align: middle;\n",
              "    }\n",
              "\n",
              "    .dataframe tbody tr th {\n",
              "        vertical-align: top;\n",
              "    }\n",
              "\n",
              "    .dataframe thead th {\n",
              "        text-align: right;\n",
              "    }\n",
              "</style>\n",
              "<table border=\"1\" class=\"dataframe\">\n",
              "  <thead>\n",
              "    <tr style=\"text-align: right;\">\n",
              "      <th></th>\n",
              "      <th>Counts</th>\n",
              "    </tr>\n",
              "    <tr>\n",
              "      <th>Symptoms</th>\n",
              "      <th></th>\n",
              "    </tr>\n",
              "  </thead>\n",
              "  <tbody>\n",
              "    <tr>\n",
              "      <td>fever</td>\n",
              "      <td>7145</td>\n",
              "    </tr>\n",
              "    <tr>\n",
              "      <td>anxiety</td>\n",
              "      <td>5129</td>\n",
              "    </tr>\n",
              "    <tr>\n",
              "      <td>cough</td>\n",
              "      <td>4759</td>\n",
              "    </tr>\n",
              "    <tr>\n",
              "      <td>depression</td>\n",
              "      <td>2988</td>\n",
              "    </tr>\n",
              "    <tr>\n",
              "      <td>discharge</td>\n",
              "      <td>2560</td>\n",
              "    </tr>\n",
              "  </tbody>\n",
              "</table>\n",
              "</div>"
            ],
            "text/plain": [
              "            Counts\n",
              "Symptoms          \n",
              "fever         7145\n",
              "anxiety       5129\n",
              "cough         4759\n",
              "depression    2988\n",
              "discharge     2560"
            ]
          },
          "metadata": {
            "tags": []
          },
          "execution_count": 204
        }
      ]
    },
    {
      "cell_type": "markdown",
      "metadata": {
        "id": "gqe6w-BrkGvo"
      },
      "source": [
        "### Visualization of symptom counts"
      ]
    },
    {
      "cell_type": "code",
      "metadata": {
        "id": "5xq4le0AkGvo",
        "outputId": "b07734a3-7e1d-4bef-98a3-8ab45ab0bbd9"
      },
      "source": [
        "sym_df.iplot(kind='scatter',y='Counts',mode='markers',size=10)"
      ],
      "execution_count": null,
      "outputs": [
        {
          "output_type": "display_data",
          "data": {
            "application/vnd.plotly.v1+json": {
              "config": {
                "linkText": "Export to plot.ly",
                "plotlyServerURL": "https://plot.ly",
                "showLink": true
              },
              "data": [
                {
                  "line": {
                    "color": "rgba(255, 153, 51, 1.0)",
                    "dash": "solid",
                    "shape": "linear",
                    "width": 1.3
                  },
                  "marker": {
                    "size": 10,
                    "symbol": "circle"
                  },
                  "mode": "markers",
                  "name": "Counts",
                  "text": "",
                  "type": "scatter",
                  "x": [
                    "fever",
                    "anxiety",
                    "cough",
                    "depression",
                    "discharge",
                    "diarrhea",
                    "fatigue",
                    "dyspnea",
                    "bleeding",
                    "headache",
                    "edema",
                    "lymphopenia",
                    "shortness of breath",
                    "anosmia",
                    "vomiting",
                    "confusion",
                    "nausea",
                    "myalgia",
                    "sore throat",
                    "urologic",
                    "rash",
                    "sneezing",
                    "abdominal pain",
                    "congestion",
                    "arrhythmia",
                    "chest pain",
                    "weight loss",
                    "tachycardia",
                    "insomnia",
                    "dizziness",
                    "swelling",
                    "dysgeusia",
                    "chills",
                    "loss of smell",
                    "urticaria",
                    "malaise",
                    "paralysis",
                    "dysphagia",
                    "rhinorrhea",
                    "nasal congestion",
                    "ataxia",
                    "suicidal ideation",
                    "skin lesions",
                    "apnea",
                    "weight gain",
                    "loss of taste",
                    "runny nose",
                    "bradycardia",
                    "nasal obstruction",
                    "chest tightness",
                    "sputum production",
                    "tachypnea",
                    "hemoptysis",
                    "itching",
                    "hearing loss",
                    "hematuria",
                    "asthenia",
                    "syncope",
                    "loss of appetite",
                    "miscarriage",
                    "arthralgia",
                    "back pain",
                    "difficulty breathing",
                    "infertility",
                    "irritability",
                    "constipation",
                    "epistaxis",
                    "tremor",
                    "jaundice",
                    "paresis",
                    "pyrexia",
                    "alopecia",
                    "muscle ache",
                    "deformity",
                    "palpitations",
                    "swollen",
                    "taste loss",
                    "purpura",
                    "hypothermia",
                    "mania",
                    "muscle weakness",
                    "nasal discharge",
                    "convulsions",
                    "petechia",
                    "body aches",
                    "loss of consciousness",
                    "laceration",
                    "neuralgia",
                    "tachypnoea",
                    "tinnitus",
                    "urinary retention",
                    "paresthesia",
                    "blister",
                    "apathy",
                    "decreased appetite",
                    "aphasia",
                    "myoclonus",
                    "dysarthria",
                    "somnolence",
                    "anhedonia",
                    "shivering",
                    "delusion",
                    "abrasion",
                    "polyuria",
                    "hallucination",
                    "chest discomfort",
                    "exophthalmos",
                    "melena",
                    "dysuria",
                    "neck stiffness",
                    "blurred vision",
                    "sweats",
                    "urinary frequency",
                    "vertigo",
                    "bloating",
                    "urinary incontinence",
                    "bruising",
                    "pleuritic chest pain",
                    "odynophagia",
                    "sciatica",
                    "dry mouth",
                    "euphoria",
                    "bradykinesia",
                    "dyspepsia",
                    "orthopnea",
                    "dystonia",
                    "impotence",
                    "vaginal discharge",
                    "nasal inflammation",
                    "claudication",
                    "flatulence",
                    "persistent pain",
                    "nystagmus",
                    "toothache",
                    "paranoid ideation",
                    "mydriasis",
                    "trismus",
                    "chest pressure",
                    "amnesia",
                    "trouble breathing",
                    "ecchymosis",
                    "amenorrhea",
                    "hypopnea",
                    "bluish lips",
                    "heartburn",
                    "belching",
                    "bloody stool",
                    "pressure in the chest",
                    "pelvic pain",
                    "otalgia",
                    "hirsutism",
                    "hematochezia",
                    "dysphonia",
                    "muscle cramps",
                    "akinesia",
                    "stay awake",
                    "miosis",
                    "chorea",
                    "fasciculation",
                    "amaurosis",
                    "bradypnea",
                    "hypersomnia",
                    "anasarca",
                    "otorrhea",
                    "blepharospasm",
                    "double vision",
                    "apraxia",
                    "depressıon",
                    "anomia",
                    "urethral discharge",
                    "akathisia",
                    "inability to wake",
                    "burning sensation in the chest",
                    "steatorrhea",
                    "amaurosis fugax",
                    "retrograde ejaculation",
                    "dysdiadochokinesia",
                    "dysgraphia",
                    "opisthotonus",
                    "anosognosia",
                    "halitosis",
                    "platypnea"
                  ],
                  "y": [
                    7145,
                    5129,
                    4759,
                    2988,
                    2560,
                    1583,
                    1393,
                    1358,
                    1206,
                    1133,
                    1074,
                    1048,
                    1026,
                    944,
                    909,
                    786,
                    733,
                    719,
                    651,
                    603,
                    579,
                    501,
                    490,
                    439,
                    415,
                    409,
                    398,
                    325,
                    294,
                    245,
                    238,
                    222,
                    222,
                    213,
                    205,
                    200,
                    185,
                    175,
                    174,
                    158,
                    154,
                    153,
                    151,
                    144,
                    143,
                    142,
                    129,
                    127,
                    122,
                    115,
                    114,
                    113,
                    107,
                    99,
                    95,
                    93,
                    91,
                    89,
                    84,
                    84,
                    84,
                    77,
                    75,
                    74,
                    74,
                    72,
                    70,
                    69,
                    66,
                    66,
                    66,
                    62,
                    61,
                    60,
                    59,
                    56,
                    56,
                    55,
                    55,
                    48,
                    48,
                    48,
                    47,
                    46,
                    43,
                    37,
                    37,
                    36,
                    35,
                    33,
                    32,
                    30,
                    30,
                    30,
                    30,
                    28,
                    27,
                    27,
                    27,
                    26,
                    26,
                    26,
                    25,
                    24,
                    24,
                    22,
                    22,
                    22,
                    21,
                    19,
                    18,
                    16,
                    16,
                    16,
                    15,
                    15,
                    15,
                    15,
                    14,
                    13,
                    13,
                    12,
                    11,
                    11,
                    10,
                    10,
                    10,
                    9,
                    8,
                    8,
                    8,
                    8,
                    7,
                    7,
                    7,
                    7,
                    6,
                    6,
                    6,
                    6,
                    6,
                    5,
                    5,
                    5,
                    5,
                    5,
                    5,
                    4,
                    4,
                    4,
                    4,
                    4,
                    4,
                    4,
                    4,
                    3,
                    3,
                    3,
                    3,
                    3,
                    3,
                    2,
                    2,
                    2,
                    2,
                    2,
                    2,
                    2,
                    2,
                    1,
                    1,
                    1,
                    1,
                    1,
                    1,
                    1,
                    1,
                    1,
                    1,
                    1,
                    1,
                    1
                  ]
                }
              ],
              "layout": {
                "legend": {
                  "bgcolor": "#F5F6F9",
                  "font": {
                    "color": "#4D5663"
                  }
                },
                "paper_bgcolor": "#F5F6F9",
                "plot_bgcolor": "#F5F6F9",
                "template": {
                  "data": {
                    "bar": [
                      {
                        "error_x": {
                          "color": "#2a3f5f"
                        },
                        "error_y": {
                          "color": "#2a3f5f"
                        },
                        "marker": {
                          "line": {
                            "color": "#E5ECF6",
                            "width": 0.5
                          }
                        },
                        "type": "bar"
                      }
                    ],
                    "barpolar": [
                      {
                        "marker": {
                          "line": {
                            "color": "#E5ECF6",
                            "width": 0.5
                          }
                        },
                        "type": "barpolar"
                      }
                    ],
                    "carpet": [
                      {
                        "aaxis": {
                          "endlinecolor": "#2a3f5f",
                          "gridcolor": "white",
                          "linecolor": "white",
                          "minorgridcolor": "white",
                          "startlinecolor": "#2a3f5f"
                        },
                        "baxis": {
                          "endlinecolor": "#2a3f5f",
                          "gridcolor": "white",
                          "linecolor": "white",
                          "minorgridcolor": "white",
                          "startlinecolor": "#2a3f5f"
                        },
                        "type": "carpet"
                      }
                    ],
                    "choropleth": [
                      {
                        "colorbar": {
                          "outlinewidth": 0,
                          "ticks": ""
                        },
                        "type": "choropleth"
                      }
                    ],
                    "contour": [
                      {
                        "colorbar": {
                          "outlinewidth": 0,
                          "ticks": ""
                        },
                        "colorscale": [
                          [
                            0,
                            "#0d0887"
                          ],
                          [
                            0.1111111111111111,
                            "#46039f"
                          ],
                          [
                            0.2222222222222222,
                            "#7201a8"
                          ],
                          [
                            0.3333333333333333,
                            "#9c179e"
                          ],
                          [
                            0.4444444444444444,
                            "#bd3786"
                          ],
                          [
                            0.5555555555555556,
                            "#d8576b"
                          ],
                          [
                            0.6666666666666666,
                            "#ed7953"
                          ],
                          [
                            0.7777777777777778,
                            "#fb9f3a"
                          ],
                          [
                            0.8888888888888888,
                            "#fdca26"
                          ],
                          [
                            1,
                            "#f0f921"
                          ]
                        ],
                        "type": "contour"
                      }
                    ],
                    "contourcarpet": [
                      {
                        "colorbar": {
                          "outlinewidth": 0,
                          "ticks": ""
                        },
                        "type": "contourcarpet"
                      }
                    ],
                    "heatmap": [
                      {
                        "colorbar": {
                          "outlinewidth": 0,
                          "ticks": ""
                        },
                        "colorscale": [
                          [
                            0,
                            "#0d0887"
                          ],
                          [
                            0.1111111111111111,
                            "#46039f"
                          ],
                          [
                            0.2222222222222222,
                            "#7201a8"
                          ],
                          [
                            0.3333333333333333,
                            "#9c179e"
                          ],
                          [
                            0.4444444444444444,
                            "#bd3786"
                          ],
                          [
                            0.5555555555555556,
                            "#d8576b"
                          ],
                          [
                            0.6666666666666666,
                            "#ed7953"
                          ],
                          [
                            0.7777777777777778,
                            "#fb9f3a"
                          ],
                          [
                            0.8888888888888888,
                            "#fdca26"
                          ],
                          [
                            1,
                            "#f0f921"
                          ]
                        ],
                        "type": "heatmap"
                      }
                    ],
                    "heatmapgl": [
                      {
                        "colorbar": {
                          "outlinewidth": 0,
                          "ticks": ""
                        },
                        "colorscale": [
                          [
                            0,
                            "#0d0887"
                          ],
                          [
                            0.1111111111111111,
                            "#46039f"
                          ],
                          [
                            0.2222222222222222,
                            "#7201a8"
                          ],
                          [
                            0.3333333333333333,
                            "#9c179e"
                          ],
                          [
                            0.4444444444444444,
                            "#bd3786"
                          ],
                          [
                            0.5555555555555556,
                            "#d8576b"
                          ],
                          [
                            0.6666666666666666,
                            "#ed7953"
                          ],
                          [
                            0.7777777777777778,
                            "#fb9f3a"
                          ],
                          [
                            0.8888888888888888,
                            "#fdca26"
                          ],
                          [
                            1,
                            "#f0f921"
                          ]
                        ],
                        "type": "heatmapgl"
                      }
                    ],
                    "histogram": [
                      {
                        "marker": {
                          "colorbar": {
                            "outlinewidth": 0,
                            "ticks": ""
                          }
                        },
                        "type": "histogram"
                      }
                    ],
                    "histogram2d": [
                      {
                        "colorbar": {
                          "outlinewidth": 0,
                          "ticks": ""
                        },
                        "colorscale": [
                          [
                            0,
                            "#0d0887"
                          ],
                          [
                            0.1111111111111111,
                            "#46039f"
                          ],
                          [
                            0.2222222222222222,
                            "#7201a8"
                          ],
                          [
                            0.3333333333333333,
                            "#9c179e"
                          ],
                          [
                            0.4444444444444444,
                            "#bd3786"
                          ],
                          [
                            0.5555555555555556,
                            "#d8576b"
                          ],
                          [
                            0.6666666666666666,
                            "#ed7953"
                          ],
                          [
                            0.7777777777777778,
                            "#fb9f3a"
                          ],
                          [
                            0.8888888888888888,
                            "#fdca26"
                          ],
                          [
                            1,
                            "#f0f921"
                          ]
                        ],
                        "type": "histogram2d"
                      }
                    ],
                    "histogram2dcontour": [
                      {
                        "colorbar": {
                          "outlinewidth": 0,
                          "ticks": ""
                        },
                        "colorscale": [
                          [
                            0,
                            "#0d0887"
                          ],
                          [
                            0.1111111111111111,
                            "#46039f"
                          ],
                          [
                            0.2222222222222222,
                            "#7201a8"
                          ],
                          [
                            0.3333333333333333,
                            "#9c179e"
                          ],
                          [
                            0.4444444444444444,
                            "#bd3786"
                          ],
                          [
                            0.5555555555555556,
                            "#d8576b"
                          ],
                          [
                            0.6666666666666666,
                            "#ed7953"
                          ],
                          [
                            0.7777777777777778,
                            "#fb9f3a"
                          ],
                          [
                            0.8888888888888888,
                            "#fdca26"
                          ],
                          [
                            1,
                            "#f0f921"
                          ]
                        ],
                        "type": "histogram2dcontour"
                      }
                    ],
                    "mesh3d": [
                      {
                        "colorbar": {
                          "outlinewidth": 0,
                          "ticks": ""
                        },
                        "type": "mesh3d"
                      }
                    ],
                    "parcoords": [
                      {
                        "line": {
                          "colorbar": {
                            "outlinewidth": 0,
                            "ticks": ""
                          }
                        },
                        "type": "parcoords"
                      }
                    ],
                    "pie": [
                      {
                        "automargin": true,
                        "type": "pie"
                      }
                    ],
                    "scatter": [
                      {
                        "marker": {
                          "colorbar": {
                            "outlinewidth": 0,
                            "ticks": ""
                          }
                        },
                        "type": "scatter"
                      }
                    ],
                    "scatter3d": [
                      {
                        "line": {
                          "colorbar": {
                            "outlinewidth": 0,
                            "ticks": ""
                          }
                        },
                        "marker": {
                          "colorbar": {
                            "outlinewidth": 0,
                            "ticks": ""
                          }
                        },
                        "type": "scatter3d"
                      }
                    ],
                    "scattercarpet": [
                      {
                        "marker": {
                          "colorbar": {
                            "outlinewidth": 0,
                            "ticks": ""
                          }
                        },
                        "type": "scattercarpet"
                      }
                    ],
                    "scattergeo": [
                      {
                        "marker": {
                          "colorbar": {
                            "outlinewidth": 0,
                            "ticks": ""
                          }
                        },
                        "type": "scattergeo"
                      }
                    ],
                    "scattergl": [
                      {
                        "marker": {
                          "colorbar": {
                            "outlinewidth": 0,
                            "ticks": ""
                          }
                        },
                        "type": "scattergl"
                      }
                    ],
                    "scattermapbox": [
                      {
                        "marker": {
                          "colorbar": {
                            "outlinewidth": 0,
                            "ticks": ""
                          }
                        },
                        "type": "scattermapbox"
                      }
                    ],
                    "scatterpolar": [
                      {
                        "marker": {
                          "colorbar": {
                            "outlinewidth": 0,
                            "ticks": ""
                          }
                        },
                        "type": "scatterpolar"
                      }
                    ],
                    "scatterpolargl": [
                      {
                        "marker": {
                          "colorbar": {
                            "outlinewidth": 0,
                            "ticks": ""
                          }
                        },
                        "type": "scatterpolargl"
                      }
                    ],
                    "scatterternary": [
                      {
                        "marker": {
                          "colorbar": {
                            "outlinewidth": 0,
                            "ticks": ""
                          }
                        },
                        "type": "scatterternary"
                      }
                    ],
                    "surface": [
                      {
                        "colorbar": {
                          "outlinewidth": 0,
                          "ticks": ""
                        },
                        "colorscale": [
                          [
                            0,
                            "#0d0887"
                          ],
                          [
                            0.1111111111111111,
                            "#46039f"
                          ],
                          [
                            0.2222222222222222,
                            "#7201a8"
                          ],
                          [
                            0.3333333333333333,
                            "#9c179e"
                          ],
                          [
                            0.4444444444444444,
                            "#bd3786"
                          ],
                          [
                            0.5555555555555556,
                            "#d8576b"
                          ],
                          [
                            0.6666666666666666,
                            "#ed7953"
                          ],
                          [
                            0.7777777777777778,
                            "#fb9f3a"
                          ],
                          [
                            0.8888888888888888,
                            "#fdca26"
                          ],
                          [
                            1,
                            "#f0f921"
                          ]
                        ],
                        "type": "surface"
                      }
                    ],
                    "table": [
                      {
                        "cells": {
                          "fill": {
                            "color": "#EBF0F8"
                          },
                          "line": {
                            "color": "white"
                          }
                        },
                        "header": {
                          "fill": {
                            "color": "#C8D4E3"
                          },
                          "line": {
                            "color": "white"
                          }
                        },
                        "type": "table"
                      }
                    ]
                  },
                  "layout": {
                    "annotationdefaults": {
                      "arrowcolor": "#2a3f5f",
                      "arrowhead": 0,
                      "arrowwidth": 1
                    },
                    "coloraxis": {
                      "colorbar": {
                        "outlinewidth": 0,
                        "ticks": ""
                      }
                    },
                    "colorscale": {
                      "diverging": [
                        [
                          0,
                          "#8e0152"
                        ],
                        [
                          0.1,
                          "#c51b7d"
                        ],
                        [
                          0.2,
                          "#de77ae"
                        ],
                        [
                          0.3,
                          "#f1b6da"
                        ],
                        [
                          0.4,
                          "#fde0ef"
                        ],
                        [
                          0.5,
                          "#f7f7f7"
                        ],
                        [
                          0.6,
                          "#e6f5d0"
                        ],
                        [
                          0.7,
                          "#b8e186"
                        ],
                        [
                          0.8,
                          "#7fbc41"
                        ],
                        [
                          0.9,
                          "#4d9221"
                        ],
                        [
                          1,
                          "#276419"
                        ]
                      ],
                      "sequential": [
                        [
                          0,
                          "#0d0887"
                        ],
                        [
                          0.1111111111111111,
                          "#46039f"
                        ],
                        [
                          0.2222222222222222,
                          "#7201a8"
                        ],
                        [
                          0.3333333333333333,
                          "#9c179e"
                        ],
                        [
                          0.4444444444444444,
                          "#bd3786"
                        ],
                        [
                          0.5555555555555556,
                          "#d8576b"
                        ],
                        [
                          0.6666666666666666,
                          "#ed7953"
                        ],
                        [
                          0.7777777777777778,
                          "#fb9f3a"
                        ],
                        [
                          0.8888888888888888,
                          "#fdca26"
                        ],
                        [
                          1,
                          "#f0f921"
                        ]
                      ],
                      "sequentialminus": [
                        [
                          0,
                          "#0d0887"
                        ],
                        [
                          0.1111111111111111,
                          "#46039f"
                        ],
                        [
                          0.2222222222222222,
                          "#7201a8"
                        ],
                        [
                          0.3333333333333333,
                          "#9c179e"
                        ],
                        [
                          0.4444444444444444,
                          "#bd3786"
                        ],
                        [
                          0.5555555555555556,
                          "#d8576b"
                        ],
                        [
                          0.6666666666666666,
                          "#ed7953"
                        ],
                        [
                          0.7777777777777778,
                          "#fb9f3a"
                        ],
                        [
                          0.8888888888888888,
                          "#fdca26"
                        ],
                        [
                          1,
                          "#f0f921"
                        ]
                      ]
                    },
                    "colorway": [
                      "#636efa",
                      "#EF553B",
                      "#00cc96",
                      "#ab63fa",
                      "#FFA15A",
                      "#19d3f3",
                      "#FF6692",
                      "#B6E880",
                      "#FF97FF",
                      "#FECB52"
                    ],
                    "font": {
                      "color": "#2a3f5f"
                    },
                    "geo": {
                      "bgcolor": "white",
                      "lakecolor": "white",
                      "landcolor": "#E5ECF6",
                      "showlakes": true,
                      "showland": true,
                      "subunitcolor": "white"
                    },
                    "hoverlabel": {
                      "align": "left"
                    },
                    "hovermode": "closest",
                    "mapbox": {
                      "style": "light"
                    },
                    "paper_bgcolor": "white",
                    "plot_bgcolor": "#E5ECF6",
                    "polar": {
                      "angularaxis": {
                        "gridcolor": "white",
                        "linecolor": "white",
                        "ticks": ""
                      },
                      "bgcolor": "#E5ECF6",
                      "radialaxis": {
                        "gridcolor": "white",
                        "linecolor": "white",
                        "ticks": ""
                      }
                    },
                    "scene": {
                      "xaxis": {
                        "backgroundcolor": "#E5ECF6",
                        "gridcolor": "white",
                        "gridwidth": 2,
                        "linecolor": "white",
                        "showbackground": true,
                        "ticks": "",
                        "zerolinecolor": "white"
                      },
                      "yaxis": {
                        "backgroundcolor": "#E5ECF6",
                        "gridcolor": "white",
                        "gridwidth": 2,
                        "linecolor": "white",
                        "showbackground": true,
                        "ticks": "",
                        "zerolinecolor": "white"
                      },
                      "zaxis": {
                        "backgroundcolor": "#E5ECF6",
                        "gridcolor": "white",
                        "gridwidth": 2,
                        "linecolor": "white",
                        "showbackground": true,
                        "ticks": "",
                        "zerolinecolor": "white"
                      }
                    },
                    "shapedefaults": {
                      "line": {
                        "color": "#2a3f5f"
                      }
                    },
                    "ternary": {
                      "aaxis": {
                        "gridcolor": "white",
                        "linecolor": "white",
                        "ticks": ""
                      },
                      "baxis": {
                        "gridcolor": "white",
                        "linecolor": "white",
                        "ticks": ""
                      },
                      "bgcolor": "#E5ECF6",
                      "caxis": {
                        "gridcolor": "white",
                        "linecolor": "white",
                        "ticks": ""
                      }
                    },
                    "title": {
                      "x": 0.05
                    },
                    "xaxis": {
                      "automargin": true,
                      "gridcolor": "white",
                      "linecolor": "white",
                      "ticks": "",
                      "title": {
                        "standoff": 15
                      },
                      "zerolinecolor": "white",
                      "zerolinewidth": 2
                    },
                    "yaxis": {
                      "automargin": true,
                      "gridcolor": "white",
                      "linecolor": "white",
                      "ticks": "",
                      "title": {
                        "standoff": 15
                      },
                      "zerolinecolor": "white",
                      "zerolinewidth": 2
                    }
                  }
                },
                "title": {
                  "font": {
                    "color": "#4D5663"
                  }
                },
                "xaxis": {
                  "gridcolor": "#E1E5ED",
                  "showgrid": true,
                  "tickfont": {
                    "color": "#4D5663"
                  },
                  "title": {
                    "font": {
                      "color": "#4D5663"
                    },
                    "text": ""
                  },
                  "zerolinecolor": "#E1E5ED"
                },
                "yaxis": {
                  "gridcolor": "#E1E5ED",
                  "showgrid": true,
                  "tickfont": {
                    "color": "#4D5663"
                  },
                  "title": {
                    "font": {
                      "color": "#4D5663"
                    },
                    "text": ""
                  },
                  "zerolinecolor": "#E1E5ED"
                }
              }
            },
            "text/html": [
              "<div>                            <div id=\"e28e67e8-1671-4664-949f-f3661a1f045d\" class=\"plotly-graph-div\" style=\"height:525px; width:100%;\"></div>            <script type=\"text/javascript\">                require([\"plotly\"], function(Plotly) {                    window.PLOTLYENV=window.PLOTLYENV || {};\n",
              "                    window.PLOTLYENV.BASE_URL='https://plot.ly';                                    if (document.getElementById(\"e28e67e8-1671-4664-949f-f3661a1f045d\")) {                    Plotly.newPlot(                        \"e28e67e8-1671-4664-949f-f3661a1f045d\",                        [{\"line\": {\"color\": \"rgba(255, 153, 51, 1.0)\", \"dash\": \"solid\", \"shape\": \"linear\", \"width\": 1.3}, \"marker\": {\"size\": 10, \"symbol\": \"circle\"}, \"mode\": \"markers\", \"name\": \"Counts\", \"text\": \"\", \"type\": \"scatter\", \"x\": [\"fever\", \"anxiety\", \"cough\", \"depression\", \"discharge\", \"diarrhea\", \"fatigue\", \"dyspnea\", \"bleeding\", \"headache\", \"edema\", \"lymphopenia\", \"shortness of breath\", \"anosmia\", \"vomiting\", \"confusion\", \"nausea\", \"myalgia\", \"sore throat\", \"urologic\", \"rash\", \"sneezing\", \"abdominal pain\", \"congestion\", \"arrhythmia\", \"chest pain\", \"weight loss\", \"tachycardia\", \"insomnia\", \"dizziness\", \"swelling\", \"dysgeusia\", \"chills\", \"loss of smell\", \"urticaria\", \"malaise\", \"paralysis\", \"dysphagia\", \"rhinorrhea\", \"nasal congestion\", \"ataxia\", \"suicidal ideation\", \"skin lesions\", \"apnea\", \"weight gain\", \"loss of taste\", \"runny nose\", \"bradycardia\", \"nasal obstruction\", \"chest tightness\", \"sputum production\", \"tachypnea\", \"hemoptysis\", \"itching\", \"hearing loss\", \"hematuria\", \"asthenia\", \"syncope\", \"loss of appetite\", \"miscarriage\", \"arthralgia\", \"back pain\", \"difficulty breathing\", \"infertility\", \"irritability\", \"constipation\", \"epistaxis\", \"tremor\", \"jaundice\", \"paresis\", \"pyrexia\", \"alopecia\", \"muscle ache\", \"deformity\", \"palpitations\", \"swollen\", \"taste loss\", \"purpura\", \"hypothermia\", \"mania\", \"muscle weakness\", \"nasal discharge\", \"convulsions\", \"petechia\", \"body aches\", \"loss of consciousness\", \"laceration\", \"neuralgia\", \"tachypnoea\", \"tinnitus\", \"urinary retention\", \"paresthesia\", \"blister\", \"apathy\", \"decreased appetite\", \"aphasia\", \"myoclonus\", \"dysarthria\", \"somnolence\", \"anhedonia\", \"shivering\", \"delusion\", \"abrasion\", \"polyuria\", \"hallucination\", \"chest discomfort\", \"exophthalmos\", \"melena\", \"dysuria\", \"neck stiffness\", \"blurred vision\", \"sweats\", \"urinary frequency\", \"vertigo\", \"bloating\", \"urinary incontinence\", \"bruising\", \"pleuritic chest pain\", \"odynophagia\", \"sciatica\", \"dry mouth\", \"euphoria\", \"bradykinesia\", \"dyspepsia\", \"orthopnea\", \"dystonia\", \"impotence\", \"vaginal discharge\", \"nasal inflammation\", \"claudication\", \"flatulence\", \"persistent pain\", \"nystagmus\", \"toothache\", \"paranoid ideation\", \"mydriasis\", \"trismus\", \"chest pressure\", \"amnesia\", \"trouble breathing\", \"ecchymosis\", \"amenorrhea\", \"hypopnea\", \"bluish lips\", \"heartburn\", \"belching\", \"bloody stool\", \"pressure in the chest\", \"pelvic pain\", \"otalgia\", \"hirsutism\", \"hematochezia\", \"dysphonia\", \"muscle cramps\", \"akinesia\", \"stay awake\", \"miosis\", \"chorea\", \"fasciculation\", \"amaurosis\", \"bradypnea\", \"hypersomnia\", \"anasarca\", \"otorrhea\", \"blepharospasm\", \"double vision\", \"apraxia\", \"depress\\u0131on\", \"anomia\", \"urethral discharge\", \"akathisia\", \"inability to wake\", \"burning sensation in the chest\", \"steatorrhea\", \"amaurosis fugax\", \"retrograde ejaculation\", \"dysdiadochokinesia\", \"dysgraphia\", \"opisthotonus\", \"anosognosia\", \"halitosis\", \"platypnea\"], \"y\": [7145, 5129, 4759, 2988, 2560, 1583, 1393, 1358, 1206, 1133, 1074, 1048, 1026, 944, 909, 786, 733, 719, 651, 603, 579, 501, 490, 439, 415, 409, 398, 325, 294, 245, 238, 222, 222, 213, 205, 200, 185, 175, 174, 158, 154, 153, 151, 144, 143, 142, 129, 127, 122, 115, 114, 113, 107, 99, 95, 93, 91, 89, 84, 84, 84, 77, 75, 74, 74, 72, 70, 69, 66, 66, 66, 62, 61, 60, 59, 56, 56, 55, 55, 48, 48, 48, 47, 46, 43, 37, 37, 36, 35, 33, 32, 30, 30, 30, 30, 28, 27, 27, 27, 26, 26, 26, 25, 24, 24, 22, 22, 22, 21, 19, 18, 16, 16, 16, 15, 15, 15, 15, 14, 13, 13, 12, 11, 11, 10, 10, 10, 9, 8, 8, 8, 8, 7, 7, 7, 7, 6, 6, 6, 6, 6, 5, 5, 5, 5, 5, 5, 4, 4, 4, 4, 4, 4, 4, 4, 3, 3, 3, 3, 3, 3, 2, 2, 2, 2, 2, 2, 2, 2, 1, 1, 1, 1, 1, 1, 1, 1, 1, 1, 1, 1, 1]}],                        {\"legend\": {\"bgcolor\": \"#F5F6F9\", \"font\": {\"color\": \"#4D5663\"}}, \"paper_bgcolor\": \"#F5F6F9\", \"plot_bgcolor\": \"#F5F6F9\", \"template\": {\"data\": {\"bar\": [{\"error_x\": {\"color\": \"#2a3f5f\"}, \"error_y\": {\"color\": \"#2a3f5f\"}, \"marker\": {\"line\": {\"color\": \"#E5ECF6\", \"width\": 0.5}}, \"type\": \"bar\"}], \"barpolar\": [{\"marker\": {\"line\": {\"color\": \"#E5ECF6\", \"width\": 0.5}}, \"type\": \"barpolar\"}], \"carpet\": [{\"aaxis\": {\"endlinecolor\": \"#2a3f5f\", \"gridcolor\": \"white\", \"linecolor\": \"white\", \"minorgridcolor\": \"white\", \"startlinecolor\": \"#2a3f5f\"}, \"baxis\": {\"endlinecolor\": \"#2a3f5f\", \"gridcolor\": \"white\", \"linecolor\": \"white\", \"minorgridcolor\": \"white\", \"startlinecolor\": \"#2a3f5f\"}, \"type\": \"carpet\"}], \"choropleth\": [{\"colorbar\": {\"outlinewidth\": 0, \"ticks\": \"\"}, \"type\": \"choropleth\"}], \"contour\": [{\"colorbar\": {\"outlinewidth\": 0, \"ticks\": \"\"}, \"colorscale\": [[0.0, \"#0d0887\"], [0.1111111111111111, \"#46039f\"], [0.2222222222222222, \"#7201a8\"], [0.3333333333333333, \"#9c179e\"], [0.4444444444444444, \"#bd3786\"], [0.5555555555555556, \"#d8576b\"], [0.6666666666666666, \"#ed7953\"], [0.7777777777777778, \"#fb9f3a\"], [0.8888888888888888, \"#fdca26\"], [1.0, \"#f0f921\"]], \"type\": \"contour\"}], \"contourcarpet\": [{\"colorbar\": {\"outlinewidth\": 0, \"ticks\": \"\"}, \"type\": \"contourcarpet\"}], \"heatmap\": [{\"colorbar\": {\"outlinewidth\": 0, \"ticks\": \"\"}, \"colorscale\": [[0.0, \"#0d0887\"], [0.1111111111111111, \"#46039f\"], [0.2222222222222222, \"#7201a8\"], [0.3333333333333333, \"#9c179e\"], [0.4444444444444444, \"#bd3786\"], [0.5555555555555556, \"#d8576b\"], [0.6666666666666666, \"#ed7953\"], [0.7777777777777778, \"#fb9f3a\"], [0.8888888888888888, \"#fdca26\"], [1.0, \"#f0f921\"]], \"type\": \"heatmap\"}], \"heatmapgl\": [{\"colorbar\": {\"outlinewidth\": 0, \"ticks\": \"\"}, \"colorscale\": [[0.0, \"#0d0887\"], [0.1111111111111111, \"#46039f\"], [0.2222222222222222, \"#7201a8\"], [0.3333333333333333, \"#9c179e\"], [0.4444444444444444, \"#bd3786\"], [0.5555555555555556, \"#d8576b\"], [0.6666666666666666, \"#ed7953\"], [0.7777777777777778, \"#fb9f3a\"], [0.8888888888888888, \"#fdca26\"], [1.0, \"#f0f921\"]], \"type\": \"heatmapgl\"}], \"histogram\": [{\"marker\": {\"colorbar\": {\"outlinewidth\": 0, \"ticks\": \"\"}}, \"type\": \"histogram\"}], \"histogram2d\": [{\"colorbar\": {\"outlinewidth\": 0, \"ticks\": \"\"}, \"colorscale\": [[0.0, \"#0d0887\"], [0.1111111111111111, \"#46039f\"], [0.2222222222222222, \"#7201a8\"], [0.3333333333333333, \"#9c179e\"], [0.4444444444444444, \"#bd3786\"], [0.5555555555555556, \"#d8576b\"], [0.6666666666666666, \"#ed7953\"], [0.7777777777777778, \"#fb9f3a\"], [0.8888888888888888, \"#fdca26\"], [1.0, \"#f0f921\"]], \"type\": \"histogram2d\"}], \"histogram2dcontour\": [{\"colorbar\": {\"outlinewidth\": 0, \"ticks\": \"\"}, \"colorscale\": [[0.0, \"#0d0887\"], [0.1111111111111111, \"#46039f\"], [0.2222222222222222, \"#7201a8\"], [0.3333333333333333, \"#9c179e\"], [0.4444444444444444, \"#bd3786\"], [0.5555555555555556, \"#d8576b\"], [0.6666666666666666, \"#ed7953\"], [0.7777777777777778, \"#fb9f3a\"], [0.8888888888888888, \"#fdca26\"], [1.0, \"#f0f921\"]], \"type\": \"histogram2dcontour\"}], \"mesh3d\": [{\"colorbar\": {\"outlinewidth\": 0, \"ticks\": \"\"}, \"type\": \"mesh3d\"}], \"parcoords\": [{\"line\": {\"colorbar\": {\"outlinewidth\": 0, \"ticks\": \"\"}}, \"type\": \"parcoords\"}], \"pie\": [{\"automargin\": true, \"type\": \"pie\"}], \"scatter\": [{\"marker\": {\"colorbar\": {\"outlinewidth\": 0, \"ticks\": \"\"}}, \"type\": \"scatter\"}], \"scatter3d\": [{\"line\": {\"colorbar\": {\"outlinewidth\": 0, \"ticks\": \"\"}}, \"marker\": {\"colorbar\": {\"outlinewidth\": 0, \"ticks\": \"\"}}, \"type\": \"scatter3d\"}], \"scattercarpet\": [{\"marker\": {\"colorbar\": {\"outlinewidth\": 0, \"ticks\": \"\"}}, \"type\": \"scattercarpet\"}], \"scattergeo\": [{\"marker\": {\"colorbar\": {\"outlinewidth\": 0, \"ticks\": \"\"}}, \"type\": \"scattergeo\"}], \"scattergl\": [{\"marker\": {\"colorbar\": {\"outlinewidth\": 0, \"ticks\": \"\"}}, \"type\": \"scattergl\"}], \"scattermapbox\": [{\"marker\": {\"colorbar\": {\"outlinewidth\": 0, \"ticks\": \"\"}}, \"type\": \"scattermapbox\"}], \"scatterpolar\": [{\"marker\": {\"colorbar\": {\"outlinewidth\": 0, \"ticks\": \"\"}}, \"type\": \"scatterpolar\"}], \"scatterpolargl\": [{\"marker\": {\"colorbar\": {\"outlinewidth\": 0, \"ticks\": \"\"}}, \"type\": \"scatterpolargl\"}], \"scatterternary\": [{\"marker\": {\"colorbar\": {\"outlinewidth\": 0, \"ticks\": \"\"}}, \"type\": \"scatterternary\"}], \"surface\": [{\"colorbar\": {\"outlinewidth\": 0, \"ticks\": \"\"}, \"colorscale\": [[0.0, \"#0d0887\"], [0.1111111111111111, \"#46039f\"], [0.2222222222222222, \"#7201a8\"], [0.3333333333333333, \"#9c179e\"], [0.4444444444444444, \"#bd3786\"], [0.5555555555555556, \"#d8576b\"], [0.6666666666666666, \"#ed7953\"], [0.7777777777777778, \"#fb9f3a\"], [0.8888888888888888, \"#fdca26\"], [1.0, \"#f0f921\"]], \"type\": \"surface\"}], \"table\": [{\"cells\": {\"fill\": {\"color\": \"#EBF0F8\"}, \"line\": {\"color\": \"white\"}}, \"header\": {\"fill\": {\"color\": \"#C8D4E3\"}, \"line\": {\"color\": \"white\"}}, \"type\": \"table\"}]}, \"layout\": {\"annotationdefaults\": {\"arrowcolor\": \"#2a3f5f\", \"arrowhead\": 0, \"arrowwidth\": 1}, \"coloraxis\": {\"colorbar\": {\"outlinewidth\": 0, \"ticks\": \"\"}}, \"colorscale\": {\"diverging\": [[0, \"#8e0152\"], [0.1, \"#c51b7d\"], [0.2, \"#de77ae\"], [0.3, \"#f1b6da\"], [0.4, \"#fde0ef\"], [0.5, \"#f7f7f7\"], [0.6, \"#e6f5d0\"], [0.7, \"#b8e186\"], [0.8, \"#7fbc41\"], [0.9, \"#4d9221\"], [1, \"#276419\"]], \"sequential\": [[0.0, \"#0d0887\"], [0.1111111111111111, \"#46039f\"], [0.2222222222222222, \"#7201a8\"], [0.3333333333333333, \"#9c179e\"], [0.4444444444444444, \"#bd3786\"], [0.5555555555555556, \"#d8576b\"], [0.6666666666666666, \"#ed7953\"], [0.7777777777777778, \"#fb9f3a\"], [0.8888888888888888, \"#fdca26\"], [1.0, \"#f0f921\"]], \"sequentialminus\": [[0.0, \"#0d0887\"], [0.1111111111111111, \"#46039f\"], [0.2222222222222222, \"#7201a8\"], [0.3333333333333333, \"#9c179e\"], [0.4444444444444444, \"#bd3786\"], [0.5555555555555556, \"#d8576b\"], [0.6666666666666666, \"#ed7953\"], [0.7777777777777778, \"#fb9f3a\"], [0.8888888888888888, \"#fdca26\"], [1.0, \"#f0f921\"]]}, \"colorway\": [\"#636efa\", \"#EF553B\", \"#00cc96\", \"#ab63fa\", \"#FFA15A\", \"#19d3f3\", \"#FF6692\", \"#B6E880\", \"#FF97FF\", \"#FECB52\"], \"font\": {\"color\": \"#2a3f5f\"}, \"geo\": {\"bgcolor\": \"white\", \"lakecolor\": \"white\", \"landcolor\": \"#E5ECF6\", \"showlakes\": true, \"showland\": true, \"subunitcolor\": \"white\"}, \"hoverlabel\": {\"align\": \"left\"}, \"hovermode\": \"closest\", \"mapbox\": {\"style\": \"light\"}, \"paper_bgcolor\": \"white\", \"plot_bgcolor\": \"#E5ECF6\", \"polar\": {\"angularaxis\": {\"gridcolor\": \"white\", \"linecolor\": \"white\", \"ticks\": \"\"}, \"bgcolor\": \"#E5ECF6\", \"radialaxis\": {\"gridcolor\": \"white\", \"linecolor\": \"white\", \"ticks\": \"\"}}, \"scene\": {\"xaxis\": {\"backgroundcolor\": \"#E5ECF6\", \"gridcolor\": \"white\", \"gridwidth\": 2, \"linecolor\": \"white\", \"showbackground\": true, \"ticks\": \"\", \"zerolinecolor\": \"white\"}, \"yaxis\": {\"backgroundcolor\": \"#E5ECF6\", \"gridcolor\": \"white\", \"gridwidth\": 2, \"linecolor\": \"white\", \"showbackground\": true, \"ticks\": \"\", \"zerolinecolor\": \"white\"}, \"zaxis\": {\"backgroundcolor\": \"#E5ECF6\", \"gridcolor\": \"white\", \"gridwidth\": 2, \"linecolor\": \"white\", \"showbackground\": true, \"ticks\": \"\", \"zerolinecolor\": \"white\"}}, \"shapedefaults\": {\"line\": {\"color\": \"#2a3f5f\"}}, \"ternary\": {\"aaxis\": {\"gridcolor\": \"white\", \"linecolor\": \"white\", \"ticks\": \"\"}, \"baxis\": {\"gridcolor\": \"white\", \"linecolor\": \"white\", \"ticks\": \"\"}, \"bgcolor\": \"#E5ECF6\", \"caxis\": {\"gridcolor\": \"white\", \"linecolor\": \"white\", \"ticks\": \"\"}}, \"title\": {\"x\": 0.05}, \"xaxis\": {\"automargin\": true, \"gridcolor\": \"white\", \"linecolor\": \"white\", \"ticks\": \"\", \"title\": {\"standoff\": 15}, \"zerolinecolor\": \"white\", \"zerolinewidth\": 2}, \"yaxis\": {\"automargin\": true, \"gridcolor\": \"white\", \"linecolor\": \"white\", \"ticks\": \"\", \"title\": {\"standoff\": 15}, \"zerolinecolor\": \"white\", \"zerolinewidth\": 2}}}, \"title\": {\"font\": {\"color\": \"#4D5663\"}}, \"xaxis\": {\"gridcolor\": \"#E1E5ED\", \"showgrid\": true, \"tickfont\": {\"color\": \"#4D5663\"}, \"title\": {\"font\": {\"color\": \"#4D5663\"}, \"text\": \"\"}, \"zerolinecolor\": \"#E1E5ED\"}, \"yaxis\": {\"gridcolor\": \"#E1E5ED\", \"showgrid\": true, \"tickfont\": {\"color\": \"#4D5663\"}, \"title\": {\"font\": {\"color\": \"#4D5663\"}, \"text\": \"\"}, \"zerolinecolor\": \"#E1E5ED\"}},                        {\"showLink\": true, \"linkText\": \"Export to plot.ly\", \"plotlyServerURL\": \"https://plot.ly\", \"responsive\": true}                    ).then(function(){\n",
              "                            \n",
              "var gd = document.getElementById('e28e67e8-1671-4664-949f-f3661a1f045d');\n",
              "var x = new MutationObserver(function (mutations, observer) {{\n",
              "        var display = window.getComputedStyle(gd).display;\n",
              "        if (!display || display === 'none') {{\n",
              "            console.log([gd, 'removed!']);\n",
              "            Plotly.purge(gd);\n",
              "            observer.disconnect();\n",
              "        }}\n",
              "}});\n",
              "\n",
              "// Listen for the removal of the full notebook cells\n",
              "var notebookContainer = gd.closest('#notebook-container');\n",
              "if (notebookContainer) {{\n",
              "    x.observe(notebookContainer, {childList: true});\n",
              "}}\n",
              "\n",
              "// Listen for the clearing of the current output cell\n",
              "var outputEl = gd.closest('.output');\n",
              "if (outputEl) {{\n",
              "    x.observe(outputEl, {childList: true});\n",
              "}}\n",
              "\n",
              "                        })                };                });            </script>        </div>"
            ]
          },
          "metadata": {
            "tags": []
          }
        }
      ]
    },
    {
      "cell_type": "markdown",
      "metadata": {
        "id": "nDqV8wpYkGvo"
      },
      "source": [
        "Coonver symptoms to dictionary with their counts"
      ]
    },
    {
      "cell_type": "code",
      "metadata": {
        "id": "T909W8fvkGvo",
        "outputId": "f7072c3a-ecf3-40e8-dbc5-262a4666dc8d"
      },
      "source": [
        "sym_df.to_dict()"
      ],
      "execution_count": null,
      "outputs": [
        {
          "output_type": "execute_result",
          "data": {
            "text/plain": [
              "{'Counts': {'fever': 7145,\n",
              "  'anxiety': 5129,\n",
              "  'cough': 4759,\n",
              "  'depression': 2988,\n",
              "  'discharge': 2560,\n",
              "  'diarrhea': 1583,\n",
              "  'fatigue': 1393,\n",
              "  'dyspnea': 1358,\n",
              "  'bleeding': 1206,\n",
              "  'headache': 1133,\n",
              "  'edema': 1074,\n",
              "  'lymphopenia': 1048,\n",
              "  'shortness of breath': 1026,\n",
              "  'anosmia': 944,\n",
              "  'vomiting': 909,\n",
              "  'confusion': 786,\n",
              "  'nausea': 733,\n",
              "  'myalgia': 719,\n",
              "  'sore throat': 651,\n",
              "  'urologic': 603,\n",
              "  'rash': 579,\n",
              "  'sneezing': 501,\n",
              "  'abdominal pain': 490,\n",
              "  'congestion': 439,\n",
              "  'arrhythmia': 415,\n",
              "  'chest pain': 409,\n",
              "  'weight loss': 398,\n",
              "  'tachycardia': 325,\n",
              "  'insomnia': 294,\n",
              "  'dizziness': 245,\n",
              "  'swelling': 238,\n",
              "  'dysgeusia': 222,\n",
              "  'chills': 222,\n",
              "  'loss of smell': 213,\n",
              "  'urticaria': 205,\n",
              "  'malaise': 200,\n",
              "  'paralysis': 185,\n",
              "  'dysphagia': 175,\n",
              "  'rhinorrhea': 174,\n",
              "  'nasal congestion': 158,\n",
              "  'ataxia': 154,\n",
              "  'suicidal ideation': 153,\n",
              "  'skin lesions': 151,\n",
              "  'apnea': 144,\n",
              "  'weight gain': 143,\n",
              "  'loss of taste': 142,\n",
              "  'runny nose': 129,\n",
              "  'bradycardia': 127,\n",
              "  'nasal obstruction': 122,\n",
              "  'chest tightness': 115,\n",
              "  'sputum production': 114,\n",
              "  'tachypnea': 113,\n",
              "  'hemoptysis': 107,\n",
              "  'itching': 99,\n",
              "  'hearing loss': 95,\n",
              "  'hematuria': 93,\n",
              "  'asthenia': 91,\n",
              "  'syncope': 89,\n",
              "  'loss of appetite': 84,\n",
              "  'miscarriage': 84,\n",
              "  'arthralgia': 84,\n",
              "  'back pain': 77,\n",
              "  'difficulty breathing': 75,\n",
              "  'infertility': 74,\n",
              "  'irritability': 74,\n",
              "  'constipation': 72,\n",
              "  'epistaxis': 70,\n",
              "  'tremor': 69,\n",
              "  'jaundice': 66,\n",
              "  'paresis': 66,\n",
              "  'pyrexia': 66,\n",
              "  'alopecia': 62,\n",
              "  'muscle ache': 61,\n",
              "  'deformity': 60,\n",
              "  'palpitations': 59,\n",
              "  'swollen': 56,\n",
              "  'taste loss': 56,\n",
              "  'purpura': 55,\n",
              "  'hypothermia': 55,\n",
              "  'mania': 48,\n",
              "  'muscle weakness': 48,\n",
              "  'nasal discharge': 48,\n",
              "  'convulsions': 47,\n",
              "  'petechia': 46,\n",
              "  'body aches': 43,\n",
              "  'loss of consciousness': 37,\n",
              "  'laceration': 37,\n",
              "  'neuralgia': 36,\n",
              "  'tachypnoea': 35,\n",
              "  'tinnitus': 33,\n",
              "  'urinary retention': 32,\n",
              "  'paresthesia': 30,\n",
              "  'blister': 30,\n",
              "  'apathy': 30,\n",
              "  'decreased appetite': 30,\n",
              "  'aphasia': 28,\n",
              "  'myoclonus': 27,\n",
              "  'dysarthria': 27,\n",
              "  'somnolence': 27,\n",
              "  'anhedonia': 26,\n",
              "  'shivering': 26,\n",
              "  'delusion': 26,\n",
              "  'abrasion': 25,\n",
              "  'polyuria': 24,\n",
              "  'hallucination': 24,\n",
              "  'chest discomfort': 22,\n",
              "  'exophthalmos': 22,\n",
              "  'melena': 22,\n",
              "  'dysuria': 21,\n",
              "  'neck stiffness': 19,\n",
              "  'blurred vision': 18,\n",
              "  'sweats': 16,\n",
              "  'urinary frequency': 16,\n",
              "  'vertigo': 16,\n",
              "  'bloating': 15,\n",
              "  'urinary incontinence': 15,\n",
              "  'bruising': 15,\n",
              "  'pleuritic chest pain': 15,\n",
              "  'odynophagia': 14,\n",
              "  'sciatica': 13,\n",
              "  'dry mouth': 13,\n",
              "  'euphoria': 12,\n",
              "  'bradykinesia': 11,\n",
              "  'dyspepsia': 11,\n",
              "  'orthopnea': 10,\n",
              "  'dystonia': 10,\n",
              "  'impotence': 10,\n",
              "  'vaginal discharge': 9,\n",
              "  'nasal inflammation': 8,\n",
              "  'claudication': 8,\n",
              "  'flatulence': 8,\n",
              "  'persistent pain': 8,\n",
              "  'nystagmus': 7,\n",
              "  'toothache': 7,\n",
              "  'paranoid ideation': 7,\n",
              "  'mydriasis': 7,\n",
              "  'trismus': 6,\n",
              "  'chest pressure': 6,\n",
              "  'amnesia': 6,\n",
              "  'trouble breathing': 6,\n",
              "  'ecchymosis': 6,\n",
              "  'amenorrhea': 5,\n",
              "  'hypopnea': 5,\n",
              "  'bluish lips': 5,\n",
              "  'heartburn': 5,\n",
              "  'belching': 5,\n",
              "  'bloody stool': 5,\n",
              "  'pressure in the chest': 4,\n",
              "  'pelvic pain': 4,\n",
              "  'otalgia': 4,\n",
              "  'hirsutism': 4,\n",
              "  'hematochezia': 4,\n",
              "  'dysphonia': 4,\n",
              "  'muscle cramps': 4,\n",
              "  'akinesia': 4,\n",
              "  'stay awake': 3,\n",
              "  'miosis': 3,\n",
              "  'chorea': 3,\n",
              "  'fasciculation': 3,\n",
              "  'amaurosis': 3,\n",
              "  'bradypnea': 3,\n",
              "  'hypersomnia': 2,\n",
              "  'anasarca': 2,\n",
              "  'otorrhea': 2,\n",
              "  'blepharospasm': 2,\n",
              "  'double vision': 2,\n",
              "  'apraxia': 2,\n",
              "  'depressıon': 2,\n",
              "  'anomia': 2,\n",
              "  'urethral discharge': 1,\n",
              "  'akathisia': 1,\n",
              "  'inability to wake': 1,\n",
              "  'burning sensation in the chest': 1,\n",
              "  'steatorrhea': 1,\n",
              "  'amaurosis fugax': 1,\n",
              "  'retrograde ejaculation': 1,\n",
              "  'dysdiadochokinesia': 1,\n",
              "  'dysgraphia': 1,\n",
              "  'opisthotonus': 1,\n",
              "  'anosognosia': 1,\n",
              "  'halitosis': 1,\n",
              "  'platypnea': 1}}"
            ]
          },
          "metadata": {
            "tags": []
          },
          "execution_count": 26
        }
      ]
    },
    {
      "cell_type": "markdown",
      "metadata": {
        "id": "Cz41PEcKkGvo"
      },
      "source": [
        "### List of symptoms that appeared in the published papers that were extracted with our list of symptoms"
      ]
    },
    {
      "cell_type": "code",
      "metadata": {
        "id": "i-iEnw78kGvo"
      },
      "source": [
        "counted_symptoms = sym_df.index.to_list()"
      ],
      "execution_count": null,
      "outputs": []
    },
    {
      "cell_type": "code",
      "metadata": {
        "id": "C8dDq4BwkGvo"
      },
      "source": [
        "# counted_symptoms.sort()\n",
        "# print(counted_symptoms)"
      ],
      "execution_count": null,
      "outputs": []
    },
    {
      "cell_type": "code",
      "metadata": {
        "id": "3zp4ELrSkGvo"
      },
      "source": [
        "# symptoms.sort()\n",
        "# print(symptoms)"
      ],
      "execution_count": null,
      "outputs": []
    },
    {
      "cell_type": "markdown",
      "metadata": {
        "id": "vBcUCVjikGvo"
      },
      "source": [
        "### Extracting the symptoms that are present in our original list of symptoms but were not found in the papers"
      ]
    },
    {
      "cell_type": "code",
      "metadata": {
        "id": "WK_EF1RVkGvo",
        "outputId": "c0617c96-c90d-445f-d582-65989722b0e3"
      },
      "source": [
        "main_list = np.setdiff1d(symptoms,counted_symptoms)\n",
        "# yields the elements in `list_2` that are NOT in `list_1`\n",
        "len(main_list)"
      ],
      "execution_count": null,
      "outputs": [
        {
          "output_type": "execute_result",
          "data": {
            "text/plain": [
              "28"
            ]
          },
          "metadata": {
            "tags": []
          },
          "execution_count": 30
        }
      ]
    },
    {
      "cell_type": "markdown",
      "metadata": {
        "id": "F9r5Y-qMkGvo"
      },
      "source": [
        "It appears that that are 28 symptoms on our original symptoms list that do not occur in the papers"
      ]
    },
    {
      "cell_type": "code",
      "metadata": {
        "id": "7MUkM0agkGvo"
      },
      "source": [
        "df_test1= covid_df.Sentence.str.extractall('({})'.format('|'.join(main_list)), flags = re.IGNORECASE)\\\n",
        "                           .iloc[:, 0].str.get_dummies().sum(level=0)"
      ],
      "execution_count": null,
      "outputs": []
    },
    {
      "cell_type": "markdown",
      "metadata": {
        "id": "42nxTT-IkGvo"
      },
      "source": [
        "### 3. Encountered problem: 'fevers' symptom appears on the list of symptoms that does not occur in the papers. \n",
        "\n",
        "I am not able to find out why. It is clear that it does appear over 200 times"
      ]
    },
    {
      "cell_type": "code",
      "metadata": {
        "id": "tzlCz8H5kGvo",
        "outputId": "c17c589f-1c9d-4fcd-f225-38661e8739a9"
      },
      "source": [
        "print(df_test1.sum(axis=0))"
      ],
      "execution_count": null,
      "outputs": [
        {
          "output_type": "stream",
          "text": [
            "Fevers      4\n",
            "fevers    192\n",
            "dtype: int64\n"
          ],
          "name": "stdout"
        }
      ]
    },
    {
      "cell_type": "code",
      "metadata": {
        "scrolled": true,
        "id": "Bz4pn6edkGvo",
        "outputId": "281b01ce-8555-41ac-8f7e-ccdc1e8b8428"
      },
      "source": [
        "for symptom in main_list:\n",
        "     print(symptom, len(covid_df[covid_df.Sentence.str.contains(symptom) == True]))"
      ],
      "execution_count": null,
      "outputs": [
        {
          "output_type": "stream",
          "text": [
            "abnormal posturing 0\n",
            "abnormal vaginal bleeding 0\n",
            "acalculia 0\n",
            "agnosia 0\n",
            "alexia 0\n",
            "amusia 0\n",
            "athetosis 0\n",
            "ballismus 0\n",
            "bleeding into skin 0\n",
            "bluish face 0\n",
            "cataplexy 0\n",
            "confabulation 0\n",
            "fecal incontinence 0\n",
            "fevers 189\n",
            "flapping tremor 0\n",
            "hematospermia 0\n",
            "homicidal ideation 0\n",
            "hypertrichosis 0\n",
            "opsoclonus 0\n",
            "painful intercourse 0\n",
            "painful lymph node 0\n",
            "proctalgia fugax 0\n",
            "prosopagnosia 0\n",
            "pyrosis 0\n",
            "strangury 0\n",
            "trepopnea 0\n",
            "vaginal bleeding in early pregnancy 0\n",
            "vaginal bleeding in late pregnancy 0\n"
          ],
          "name": "stdout"
        }
      ]
    },
    {
      "cell_type": "code",
      "metadata": {
        "id": "aConCMYtkGvo"
      },
      "source": [
        "# word counts in the papers if we need them \n",
        "\n",
        "# from sklearn.feature_extraction.text import CountVectorizer\n",
        "\n",
        "# vectorizer = CountVectorizer()\n",
        "# vectorizer.fit(covid_df.Sentence)\n",
        "# dict_voca = vectorizer.vocabulary_"
      ],
      "execution_count": null,
      "outputs": []
    },
    {
      "cell_type": "code",
      "metadata": {
        "id": "LjOINKrYkGvo"
      },
      "source": [
        "# sort_orders = sorted(dict_voca.items(), key=lambda x: x[1], reverse=True)\n",
        "\n",
        "# for i in sort_orders:\n",
        "#     print(i[0], i[1])"
      ],
      "execution_count": null,
      "outputs": []
    },
    {
      "cell_type": "code",
      "metadata": {
        "id": "e5RzSm17kGvo"
      },
      "source": [
        "# sort_orders"
      ],
      "execution_count": null,
      "outputs": []
    },
    {
      "cell_type": "markdown",
      "metadata": {
        "id": "oSDLbJKekGvo"
      },
      "source": [
        "### Save the sentences in a csv file where there are 3 columns: paper ID, sentence ID, and sentence text to be our testing data.\n",
        "\n",
        "I did not save the indexes as it would create multiple index columns when we reread in the file."
      ]
    },
    {
      "cell_type": "code",
      "metadata": {
        "id": "09pWj8QmkGvo"
      },
      "source": [
        "covid_df.to_csv('/Users/elif/Desktop/covid_testing_data_May.csv', index = False, encoding= 'utf-8')"
      ],
      "execution_count": null,
      "outputs": []
    },
    {
      "cell_type": "markdown",
      "metadata": {
        "id": "Hhz0xbeXkGvo"
      },
      "source": [
        "###   Create another spreadsheet with three columns: sentence #, word, and tag. \n",
        "\n",
        "\n",
        "    Place one word in a row and label symptoms words in the tag column: \n",
        "    mark the beginning (B-Sym) and inside (I-Sym) of each symptom term. \n",
        "    If a term consists of only one word, simply mark it as B-Sym with no I-Sym.  \n",
        "    Label all other words as O. "
      ]
    },
    {
      "cell_type": "code",
      "metadata": {
        "id": "0rL38KX0kGvo"
      },
      "source": [
        "def repl(m):\n",
        "    '''\n",
        "    regular expression function that replaces symtoms with BSYM if .group(0) is one word\n",
        "    or BSYM + ISYM if multiple words - this function looks for spaces in the given words\n",
        "    \n",
        "    m.group(0) - firts match\n",
        "    '''\n",
        "    return ' '.join(['BSYM']+['ISYM']*(m.group(0).count(' ')))"
      ],
      "execution_count": null,
      "outputs": []
    },
    {
      "cell_type": "code",
      "metadata": {
        "id": "N5qAD-1gkGvo"
      },
      "source": [
        "covid_df['Token'] = covid_df['Sentence'].str.replace(pattern, repl, flags = re.IGNORECASE)"
      ],
      "execution_count": null,
      "outputs": []
    },
    {
      "cell_type": "markdown",
      "metadata": {
        "id": "-JX5XxUvkGvo"
      },
      "source": [
        "Token column is the duplicate of the Sentence column. The only difference is that I replaced the existing symptoms in each sentence with BSYM or ISYM based on our regular expression function. \n",
        "\n",
        "re.IGNORECASE is used to ignore the words that are upper case and treat them all as lower case. This way, I was able to retain the original version of sentences without using .lower()."
      ]
    },
    {
      "cell_type": "code",
      "metadata": {
        "scrolled": true,
        "id": "Mc5p2bcAkGvo",
        "outputId": "bb51856c-efd6-4665-d398-47bf49f95cb1"
      },
      "source": [
        "covid_df.head()"
      ],
      "execution_count": null,
      "outputs": [
        {
          "output_type": "execute_result",
          "data": {
            "text/html": [
              "<div>\n",
              "<style scoped>\n",
              "    .dataframe tbody tr th:only-of-type {\n",
              "        vertical-align: middle;\n",
              "    }\n",
              "\n",
              "    .dataframe tbody tr th {\n",
              "        vertical-align: top;\n",
              "    }\n",
              "\n",
              "    .dataframe thead th {\n",
              "        text-align: right;\n",
              "    }\n",
              "</style>\n",
              "<table border=\"1\" class=\"dataframe\">\n",
              "  <thead>\n",
              "    <tr style=\"text-align: right;\">\n",
              "      <th></th>\n",
              "      <th>Paper_Id</th>\n",
              "      <th>Sentence_ID</th>\n",
              "      <th>Sentence</th>\n",
              "      <th>Token</th>\n",
              "    </tr>\n",
              "  </thead>\n",
              "  <tbody>\n",
              "    <tr>\n",
              "      <td>96</td>\n",
              "      <td>84d22b71f6df277a11824433ccf14137303f55f5</td>\n",
              "      <td>97</td>\n",
              "      <td>Subjects who died in hospital were significant...</td>\n",
              "      <td>Subjects who died in hospital were significant...</td>\n",
              "    </tr>\n",
              "    <tr>\n",
              "      <td>202</td>\n",
              "      <td>b382ff1b00757c3cb6a7408d8e993aa6d94d3e28</td>\n",
              "      <td>203</td>\n",
              "      <td>We retrospectively analyzed medical charts of ...</td>\n",
              "      <td>We retrospectively analyzed medical charts of ...</td>\n",
              "    </tr>\n",
              "    <tr>\n",
              "      <td>203</td>\n",
              "      <td>b382ff1b00757c3cb6a7408d8e993aa6d94d3e28</td>\n",
              "      <td>204</td>\n",
              "      <td>The patient first had 4-5 episodes of watery d...</td>\n",
              "      <td>The patient first had 4-5 episodes of watery B...</td>\n",
              "    </tr>\n",
              "    <tr>\n",
              "      <td>205</td>\n",
              "      <td>b382ff1b00757c3cb6a7408d8e993aa6d94d3e28</td>\n",
              "      <td>206</td>\n",
              "      <td>However, she returned to the ED the next day w...</td>\n",
              "      <td>However, she returned to the ED the next day w...</td>\n",
              "    </tr>\n",
              "    <tr>\n",
              "      <td>217</td>\n",
              "      <td>b382ff1b00757c3cb6a7408d8e993aa6d94d3e28</td>\n",
              "      <td>218</td>\n",
              "      <td>The patient reported an overall improvement in...</td>\n",
              "      <td>The patient reported an overall improvement in...</td>\n",
              "    </tr>\n",
              "  </tbody>\n",
              "</table>\n",
              "</div>"
            ],
            "text/plain": [
              "                                     Paper_Id  Sentence_ID  \\\n",
              "96   84d22b71f6df277a11824433ccf14137303f55f5           97   \n",
              "202  b382ff1b00757c3cb6a7408d8e993aa6d94d3e28          203   \n",
              "203  b382ff1b00757c3cb6a7408d8e993aa6d94d3e28          204   \n",
              "205  b382ff1b00757c3cb6a7408d8e993aa6d94d3e28          206   \n",
              "217  b382ff1b00757c3cb6a7408d8e993aa6d94d3e28          218   \n",
              "\n",
              "                                              Sentence  \\\n",
              "96   Subjects who died in hospital were significant...   \n",
              "202  We retrospectively analyzed medical charts of ...   \n",
              "203  The patient first had 4-5 episodes of watery d...   \n",
              "205  However, she returned to the ED the next day w...   \n",
              "217  The patient reported an overall improvement in...   \n",
              "\n",
              "                                                 Token  \n",
              "96   Subjects who died in hospital were significant...  \n",
              "202  We retrospectively analyzed medical charts of ...  \n",
              "203  The patient first had 4-5 episodes of watery B...  \n",
              "205  However, she returned to the ED the next day w...  \n",
              "217  The patient reported an overall improvement in...  "
            ]
          },
          "metadata": {
            "tags": []
          },
          "execution_count": 259
        }
      ]
    },
    {
      "cell_type": "markdown",
      "metadata": {
        "id": "HC-Ls2fkkGvp"
      },
      "source": [
        "Reset the index column to start from 0 and assigned the Sentece number to the Sentence_ID column "
      ]
    },
    {
      "cell_type": "code",
      "metadata": {
        "id": "Q9wAZpIwkGvp"
      },
      "source": [
        "covid_df.reset_index(drop=True, inplace=True)"
      ],
      "execution_count": null,
      "outputs": []
    },
    {
      "cell_type": "code",
      "metadata": {
        "id": "MdwmJcRNkGvp"
      },
      "source": [
        "covid_df['Sentence_ID'] = ['Sentence #%s' %i for i in range(1, len(covid_df) + 1)]"
      ],
      "execution_count": null,
      "outputs": []
    },
    {
      "cell_type": "markdown",
      "metadata": {
        "id": "rl4Mwba9kGvp"
      },
      "source": [
        "### Tokenize sentences\n",
        "\n",
        "In this part of the task, I tokenized words and tokens columns and then replaces the tokens\n",
        "with the actual display of B-SYM and I-SYM with the dashes added in the middle.\n",
        "\n",
        "Then, provided a dataframe with three columns only"
      ]
    },
    {
      "cell_type": "code",
      "metadata": {
        "id": "jRFuWMfIkGvp"
      },
      "source": [
        "def tokenize_sentences(frame):\n",
        "    words = []\n",
        "    i = 0\n",
        "    for j, row in frame.iterrows():\n",
        "        for word, temptag in zip(word_tokenize(row['Sentence']), word_tokenize(row['Token'])):\n",
        "    #         print(word, temptag)\n",
        "            if temptag == 'BSYM':\n",
        "                tag = 'B-SYM'\n",
        "            elif temptag == 'ISYM':\n",
        "                tag = 'I-SYM'\n",
        "            else:\n",
        "                tag = 'O'\n",
        "            words.append((row['Sentence_ID'], word, tag))\n",
        "\n",
        "    tag_df = pd.DataFrame(words, columns=['Sentence_ID', 'Words', 'Tag'])\n",
        "    return tag_df"
      ],
      "execution_count": null,
      "outputs": []
    },
    {
      "cell_type": "code",
      "metadata": {
        "id": "zaT9igIxkGvp"
      },
      "source": [
        "tag_df = tokenize_sentences(covid_df)"
      ],
      "execution_count": null,
      "outputs": []
    },
    {
      "cell_type": "code",
      "metadata": {
        "scrolled": true,
        "id": "fIUjgPYNkGvp"
      },
      "source": [
        "# tag_df.head(25)"
      ],
      "execution_count": null,
      "outputs": []
    },
    {
      "cell_type": "markdown",
      "metadata": {
        "id": "6kp_-TmwkGvp"
      },
      "source": [
        "Double ckecing the tag column to see if we were able to tag I-SYM symptom words"
      ]
    },
    {
      "cell_type": "code",
      "metadata": {
        "scrolled": true,
        "id": "eTTadOVAkGvp",
        "outputId": "fe466914-b366-4531-9742-24c2d59a40c5"
      },
      "source": [
        "tag_df[tag_df['Tag']== 'I-SYM'].head(5)"
      ],
      "execution_count": null,
      "outputs": [
        {
          "output_type": "execute_result",
          "data": {
            "text/html": [
              "<div>\n",
              "<style scoped>\n",
              "    .dataframe tbody tr th:only-of-type {\n",
              "        vertical-align: middle;\n",
              "    }\n",
              "\n",
              "    .dataframe tbody tr th {\n",
              "        vertical-align: top;\n",
              "    }\n",
              "\n",
              "    .dataframe thead th {\n",
              "        text-align: right;\n",
              "    }\n",
              "</style>\n",
              "<table border=\"1\" class=\"dataframe\">\n",
              "  <thead>\n",
              "    <tr style=\"text-align: right;\">\n",
              "      <th></th>\n",
              "      <th>Sentence_ID</th>\n",
              "      <th>Words</th>\n",
              "      <th>Tag</th>\n",
              "    </tr>\n",
              "  </thead>\n",
              "  <tbody>\n",
              "    <tr>\n",
              "      <td>181</td>\n",
              "      <td>Sentence #3</td>\n",
              "      <td>pain</td>\n",
              "      <td>I-SYM</td>\n",
              "    </tr>\n",
              "    <tr>\n",
              "      <td>213</td>\n",
              "      <td>Sentence #4</td>\n",
              "      <td>pain</td>\n",
              "      <td>I-SYM</td>\n",
              "    </tr>\n",
              "    <tr>\n",
              "      <td>223</td>\n",
              "      <td>Sentence #4</td>\n",
              "      <td>appetite</td>\n",
              "      <td>I-SYM</td>\n",
              "    </tr>\n",
              "    <tr>\n",
              "      <td>271</td>\n",
              "      <td>Sentence #5</td>\n",
              "      <td>pain</td>\n",
              "      <td>I-SYM</td>\n",
              "    </tr>\n",
              "    <tr>\n",
              "      <td>285</td>\n",
              "      <td>Sentence #6</td>\n",
              "      <td>chest</td>\n",
              "      <td>I-SYM</td>\n",
              "    </tr>\n",
              "  </tbody>\n",
              "</table>\n",
              "</div>"
            ],
            "text/plain": [
              "     Sentence_ID     Words    Tag\n",
              "181  Sentence #3      pain  I-SYM\n",
              "213  Sentence #4      pain  I-SYM\n",
              "223  Sentence #4  appetite  I-SYM\n",
              "271  Sentence #5      pain  I-SYM\n",
              "285  Sentence #6     chest  I-SYM"
            ]
          },
          "metadata": {
            "tags": []
          },
          "execution_count": 265
        }
      ]
    },
    {
      "cell_type": "markdown",
      "metadata": {
        "id": "ix832IMJkGvp"
      },
      "source": [
        "#### This part of the code is for sanity checking on our sentences that contain multi word symtomps. \n",
        "\n",
        "    Firts extract only the symptoms with multi words\n",
        "    Then use our pattern to check which sentences have multi word symptoms presents\n",
        "    Export them to csv file, if needed"
      ]
    },
    {
      "cell_type": "code",
      "metadata": {
        "id": "R_S8qRKVkGvp"
      },
      "source": [
        "# #Extract the list of multi symptom words\n",
        "# multi_word_symptoms = ([symptom for symptom in symptoms if len(symptom.split())>1])\n",
        "\n",
        "# #pattern to check for words that have space before and after \n",
        "# #this is to prevent our search from getting distracted by words like 'Statistics' when we are\n",
        "# #looking for 'tic' which is a problem that I encountered.\n",
        "# pattern_multi = '\\\\b' + '\\\\b|\\\\b'.join(multi_word_symptoms) + '\\\\b'\n",
        "\n",
        "# #Get the dataframe that contains multi words\n",
        "# covid_df[covid_df['Sentence'].str.contains(pattern_multi)]\n",
        "\n",
        "# #Export them to a csv file if needed\n",
        "# #multi_word_sentences.to_csv('/Users/elif/Desktop/multi_word_sentences.csv', index = False)"
      ],
      "execution_count": null,
      "outputs": []
    },
    {
      "cell_type": "markdown",
      "metadata": {
        "id": "R6_V16ICkGvp"
      },
      "source": [
        "###  Here the sentence # should be consecutive integers (similar to a surrogate key in a database table) and is not the same as sentence ID in the first spreadsheet.\n",
        "\n",
        "    Styling of sentence numbers ~ instead of duplicating the same number over and over again, we leave out the duplicated ones by replacing them with space"
      ]
    },
    {
      "cell_type": "code",
      "metadata": {
        "id": "ebLTpcwzkGvp"
      },
      "source": [
        "#tag_df['Sentence_ID'] = tag_df['Sentence']"
      ],
      "execution_count": null,
      "outputs": []
    },
    {
      "cell_type": "code",
      "metadata": {
        "id": "sgzSTClfkGvp"
      },
      "source": [
        "def remove_duplicate_sentence_ids(df):\n",
        "    is_duplicate = df['Sentence_ID'].duplicated()\n",
        "\n",
        "    df['Sentence_ID'] = df['Sentence_ID'].where(~is_duplicate, ' ')\n",
        "    tagged_data = df[['Sentence_ID', 'Words', 'Tag']]\n",
        "    return tagged_data"
      ],
      "execution_count": null,
      "outputs": []
    },
    {
      "cell_type": "code",
      "metadata": {
        "id": "ChSXKjoSkGvp"
      },
      "source": [
        "tagged_data = remove_duplicate_sentence_ids(tag_df)"
      ],
      "execution_count": null,
      "outputs": []
    },
    {
      "cell_type": "code",
      "metadata": {
        "id": "sfZDBdXckGvp",
        "outputId": "a2575db5-6fca-44bd-f4d3-3c89f686060b"
      },
      "source": [
        "tagged_data.head()"
      ],
      "execution_count": null,
      "outputs": [
        {
          "output_type": "execute_result",
          "data": {
            "text/html": [
              "<div>\n",
              "<style scoped>\n",
              "    .dataframe tbody tr th:only-of-type {\n",
              "        vertical-align: middle;\n",
              "    }\n",
              "\n",
              "    .dataframe tbody tr th {\n",
              "        vertical-align: top;\n",
              "    }\n",
              "\n",
              "    .dataframe thead th {\n",
              "        text-align: right;\n",
              "    }\n",
              "</style>\n",
              "<table border=\"1\" class=\"dataframe\">\n",
              "  <thead>\n",
              "    <tr style=\"text-align: right;\">\n",
              "      <th></th>\n",
              "      <th>Sentence_ID</th>\n",
              "      <th>Words</th>\n",
              "      <th>Tag</th>\n",
              "    </tr>\n",
              "  </thead>\n",
              "  <tbody>\n",
              "    <tr>\n",
              "      <td>0</td>\n",
              "      <td>Sentence #1</td>\n",
              "      <td>Subjects</td>\n",
              "      <td>O</td>\n",
              "    </tr>\n",
              "    <tr>\n",
              "      <td>1</td>\n",
              "      <td></td>\n",
              "      <td>who</td>\n",
              "      <td>O</td>\n",
              "    </tr>\n",
              "    <tr>\n",
              "      <td>2</td>\n",
              "      <td></td>\n",
              "      <td>died</td>\n",
              "      <td>O</td>\n",
              "    </tr>\n",
              "    <tr>\n",
              "      <td>3</td>\n",
              "      <td></td>\n",
              "      <td>in</td>\n",
              "      <td>O</td>\n",
              "    </tr>\n",
              "    <tr>\n",
              "      <td>4</td>\n",
              "      <td></td>\n",
              "      <td>hospital</td>\n",
              "      <td>O</td>\n",
              "    </tr>\n",
              "  </tbody>\n",
              "</table>\n",
              "</div>"
            ],
            "text/plain": [
              "   Sentence_ID     Words Tag\n",
              "0  Sentence #1  Subjects   O\n",
              "1                    who   O\n",
              "2                   died   O\n",
              "3                     in   O\n",
              "4               hospital   O"
            ]
          },
          "metadata": {
            "tags": []
          },
          "execution_count": 268
        }
      ]
    },
    {
      "cell_type": "code",
      "metadata": {
        "id": "eHaHZZ4jkGvp"
      },
      "source": [
        ""
      ],
      "execution_count": null,
      "outputs": []
    },
    {
      "cell_type": "code",
      "metadata": {
        "id": "mJS0QXZhkGvp"
      },
      "source": [
        "tagged_data.to_csv('/Users/elif/Desktop/covid_tagged_data_May.csv', index = False, encoding= 'utf-8')"
      ],
      "execution_count": null,
      "outputs": []
    },
    {
      "cell_type": "markdown",
      "metadata": {
        "id": "khwvK61YkGvp"
      },
      "source": [
        "## Working with COVID data that is scraped from the web"
      ]
    },
    {
      "cell_type": "code",
      "metadata": {
        "id": "wkpmDhLtkGvp"
      },
      "source": [
        "paSi_df = pd.read_excel('/Users/elif/Downloads/OneDrive_1_10-29-2020/patient-site_lableled.xlsx', sheet_name='in', usecols=\"A,B,C\")"
      ],
      "execution_count": null,
      "outputs": []
    },
    {
      "cell_type": "code",
      "metadata": {
        "id": "jU2QC5M5kGvp",
        "outputId": "051180c7-e5eb-461b-a5f5-1474748afd63"
      },
      "source": [
        "plm_df.head()"
      ],
      "execution_count": null,
      "outputs": [
        {
          "output_type": "execute_result",
          "data": {
            "text/html": [
              "<div>\n",
              "<style scoped>\n",
              "    .dataframe tbody tr th:only-of-type {\n",
              "        vertical-align: middle;\n",
              "    }\n",
              "\n",
              "    .dataframe tbody tr th {\n",
              "        vertical-align: top;\n",
              "    }\n",
              "\n",
              "    .dataframe thead th {\n",
              "        text-align: right;\n",
              "    }\n",
              "</style>\n",
              "<table border=\"1\" class=\"dataframe\">\n",
              "  <thead>\n",
              "    <tr style=\"text-align: right;\">\n",
              "      <th></th>\n",
              "      <th>Sentence</th>\n",
              "      <th>Words</th>\n",
              "      <th>Tag</th>\n",
              "    </tr>\n",
              "  </thead>\n",
              "  <tbody>\n",
              "    <tr>\n",
              "      <td>0</td>\n",
              "      <td>Sentence #1</td>\n",
              "      <td>I</td>\n",
              "      <td>O</td>\n",
              "    </tr>\n",
              "    <tr>\n",
              "      <td>1</td>\n",
              "      <td></td>\n",
              "      <td>'</td>\n",
              "      <td>O</td>\n",
              "    </tr>\n",
              "    <tr>\n",
              "      <td>2</td>\n",
              "      <td></td>\n",
              "      <td>ve</td>\n",
              "      <td>O</td>\n",
              "    </tr>\n",
              "    <tr>\n",
              "      <td>3</td>\n",
              "      <td></td>\n",
              "      <td>had</td>\n",
              "      <td>O</td>\n",
              "    </tr>\n",
              "    <tr>\n",
              "      <td>4</td>\n",
              "      <td></td>\n",
              "      <td>Covid</td>\n",
              "      <td>B-DIS</td>\n",
              "    </tr>\n",
              "  </tbody>\n",
              "</table>\n",
              "</div>"
            ],
            "text/plain": [
              "      Sentence  Words    Tag\n",
              "0  Sentence #1      I      O\n",
              "1                   '      O\n",
              "2                  ve      O\n",
              "3                 had      O\n",
              "4               Covid  B-DIS"
            ]
          },
          "metadata": {
            "tags": []
          },
          "execution_count": 148
        }
      ]
    },
    {
      "cell_type": "code",
      "metadata": {
        "scrolled": true,
        "id": "NzlVFJJTkGvp"
      },
      "source": [
        "plm_df = pd.read_excel('/Users/elif/Downloads/OneDrive_1_10-29-2020/plm_dataset_labeled.xlsx', sheet_name='plm_dataset', usecols=\"A,B,C\")"
      ],
      "execution_count": null,
      "outputs": []
    },
    {
      "cell_type": "code",
      "metadata": {
        "id": "1Xd_zxw5kGvp",
        "outputId": "5ed7d0c7-521d-46ad-d23e-25d1feab0171"
      },
      "source": [
        "paSi_df.head()"
      ],
      "execution_count": null,
      "outputs": [
        {
          "output_type": "execute_result",
          "data": {
            "text/html": [
              "<div>\n",
              "<style scoped>\n",
              "    .dataframe tbody tr th:only-of-type {\n",
              "        vertical-align: middle;\n",
              "    }\n",
              "\n",
              "    .dataframe tbody tr th {\n",
              "        vertical-align: top;\n",
              "    }\n",
              "\n",
              "    .dataframe thead th {\n",
              "        text-align: right;\n",
              "    }\n",
              "</style>\n",
              "<table border=\"1\" class=\"dataframe\">\n",
              "  <thead>\n",
              "    <tr style=\"text-align: right;\">\n",
              "      <th></th>\n",
              "      <th>Sentence</th>\n",
              "      <th>Words</th>\n",
              "      <th>Tag</th>\n",
              "    </tr>\n",
              "  </thead>\n",
              "  <tbody>\n",
              "    <tr>\n",
              "      <td>0</td>\n",
              "      <td>Sentence #1</td>\n",
              "      <td>I</td>\n",
              "      <td>O</td>\n",
              "    </tr>\n",
              "    <tr>\n",
              "      <td>1</td>\n",
              "      <td>NaN</td>\n",
              "      <td>'</td>\n",
              "      <td>O</td>\n",
              "    </tr>\n",
              "    <tr>\n",
              "      <td>2</td>\n",
              "      <td>NaN</td>\n",
              "      <td>ve</td>\n",
              "      <td>O</td>\n",
              "    </tr>\n",
              "    <tr>\n",
              "      <td>3</td>\n",
              "      <td>NaN</td>\n",
              "      <td>had</td>\n",
              "      <td>O</td>\n",
              "    </tr>\n",
              "    <tr>\n",
              "      <td>4</td>\n",
              "      <td>NaN</td>\n",
              "      <td>Covid</td>\n",
              "      <td>B-DIS</td>\n",
              "    </tr>\n",
              "  </tbody>\n",
              "</table>\n",
              "</div>"
            ],
            "text/plain": [
              "      Sentence  Words    Tag\n",
              "0  Sentence #1      I      O\n",
              "1          NaN      '      O\n",
              "2          NaN     ve      O\n",
              "3          NaN    had      O\n",
              "4          NaN  Covid  B-DIS"
            ]
          },
          "metadata": {
            "tags": []
          },
          "execution_count": 150
        }
      ]
    },
    {
      "cell_type": "code",
      "metadata": {
        "id": "BTXKu31kkGvp"
      },
      "source": [
        "def symAndCount(dataframe):\n",
        "    values_dict = {}\n",
        "    sym_str = ''\n",
        "    for i,row in enumerate(dataframe.values):\n",
        "    \n",
        "        if row[2]=='B-SYM'and dataframe.values[i+1][2] == 'O':\n",
        "            if row[1].lower() in values_dict:\n",
        "                values_dict[row[1].lower()]+=1\n",
        "            else:\n",
        "                values_dict[row[1].lower()] = 1\n",
        "        if (row[2]=='B-SYM'and dataframe.values[i+1][2] == 'I-SYM') or row[2]=='I-SYM':\n",
        "            sym_str +=str(row[1]).lower()+' '\n",
        "            if dataframe.values[i+1][2] == 'O':\n",
        "                sym_str = sym_str.strip()\n",
        "                if sym_str in values_dict:\n",
        "                    values_dict[sym_str]+=1\n",
        "                else:\n",
        "                    values_dict[sym_str] = 1\n",
        "                sym_str = ''\n",
        "    return values_dict\n"
      ],
      "execution_count": null,
      "outputs": []
    },
    {
      "cell_type": "code",
      "metadata": {
        "id": "Lt81x4h7kGvp"
      },
      "source": [
        "from collections import Counter\n",
        "\n",
        "plm_sym_dict = symAndCount(plm_df)\n",
        "paSi_sym_dict = symAndCount(paSi_df)\n",
        "\n",
        "new_dict = dict(Counter(plm_sym_dict) + Counter(paSi_sym_dict))"
      ],
      "execution_count": null,
      "outputs": []
    },
    {
      "cell_type": "code",
      "metadata": {
        "scrolled": true,
        "id": "dpOCbLxSkGvp"
      },
      "source": [
        "import operator\n",
        "sorted_d = dict( sorted(new_dict.items(), key=operator.itemgetter(1),reverse=True))"
      ],
      "execution_count": null,
      "outputs": []
    },
    {
      "cell_type": "code",
      "metadata": {
        "id": "3TNdd37PkGvp",
        "outputId": "61bd413f-6f7e-422d-dcc2-ccf582f426a5"
      },
      "source": [
        "sorted_d"
      ],
      "execution_count": null,
      "outputs": [
        {
          "output_type": "execute_result",
          "data": {
            "text/plain": [
              "{'cough': 41,\n",
              " 'fever': 32,\n",
              " 'sore throat': 16,\n",
              " 'headache': 15,\n",
              " 'fatigue': 15,\n",
              " 'headaches': 10,\n",
              " 'shortness of breath': 9,\n",
              " 'nausea': 9,\n",
              " 'breathlessness': 8,\n",
              " 'dry cough': 6,\n",
              " 'fatigued': 5,\n",
              " 'coughing': 5,\n",
              " 'extreme fatigue': 5,\n",
              " 'tired': 5,\n",
              " 'chest pain': 5,\n",
              " 'nauseous': 5,\n",
              " 'tiredness': 5,\n",
              " 'gastric issues': 5,\n",
              " 'chest pains': 5,\n",
              " 'anxiety': 4,\n",
              " 'chills': 4,\n",
              " 'burning sensation': 4,\n",
              " 'temperature': 4,\n",
              " 'temp': 4,\n",
              " 'chest tightness': 4,\n",
              " 'diarrhea': 4,\n",
              " 'feverish': 4,\n",
              " 'short of breath': 3,\n",
              " 'shortness': 3,\n",
              " 'high temperatures': 3,\n",
              " 'weakness': 3,\n",
              " 'dizzy': 3,\n",
              " 'mild cough': 3,\n",
              " 'gi symptoms': 3,\n",
              " 'dizziness': 3,\n",
              " 'muscle pain': 3,\n",
              " 'tight chest': 3,\n",
              " 'burning': 3,\n",
              " 'body aches': 3,\n",
              " 'slight cough': 2,\n",
              " 'malaise': 2,\n",
              " 'loss of smell': 2,\n",
              " 'sense of smell has returned': 2,\n",
              " 'throat': 2,\n",
              " 'fevers': 2,\n",
              " 'exhaustion': 2,\n",
              " 'infection': 2,\n",
              " 'mild headache': 2,\n",
              " 'aches': 2,\n",
              " 'upset stomach': 2,\n",
              " 'night sweats': 2,\n",
              " 'numbness': 2,\n",
              " 'sinus pain': 2,\n",
              " 'nasal congestion': 2,\n",
              " 'dry nose': 2,\n",
              " 'low grade fever': 2,\n",
              " 'neurological symptoms': 2,\n",
              " 'breathless': 2,\n",
              " 'stinging': 2,\n",
              " 'teary eyes': 2,\n",
              " 'stomach pain': 2,\n",
              " 'pain in my back': 2,\n",
              " 'acid reflux': 2,\n",
              " 'rash': 2,\n",
              " 'high heart rate': 2,\n",
              " 'runny nose': 2,\n",
              " 'achy': 2,\n",
              " 'viral fatigue': 2,\n",
              " 'hives': 2,\n",
              " 'back ache': 2,\n",
              " 'relapse': 1,\n",
              " 'wanting to sleep': 1,\n",
              " 'weird pressure around my head': 1,\n",
              " 'feels like': 1,\n",
              " 'pressure around my head and temples and even underneath my jaw and above my nose bridge': 1,\n",
              " 'water in my ear': 1,\n",
              " 'tension headache': 1,\n",
              " 'head hurts': 1,\n",
              " 'constant pressure all around rather than pain': 1,\n",
              " 'pressure in your head': 1,\n",
              " 'head rarely hurts': 1,\n",
              " 'brain inflammation': 1,\n",
              " 'anxious': 1,\n",
              " 'breath a little better': 1,\n",
              " 'no fever': 1,\n",
              " 'no chills': 1,\n",
              " 'oxygen levels were good': 1,\n",
              " 'i was stable': 1,\n",
              " 'i was released': 1,\n",
              " 'helped me with my breathing': 1,\n",
              " 'helps breathing': 1,\n",
              " 'suffering from shortness of breath': 1,\n",
              " 'breathing gets better': 1,\n",
              " 'very difficult time breathing': 1,\n",
              " 'choking cough': 1,\n",
              " 'super weak': 1,\n",
              " 'could not breathe': 1,\n",
              " 'collapsed': 1,\n",
              " 'totally exhausts': 1,\n",
              " 'drop my oxygen sat rates': 1,\n",
              " 'fatigues': 1,\n",
              " 'weak': 1,\n",
              " 'got so weak': 1,\n",
              " 'lower immune status': 1,\n",
              " 'poor cognitive thinking': 1,\n",
              " 'cough is still present and exhausting': 1,\n",
              " 'thinking is still slow': 1,\n",
              " 'cognitive thinking was all but gone': 1,\n",
              " 'breathing is still stressed': 1,\n",
              " 'thinking and reaction is still slow': 1,\n",
              " 'energy level is almost 0': 1,\n",
              " 'teeth have also suffered': 1,\n",
              " 'body aches and chills': 1,\n",
              " 'aches were very painful': 1,\n",
              " 'every joint in my body hurt': 1,\n",
              " 'able to smell': 1,\n",
              " 'annoying headache': 1,\n",
              " 'not being able to smell': 1,\n",
              " 'exhausting cough': 1,\n",
              " 'feel very alone': 1,\n",
              " 'never had much trouble in the way of breathing': 1,\n",
              " 'bad body aches no congestion': 1,\n",
              " 'feeling the shivers': 1,\n",
              " 'sour stomach feeling': 1,\n",
              " 'coughing is exhausting': 1,\n",
              " 'struggling with coughing': 1,\n",
              " 'breathing is difficult': 1,\n",
              " 'body temperature has not been above 9 7': 1,\n",
              " 'burning hot': 1,\n",
              " 'temperature not leveled back out little nervous': 1,\n",
              " 'heaviness in my chest': 1,\n",
              " 'slight headache': 1,\n",
              " 'little but heaviness in my left lung': 1,\n",
              " 'prolonged cough': 1,\n",
              " 'gi discomfort': 1,\n",
              " 'pressure in my chest': 1,\n",
              " 'nervous': 1,\n",
              " 'collapsed lung': 1,\n",
              " 'cough up': 1,\n",
              " 'help with the breathing': 1,\n",
              " 'it sort of \" came back \"': 1,\n",
              " 'started to cough': 1,\n",
              " 'caused some inflammation': 1,\n",
              " 'cant breathe': 1,\n",
              " 'causing an infection in my chest': 1,\n",
              " 'bunged up feeling in my head': 1,\n",
              " 'strange mild burning sensation in the top of my chest': 1,\n",
              " 'incredibly dry mouth': 1,\n",
              " 'incredibly dry throat': 1,\n",
              " 'odd taste in my mouth': 1,\n",
              " 'incredibly anxious': 1,\n",
              " 'dyspepsia': 1,\n",
              " 'rumbling stomach': 1,\n",
              " 'burning sensation at the top of my stomach': 1,\n",
              " 'burning sensation to the sides of the lower back': 1,\n",
              " 'mild burning sensation': 1,\n",
              " 'elevated temperature': 1,\n",
              " 'dry cough difficulty breathing': 1,\n",
              " 'woke up with a temperature': 1,\n",
              " 'flu': 1,\n",
              " 'anxiety attack': 1,\n",
              " 'stress': 1,\n",
              " 'coughs': 1,\n",
              " 'sneezes': 1,\n",
              " 'sneeze': 1,\n",
              " 'stomach up set': 1,\n",
              " 'sweats': 1,\n",
              " 'chest is still heavy': 1,\n",
              " 'joint pain': 1,\n",
              " 'needing more sleep': 1,\n",
              " 'running nose': 1,\n",
              " 'some coughing': 1,\n",
              " 'body ache': 1,\n",
              " 'sneezing': 1,\n",
              " 'thirsty': 1,\n",
              " 'lost my breath': 1,\n",
              " 'head was hurting': 1,\n",
              " 'entire body became hot': 1,\n",
              " 'threw up': 1,\n",
              " 'mild sore throat': 1,\n",
              " 'sore throat lozenges': 1,\n",
              " 'breathing problems': 1,\n",
              " 'sleep apnea': 1,\n",
              " 'respiratory failure': 1,\n",
              " 'weird sensations': 1,\n",
              " 'temperature has been up and down': 1,\n",
              " 'severe neuropathy': 1,\n",
              " 'seizures': 1,\n",
              " 'symptoms': 1,\n",
              " 'sleep is terrible': 1,\n",
              " 'blood oxygen': 1,\n",
              " 'pulse': 1,\n",
              " 'oxygen levels': 1,\n",
              " 'temperature was still up': 1,\n",
              " 'bed ridden': 1,\n",
              " 'being so ill': 1,\n",
              " 'light headed': 1,\n",
              " 'feeling lungs are clogged up': 1,\n",
              " 'feeling of lighting going thru my eyes': 1,\n",
              " 'get blurry': 1,\n",
              " 'high temperature': 1,\n",
              " 'lethargy': 1,\n",
              " 'burning effect of the nose and surrounding nasal tissue': 1,\n",
              " 'dry mouth': 1,\n",
              " 'chronic fatigue': 1,\n",
              " 'pins and needles in my forearms right to my fingers': 1,\n",
              " 'cloudy thinking': 1,\n",
              " 'anxiety attacks': 1,\n",
              " 'brain fog': 1,\n",
              " 'loss sense of smell': 1,\n",
              " 'weird dreams': 1,\n",
              " 'loss sense of taste': 1,\n",
              " 'lost sense of smell': 1,\n",
              " 'no smell or taste': 1,\n",
              " 'loss sense of smell , taste , or both': 1,\n",
              " 'head pain': 1,\n",
              " 'abdominal pain all over the stomach': 1,\n",
              " 'nerves are really bad': 1,\n",
              " 'weird stuff showing up on my skin': 1,\n",
              " 'taste and smell loss': 1,\n",
              " 'feeling': 1,\n",
              " 'heart grating weak muscles': 1,\n",
              " 'breath': 1,\n",
              " 'shortness of mild headaches': 1,\n",
              " 'loss of appetite': 1,\n",
              " 'feel really ill': 1,\n",
              " 'abdominal pains': 1,\n",
              " 'no appetite': 1,\n",
              " 'feel tight chested': 1,\n",
              " 'feel phlegm': 1,\n",
              " 'mild cramps': 1,\n",
              " 'difficultly breathing': 1,\n",
              " 'swelling': 1,\n",
              " 'chest or ribs are still paining little': 1,\n",
              " 'covid - 1 9': 1,\n",
              " 'congestion': 1,\n",
              " 'pain in my throat and lymph nodes': 1,\n",
              " 'sore , tight throat': 1,\n",
              " 'blocked nose': 1,\n",
              " 'hayfever': 1,\n",
              " 'lack of appetite': 1,\n",
              " 'lack of taste and smell': 1,\n",
              " 'extreme anxiety': 1,\n",
              " 'visual disturbances': 1,\n",
              " 'headache in frontal part of the brain': 1,\n",
              " 'tingling in my hands and feet': 1,\n",
              " 'stomach pains': 1,\n",
              " 'vomiting': 1,\n",
              " 'bowel issues': 1,\n",
              " 'tight neck': 1,\n",
              " 'tinnitus': 1,\n",
              " 'vertigo': 1,\n",
              " 'sore , itchy soft palette': 1,\n",
              " 'ear itching': 1,\n",
              " 'shortness of breathe': 1,\n",
              " 'severe headaches': 1,\n",
              " 'tightness , heaviness on my chest': 1,\n",
              " 'tightness in my chest': 1,\n",
              " 'feeling like food is coming up my oesophagus': 1,\n",
              " 'dry throat': 1,\n",
              " 'intense upper back pain': 1,\n",
              " 'neck pain': 1,\n",
              " 'fast heart rate': 1,\n",
              " 'sensations in left side of my face': 1,\n",
              " 'pins and needles in my hands': 1,\n",
              " 'feels like pain in my bone in my lower leg': 1,\n",
              " 'muscle pain in my arms': 1,\n",
              " 'pain in my joints': 1,\n",
              " 'tension in my upper body': 1,\n",
              " \"feels like i can ' t get a deep breath\": 1,\n",
              " 'i can barely move': 1,\n",
              " 'feeling that somebody is sat on my back': 1,\n",
              " 'crackly breath': 1,\n",
              " 'issues with digestive system': 1,\n",
              " 'lung issues': 1,\n",
              " 'severe headache': 1,\n",
              " 'bp was quite elevated': 1,\n",
              " 'elevated bp': 1,\n",
              " 'one tonsil slightly bigger than the other': 1,\n",
              " 'tongue also feels a little bigger': 1,\n",
              " 'neck feels like i have pressure on it': 1,\n",
              " 'tight feelings in my chest': 1,\n",
              " 'widespread rash': 1,\n",
              " 'nasal stuffiness': 1,\n",
              " 'low grade extreme fatigue': 1,\n",
              " 'feel so high temperature': 1,\n",
              " 'sudden wakes up': 1,\n",
              " 'burning the back of my chest': 1,\n",
              " 'insomnia': 1,\n",
              " 'problems sleeping': 1,\n",
              " 'complete no sleep': 1,\n",
              " 'severe gi symptoms': 1,\n",
              " 'rumbling tummy': 1,\n",
              " 'sense of smell and taste has been really weird': 1,\n",
              " 'most things taste vile': 1,\n",
              " 'smells have changed': 1,\n",
              " 'slight fever': 1,\n",
              " 'severe fever tastebuds completely gone': 1,\n",
              " 'upper back pain': 1,\n",
              " 'silent rumble': 1,\n",
              " 'thick , odorless mucus': 1,\n",
              " 'suffocating': 1,\n",
              " 'sharp pains behind the neck': 1,\n",
              " 'ache a lot from your back': 1,\n",
              " 'puffy': 1,\n",
              " 'flu symptoms': 1,\n",
              " 'no cough': 1,\n",
              " 'no temperature': 1,\n",
              " 'chest started to feel raw and sore': 1,\n",
              " 'chest started to burn constantly': 1,\n",
              " 'burning went down to my tummy shortness of breath': 1,\n",
              " 'catch my breath': 1,\n",
              " 'heart rate has been through the roof': 1,\n",
              " 'feel dizzy': 1,\n",
              " 'hot night sweats': 1,\n",
              " \"i ' m on fire\": 1,\n",
              " 'sweating': 1,\n",
              " 'body odour': 1,\n",
              " 'sweats week': 1,\n",
              " 'acute breathlessness': 1,\n",
              " 'severe gastric issues': 1,\n",
              " 'hot sweats': 1,\n",
              " 'breathing laboured': 1,\n",
              " 'eyes streaming': 1,\n",
              " 'hay fever': 1,\n",
              " 'winded': 1,\n",
              " 'sore thoat': 1,\n",
              " 'breatless': 1,\n",
              " 'taste': 1,\n",
              " 'loss of smell and pains in chest': 1,\n",
              " 'whole body feels painful': 1,\n",
              " 'chest tighness': 1,\n",
              " 'felt queasy': 1,\n",
              " 'hot to touch': 1,\n",
              " 'low grade temperature': 1,\n",
              " \"don ' t want to eat much\": 1,\n",
              " 'neck muscles ache': 1,\n",
              " 'struggled to sleep': 1,\n",
              " 'sleeping is very poor': 1,\n",
              " 'cold like symptoms': 1,\n",
              " 'trouble with sleeping': 1,\n",
              " 'breathing still up and down': 1,\n",
              " 'darts of pain': 1,\n",
              " 'upper back ache': 1,\n",
              " 'sore': 1,\n",
              " 'raised temperature': 1,\n",
              " 'intense fatigue': 1,\n",
              " 'feel tired': 1,\n",
              " 'stomach upset': 1,\n",
              " 'muscles are twitching': 1,\n",
              " 'appetite is only a little diminished': 1,\n",
              " 'sleepy': 1,\n",
              " 'syndrome': 1,\n",
              " 'delirium': 1,\n",
              " 'viral fatigue chronic fatigue syndrome': 1,\n",
              " 'temperature spike': 1,\n",
              " 'green / yellow phlegm': 1,\n",
              " 'significant trouble sleeping': 1,\n",
              " 'sleep problem': 1,\n",
              " 'trouble sleeping': 1,\n",
              " 'panic attack': 1,\n",
              " 'nicotine withdrawal symptoms': 1,\n",
              " 'chest tightness and heavyness': 1,\n",
              " 'feeling somethings in my lungs': 1,\n",
              " 'backache': 1,\n",
              " 'tongue swelled': 1,\n",
              " 'trouble breathing': 1,\n",
              " 'lack of taste': 1,\n",
              " 'mouth was burned': 1,\n",
              " 'covid toes': 1,\n",
              " 'blood clots': 1,\n",
              " 'allergy like redness around the toes nails': 1,\n",
              " 'redness around the toes': 1,\n",
              " 'severe stomach pain': 1,\n",
              " 'sickness': 1,\n",
              " 'lathargic': 1,\n",
              " 'heavyness': 1,\n",
              " 'slight pain when taking a very deep breathe': 1,\n",
              " 'nauseau': 1,\n",
              " 'lack of taste / smell': 1,\n",
              " 'ticklish throat': 1,\n",
              " 'chest has been hurting': 1,\n",
              " 'cant take a satisfying breath': 1,\n",
              " 'heart burn': 1,\n",
              " 'sick': 1,\n",
              " 'unwell': 1,\n",
              " 'wheezing': 1,\n",
              " 'painful throat': 1,\n",
              " 'discomfort on swallowing': 1,\n",
              " 'pains': 1,\n",
              " '100 degree fever': 1,\n",
              " 'high temp': 1,\n",
              " 'loss of taste and smell': 1,\n",
              " 'tempreture': 1,\n",
              " 'chestiness': 1,\n",
              " 'diahrrea': 1,\n",
              " 'arm ache': 1,\n",
              " 'leg aches': 1,\n",
              " 'persistant cough': 1,\n",
              " 'discomfort in chest when breathing': 1}"
            ]
          },
          "metadata": {
            "tags": []
          },
          "execution_count": 154
        }
      ]
    },
    {
      "cell_type": "code",
      "metadata": {
        "id": "dRcqPXqbkGvp"
      },
      "source": [
        "df_sym_freq = pd.DataFrame(list((dict(new_dict)).items()), columns = ['Symptom', 'Frequency'])\n",
        "df_sym_freq.to_csv('sym_freq.csv',index=False)\n",
        "\n",
        "\n",
        "only_syms = list((dict(new_dict)).keys())"
      ],
      "execution_count": null,
      "outputs": []
    },
    {
      "cell_type": "code",
      "metadata": {
        "id": "FKV93h42kGvp"
      },
      "source": [
        "from wordcloud import WordCloud\n",
        "import matplotlib.pyplot as plt"
      ],
      "execution_count": null,
      "outputs": []
    },
    {
      "cell_type": "code",
      "metadata": {
        "scrolled": false,
        "id": "GgTuvpMVkGvp"
      },
      "source": [
        "# wc = WordCloud(background_color = \"black\", width = 1000, height= 1000).generate_from_frequencies(new_dict)\n",
        "# fig = plt.figure(figsize = (15,15))\n",
        "# plt.imshow(wc, interpolation = \"bilinear\")\n",
        "# plt.axis(\"off\")\n",
        "# plt.show()"
      ],
      "execution_count": null,
      "outputs": []
    },
    {
      "cell_type": "code",
      "metadata": {
        "scrolled": true,
        "id": "0lA0Z31vkGvp",
        "outputId": "080a75a8-b8a3-4f98-9db4-589ccea94823"
      },
      "source": [
        "df_sym_freq.groupby('Symptom').sum().sort_values(['Frequency'],ascending=False).head(25)"
      ],
      "execution_count": null,
      "outputs": [
        {
          "output_type": "execute_result",
          "data": {
            "text/html": [
              "<div>\n",
              "<style scoped>\n",
              "    .dataframe tbody tr th:only-of-type {\n",
              "        vertical-align: middle;\n",
              "    }\n",
              "\n",
              "    .dataframe tbody tr th {\n",
              "        vertical-align: top;\n",
              "    }\n",
              "\n",
              "    .dataframe thead th {\n",
              "        text-align: right;\n",
              "    }\n",
              "</style>\n",
              "<table border=\"1\" class=\"dataframe\">\n",
              "  <thead>\n",
              "    <tr style=\"text-align: right;\">\n",
              "      <th></th>\n",
              "      <th>Frequency</th>\n",
              "    </tr>\n",
              "    <tr>\n",
              "      <th>Symptom</th>\n",
              "      <th></th>\n",
              "    </tr>\n",
              "  </thead>\n",
              "  <tbody>\n",
              "    <tr>\n",
              "      <td>cough</td>\n",
              "      <td>41</td>\n",
              "    </tr>\n",
              "    <tr>\n",
              "      <td>fever</td>\n",
              "      <td>32</td>\n",
              "    </tr>\n",
              "    <tr>\n",
              "      <td>sore throat</td>\n",
              "      <td>16</td>\n",
              "    </tr>\n",
              "    <tr>\n",
              "      <td>fatigue</td>\n",
              "      <td>15</td>\n",
              "    </tr>\n",
              "    <tr>\n",
              "      <td>headache</td>\n",
              "      <td>15</td>\n",
              "    </tr>\n",
              "    <tr>\n",
              "      <td>headaches</td>\n",
              "      <td>10</td>\n",
              "    </tr>\n",
              "    <tr>\n",
              "      <td>shortness of breath</td>\n",
              "      <td>9</td>\n",
              "    </tr>\n",
              "    <tr>\n",
              "      <td>nausea</td>\n",
              "      <td>9</td>\n",
              "    </tr>\n",
              "    <tr>\n",
              "      <td>breathlessness</td>\n",
              "      <td>8</td>\n",
              "    </tr>\n",
              "    <tr>\n",
              "      <td>dry cough</td>\n",
              "      <td>6</td>\n",
              "    </tr>\n",
              "    <tr>\n",
              "      <td>extreme fatigue</td>\n",
              "      <td>5</td>\n",
              "    </tr>\n",
              "    <tr>\n",
              "      <td>fatigued</td>\n",
              "      <td>5</td>\n",
              "    </tr>\n",
              "    <tr>\n",
              "      <td>tired</td>\n",
              "      <td>5</td>\n",
              "    </tr>\n",
              "    <tr>\n",
              "      <td>tiredness</td>\n",
              "      <td>5</td>\n",
              "    </tr>\n",
              "    <tr>\n",
              "      <td>coughing</td>\n",
              "      <td>5</td>\n",
              "    </tr>\n",
              "    <tr>\n",
              "      <td>nauseous</td>\n",
              "      <td>5</td>\n",
              "    </tr>\n",
              "    <tr>\n",
              "      <td>chest pains</td>\n",
              "      <td>5</td>\n",
              "    </tr>\n",
              "    <tr>\n",
              "      <td>gastric issues</td>\n",
              "      <td>5</td>\n",
              "    </tr>\n",
              "    <tr>\n",
              "      <td>chest pain</td>\n",
              "      <td>5</td>\n",
              "    </tr>\n",
              "    <tr>\n",
              "      <td>chills</td>\n",
              "      <td>4</td>\n",
              "    </tr>\n",
              "    <tr>\n",
              "      <td>chest tightness</td>\n",
              "      <td>4</td>\n",
              "    </tr>\n",
              "    <tr>\n",
              "      <td>temp</td>\n",
              "      <td>4</td>\n",
              "    </tr>\n",
              "    <tr>\n",
              "      <td>burning sensation</td>\n",
              "      <td>4</td>\n",
              "    </tr>\n",
              "    <tr>\n",
              "      <td>diarrhea</td>\n",
              "      <td>4</td>\n",
              "    </tr>\n",
              "    <tr>\n",
              "      <td>temperature</td>\n",
              "      <td>4</td>\n",
              "    </tr>\n",
              "  </tbody>\n",
              "</table>\n",
              "</div>"
            ],
            "text/plain": [
              "                     Frequency\n",
              "Symptom                       \n",
              "cough                       41\n",
              "fever                       32\n",
              "sore throat                 16\n",
              "fatigue                     15\n",
              "headache                    15\n",
              "headaches                   10\n",
              "shortness of breath          9\n",
              "nausea                       9\n",
              "breathlessness               8\n",
              "dry cough                    6\n",
              "extreme fatigue              5\n",
              "fatigued                     5\n",
              "tired                        5\n",
              "tiredness                    5\n",
              "coughing                     5\n",
              "nauseous                     5\n",
              "chest pains                  5\n",
              "gastric issues               5\n",
              "chest pain                   5\n",
              "chills                       4\n",
              "chest tightness              4\n",
              "temp                         4\n",
              "burning sensation            4\n",
              "diarrhea                     4\n",
              "temperature                  4"
            ]
          },
          "metadata": {
            "tags": []
          },
          "execution_count": 158
        }
      ]
    },
    {
      "cell_type": "code",
      "metadata": {
        "id": "i2M6MywlkGvq",
        "outputId": "850f96b3-cf4c-4ac7-d381-7ce6c82f411a"
      },
      "source": [
        "sym_df.info()"
      ],
      "execution_count": null,
      "outputs": [
        {
          "output_type": "stream",
          "text": [
            "<class 'pandas.core.frame.DataFrame'>\n",
            "Index: 182 entries, fever to platypnea\n",
            "Data columns (total 1 columns):\n",
            "Counts    182 non-null int64\n",
            "dtypes: int64(1)\n",
            "memory usage: 2.8+ KB\n"
          ],
          "name": "stdout"
        }
      ]
    },
    {
      "cell_type": "code",
      "metadata": {
        "id": "RtwawKhjkGvq",
        "outputId": "96b63c8d-f88b-4ac6-bf23-b388f6d403fd"
      },
      "source": [
        "only_syms"
      ],
      "execution_count": null,
      "outputs": [
        {
          "output_type": "execute_result",
          "data": {
            "text/plain": [
              "['relapse',\n",
              " 'anxiety',\n",
              " 'fatigued',\n",
              " 'wanting to sleep',\n",
              " 'weird pressure around my head',\n",
              " 'feels like',\n",
              " 'pressure around my head and temples and even underneath my jaw and above my nose bridge',\n",
              " 'water in my ear',\n",
              " 'tension headache',\n",
              " 'head hurts',\n",
              " 'constant pressure all around rather than pain',\n",
              " 'pressure in your head',\n",
              " 'head rarely hurts',\n",
              " 'brain inflammation',\n",
              " 'headache',\n",
              " 'coughing',\n",
              " 'anxious',\n",
              " 'breath a little better',\n",
              " 'no fever',\n",
              " 'no chills',\n",
              " 'slight cough',\n",
              " 'cough',\n",
              " 'oxygen levels were good',\n",
              " 'i was stable',\n",
              " 'i was released',\n",
              " 'helped me with my breathing',\n",
              " 'helps breathing',\n",
              " 'suffering from shortness of breath',\n",
              " 'breathing gets better',\n",
              " 'very difficult time breathing',\n",
              " 'choking cough',\n",
              " 'super weak',\n",
              " 'could not breathe',\n",
              " 'collapsed',\n",
              " 'totally exhausts',\n",
              " 'drop my oxygen sat rates',\n",
              " 'fatigues',\n",
              " 'weak',\n",
              " 'short of breath',\n",
              " 'got so weak',\n",
              " 'lower immune status',\n",
              " 'malaise',\n",
              " 'extreme fatigue',\n",
              " 'loss of smell',\n",
              " 'poor cognitive thinking',\n",
              " 'shortness of breath',\n",
              " 'cough is still present and exhausting',\n",
              " 'sense of smell has returned',\n",
              " 'thinking is still slow',\n",
              " 'headaches',\n",
              " 'fatigue',\n",
              " 'cognitive thinking was all but gone',\n",
              " 'breathing is still stressed',\n",
              " 'thinking and reaction is still slow',\n",
              " 'energy level is almost 0',\n",
              " 'teeth have also suffered',\n",
              " 'sore throat',\n",
              " 'body aches and chills',\n",
              " 'aches were very painful',\n",
              " 'every joint in my body hurt',\n",
              " 'able to smell',\n",
              " 'annoying headache',\n",
              " 'not being able to smell',\n",
              " 'exhausting cough',\n",
              " 'tired',\n",
              " 'feel very alone',\n",
              " 'shortness',\n",
              " 'throat',\n",
              " 'never had much trouble in the way of breathing',\n",
              " 'chills',\n",
              " 'fevers',\n",
              " 'bad body aches no congestion',\n",
              " 'feeling the shivers',\n",
              " 'sour stomach feeling',\n",
              " 'coughing is exhausting',\n",
              " 'struggling with coughing',\n",
              " 'exhaustion',\n",
              " 'breathing is difficult',\n",
              " 'body temperature has not been above 9 7',\n",
              " 'burning hot',\n",
              " 'temperature not leveled back out little nervous',\n",
              " 'dry cough',\n",
              " 'heaviness in my chest',\n",
              " 'fever',\n",
              " 'slight headache',\n",
              " 'little but heaviness in my left lung',\n",
              " 'prolonged cough',\n",
              " 'gi discomfort',\n",
              " 'pressure in my chest',\n",
              " 'nervous',\n",
              " 'collapsed lung',\n",
              " 'cough up',\n",
              " 'help with the breathing',\n",
              " 'it sort of \" came back \"',\n",
              " 'started to cough',\n",
              " 'caused some inflammation',\n",
              " 'cant breathe',\n",
              " 'causing an infection in my chest',\n",
              " 'bunged up feeling in my head',\n",
              " 'strange mild burning sensation in the top of my chest',\n",
              " 'incredibly dry mouth',\n",
              " 'incredibly dry throat',\n",
              " 'odd taste in my mouth',\n",
              " 'burning sensation',\n",
              " 'incredibly anxious',\n",
              " 'dyspepsia',\n",
              " 'rumbling stomach',\n",
              " 'burning sensation at the top of my stomach',\n",
              " 'burning sensation to the sides of the lower back',\n",
              " 'mild burning sensation',\n",
              " 'high temperatures',\n",
              " 'elevated temperature',\n",
              " 'dry cough difficulty breathing',\n",
              " 'infection',\n",
              " 'woke up with a temperature',\n",
              " 'flu',\n",
              " 'anxiety attack',\n",
              " 'stress',\n",
              " 'coughs',\n",
              " 'sneezes',\n",
              " 'sneeze',\n",
              " 'stomach up set',\n",
              " 'sweats',\n",
              " 'chest is still heavy',\n",
              " 'weakness',\n",
              " 'joint pain',\n",
              " 'needing more sleep',\n",
              " 'mild headache',\n",
              " 'running nose',\n",
              " 'some coughing',\n",
              " 'body ache',\n",
              " 'aches',\n",
              " 'sneezing',\n",
              " 'upset stomach',\n",
              " 'night sweats',\n",
              " 'thirsty',\n",
              " 'lost my breath',\n",
              " 'head was hurting',\n",
              " 'entire body became hot',\n",
              " 'threw up',\n",
              " 'mild sore throat',\n",
              " 'sore throat lozenges',\n",
              " 'breathing problems',\n",
              " 'sleep apnea',\n",
              " 'respiratory failure',\n",
              " 'weird sensations',\n",
              " 'temperature has been up and down',\n",
              " 'severe neuropathy',\n",
              " 'seizures',\n",
              " 'symptoms',\n",
              " 'sleep is terrible',\n",
              " 'blood oxygen',\n",
              " 'temperature',\n",
              " 'pulse',\n",
              " 'oxygen levels',\n",
              " 'temperature was still up',\n",
              " 'bed ridden',\n",
              " 'dizzy',\n",
              " 'breathlessness',\n",
              " 'being so ill',\n",
              " 'light headed',\n",
              " 'feeling lungs are clogged up',\n",
              " 'feeling of lighting going thru my eyes',\n",
              " 'get blurry',\n",
              " 'high temperature',\n",
              " 'lethargy',\n",
              " 'burning effect of the nose and surrounding nasal tissue',\n",
              " 'dry mouth',\n",
              " 'chronic fatigue',\n",
              " 'pins and needles in my forearms right to my fingers',\n",
              " 'numbness',\n",
              " 'cloudy thinking',\n",
              " 'anxiety attacks',\n",
              " 'brain fog',\n",
              " 'sinus pain',\n",
              " 'nasal congestion',\n",
              " 'loss sense of smell',\n",
              " 'mild cough',\n",
              " 'temp',\n",
              " 'weird dreams',\n",
              " 'loss sense of taste',\n",
              " 'lost sense of smell',\n",
              " 'chest pain',\n",
              " 'no smell or taste',\n",
              " 'loss sense of smell , taste , or both',\n",
              " 'head pain',\n",
              " 'abdominal pain all over the stomach',\n",
              " 'nerves are really bad',\n",
              " 'weird stuff showing up on my skin',\n",
              " 'taste and smell loss',\n",
              " 'feeling',\n",
              " 'heart grating weak muscles',\n",
              " 'breath',\n",
              " 'shortness of mild headaches',\n",
              " 'loss of appetite',\n",
              " 'feel really ill',\n",
              " 'nauseous',\n",
              " 'abdominal pains',\n",
              " 'no appetite',\n",
              " 'feel tight chested',\n",
              " 'feel phlegm',\n",
              " 'chest tightness',\n",
              " 'dry nose',\n",
              " 'mild cramps',\n",
              " 'difficultly breathing',\n",
              " 'swelling',\n",
              " 'chest or ribs are still paining little',\n",
              " 'covid - 1 9',\n",
              " 'congestion',\n",
              " 'low grade fever',\n",
              " 'pain in my throat and lymph nodes',\n",
              " 'sore , tight throat',\n",
              " 'blocked nose',\n",
              " 'hayfever',\n",
              " 'gi symptoms',\n",
              " 'lack of appetite',\n",
              " 'lack of taste and smell',\n",
              " 'tiredness',\n",
              " 'extreme anxiety',\n",
              " 'neurological symptoms',\n",
              " 'visual disturbances',\n",
              " 'dizziness',\n",
              " 'headache in frontal part of the brain',\n",
              " 'tingling in my hands and feet',\n",
              " 'stomach pains',\n",
              " 'vomiting',\n",
              " 'bowel issues',\n",
              " 'tight neck',\n",
              " 'tinnitus',\n",
              " 'vertigo',\n",
              " 'sore , itchy soft palette',\n",
              " 'ear itching',\n",
              " 'shortness of breathe',\n",
              " 'severe headaches',\n",
              " 'tightness , heaviness on my chest',\n",
              " 'tightness in my chest',\n",
              " 'breathless',\n",
              " 'nausea',\n",
              " 'diarrhea',\n",
              " 'gastric issues',\n",
              " 'feeling like food is coming up my oesophagus',\n",
              " 'dry throat',\n",
              " 'intense upper back pain',\n",
              " 'muscle pain',\n",
              " 'neck pain',\n",
              " 'fast heart rate',\n",
              " 'sensations in left side of my face',\n",
              " 'pins and needles in my hands',\n",
              " 'feels like pain in my bone in my lower leg',\n",
              " 'stinging',\n",
              " 'teary eyes',\n",
              " 'stomach pain',\n",
              " 'pain in my back',\n",
              " 'muscle pain in my arms',\n",
              " 'pain in my joints',\n",
              " 'tension in my upper body',\n",
              " \"feels like i can ' t get a deep breath\",\n",
              " 'i can barely move',\n",
              " 'chest pains',\n",
              " 'feeling that somebody is sat on my back',\n",
              " 'crackly breath',\n",
              " 'issues with digestive system',\n",
              " 'lung issues',\n",
              " 'severe headache',\n",
              " 'bp was quite elevated',\n",
              " 'elevated bp',\n",
              " 'one tonsil slightly bigger than the other',\n",
              " 'tongue also feels a little bigger',\n",
              " 'neck feels like i have pressure on it',\n",
              " 'tight feelings in my chest',\n",
              " 'widespread rash',\n",
              " 'nasal stuffiness',\n",
              " 'low grade extreme fatigue',\n",
              " 'feel so high temperature',\n",
              " 'sudden wakes up',\n",
              " 'burning the back of my chest',\n",
              " 'insomnia',\n",
              " 'problems sleeping',\n",
              " 'complete no sleep',\n",
              " 'severe gi symptoms',\n",
              " 'rumbling tummy',\n",
              " 'acid reflux',\n",
              " 'sense of smell and taste has been really weird',\n",
              " 'most things taste vile',\n",
              " 'smells have changed',\n",
              " 'slight fever',\n",
              " 'severe fever tastebuds completely gone',\n",
              " 'feverish',\n",
              " 'upper back pain',\n",
              " 'rash',\n",
              " 'silent rumble',\n",
              " 'thick , odorless mucus',\n",
              " 'suffocating',\n",
              " 'sharp pains behind the neck',\n",
              " 'ache a lot from your back',\n",
              " 'puffy',\n",
              " 'flu symptoms',\n",
              " 'tight chest',\n",
              " 'no cough',\n",
              " 'no temperature',\n",
              " 'chest started to feel raw and sore',\n",
              " 'chest started to burn constantly',\n",
              " 'burning',\n",
              " 'burning went down to my tummy shortness of breath',\n",
              " 'catch my breath',\n",
              " 'heart rate has been through the roof',\n",
              " 'feel dizzy',\n",
              " 'hot night sweats',\n",
              " \"i ' m on fire\",\n",
              " 'sweating',\n",
              " 'body odour',\n",
              " 'sweats week',\n",
              " 'body aches',\n",
              " 'high heart rate',\n",
              " 'acute breathlessness',\n",
              " 'severe gastric issues',\n",
              " 'hot sweats',\n",
              " 'breathing laboured',\n",
              " 'runny nose',\n",
              " 'eyes streaming',\n",
              " 'hay fever',\n",
              " 'winded',\n",
              " 'sore thoat',\n",
              " 'breatless',\n",
              " 'taste',\n",
              " 'loss of smell and pains in chest',\n",
              " 'whole body feels painful',\n",
              " 'chest tighness',\n",
              " 'felt queasy',\n",
              " 'achy',\n",
              " 'hot to touch',\n",
              " 'low grade temperature',\n",
              " \"don ' t want to eat much\",\n",
              " 'neck muscles ache',\n",
              " 'struggled to sleep',\n",
              " 'sleeping is very poor',\n",
              " 'cold like symptoms',\n",
              " 'trouble with sleeping',\n",
              " 'breathing still up and down',\n",
              " 'darts of pain',\n",
              " 'upper back ache',\n",
              " 'sore',\n",
              " 'raised temperature',\n",
              " 'intense fatigue',\n",
              " 'feel tired',\n",
              " 'stomach upset',\n",
              " 'muscles are twitching',\n",
              " 'appetite is only a little diminished',\n",
              " 'sleepy',\n",
              " 'syndrome',\n",
              " 'delirium',\n",
              " 'viral fatigue chronic fatigue syndrome',\n",
              " 'temperature spike',\n",
              " 'green / yellow phlegm',\n",
              " 'significant trouble sleeping',\n",
              " 'sleep problem',\n",
              " 'viral fatigue',\n",
              " 'trouble sleeping',\n",
              " 'panic attack',\n",
              " 'nicotine withdrawal symptoms',\n",
              " 'chest tightness and heavyness',\n",
              " 'feeling somethings in my lungs',\n",
              " 'backache',\n",
              " 'hives',\n",
              " 'tongue swelled',\n",
              " 'trouble breathing',\n",
              " 'lack of taste',\n",
              " 'mouth was burned',\n",
              " 'covid toes',\n",
              " 'blood clots',\n",
              " 'allergy like redness around the toes nails',\n",
              " 'redness around the toes',\n",
              " 'severe stomach pain',\n",
              " 'sickness',\n",
              " 'lathargic',\n",
              " 'heavyness',\n",
              " 'slight pain when taking a very deep breathe',\n",
              " 'back ache',\n",
              " 'nauseau',\n",
              " 'lack of taste / smell',\n",
              " 'ticklish throat',\n",
              " 'chest has been hurting',\n",
              " 'cant take a satisfying breath',\n",
              " 'heart burn',\n",
              " 'sick',\n",
              " 'unwell',\n",
              " 'wheezing',\n",
              " 'painful throat',\n",
              " 'discomfort on swallowing',\n",
              " 'pains',\n",
              " '100 degree fever',\n",
              " 'high temp',\n",
              " 'loss of taste and smell',\n",
              " 'tempreture',\n",
              " 'chestiness',\n",
              " 'diahrrea',\n",
              " 'arm ache',\n",
              " 'leg aches',\n",
              " 'persistant cough',\n",
              " 'discomfort in chest when breathing']"
            ]
          },
          "metadata": {
            "tags": []
          },
          "execution_count": 160
        }
      ]
    },
    {
      "cell_type": "code",
      "metadata": {
        "id": "I_LeMsLikGvq",
        "outputId": "59e67e8e-d1af-4387-b3f5-373ea9d31d2a"
      },
      "source": [
        "len(only_syms)"
      ],
      "execution_count": null,
      "outputs": [
        {
          "output_type": "execute_result",
          "data": {
            "text/plain": [
              "400"
            ]
          },
          "metadata": {
            "tags": []
          },
          "execution_count": 161
        }
      ]
    },
    {
      "cell_type": "code",
      "metadata": {
        "id": "2Y14y50dkGvq"
      },
      "source": [
        "# yields the elements in `list_2` that are NOT in `list_1`\n",
        "final_list = np.setdiff1d(symptoms,only_syms)"
      ],
      "execution_count": null,
      "outputs": []
    },
    {
      "cell_type": "code",
      "metadata": {
        "id": "5nMWCN5BkGvq",
        "outputId": "c0881ac9-0944-4bc9-9800-b45f0460a0c6"
      },
      "source": [
        "len(symptoms)"
      ],
      "execution_count": null,
      "outputs": [
        {
          "output_type": "execute_result",
          "data": {
            "text/plain": [
              "209"
            ]
          },
          "metadata": {
            "tags": []
          },
          "execution_count": 163
        }
      ]
    },
    {
      "cell_type": "code",
      "metadata": {
        "id": "CcclhCKnkGvq",
        "outputId": "b3ba9de8-cc8f-477e-e107-1b75684baa51"
      },
      "source": [
        "len(final_list)"
      ],
      "execution_count": null,
      "outputs": [
        {
          "output_type": "execute_result",
          "data": {
            "text/plain": [
              "177"
            ]
          },
          "metadata": {
            "tags": []
          },
          "execution_count": 164
        }
      ]
    },
    {
      "cell_type": "code",
      "metadata": {
        "id": "hHpXRqYRkGvq"
      },
      "source": [
        "def intersection(lst1, lst2): \n",
        "    lst3 = [value for value in lst1 if value in lst2] \n",
        "    return lst3 "
      ],
      "execution_count": null,
      "outputs": []
    },
    {
      "cell_type": "code",
      "metadata": {
        "scrolled": true,
        "id": "9Qnv0M5TkGvq",
        "outputId": "26dc77e1-1cf3-406f-d89e-1049fbd8f062"
      },
      "source": [
        "intersection(symptoms, only_syms)"
      ],
      "execution_count": null,
      "outputs": [
        {
          "output_type": "execute_result",
          "data": {
            "text/plain": [
              "['chills',\n",
              " 'dizziness',\n",
              " 'sneezing',\n",
              " 'vertigo',\n",
              " 'fatigue',\n",
              " 'malaise',\n",
              " 'sweats',\n",
              " 'swelling',\n",
              " 'loss of smell',\n",
              " 'loss of appetite',\n",
              " 'chest pain',\n",
              " 'dry mouth',\n",
              " 'sore throat',\n",
              " 'tinnitus',\n",
              " 'fever',\n",
              " 'diarrhea',\n",
              " 'dyspepsia',\n",
              " 'chest tightness',\n",
              " 'nausea',\n",
              " 'vomiting',\n",
              " 'rash',\n",
              " 'nasal congestion',\n",
              " 'headache',\n",
              " 'insomnia',\n",
              " 'body aches',\n",
              " 'anxiety',\n",
              " 'cough',\n",
              " 'shortness of breath',\n",
              " 'congestion',\n",
              " 'runny nose',\n",
              " 'trouble breathing',\n",
              " 'fevers']"
            ]
          },
          "metadata": {
            "tags": []
          },
          "execution_count": 166
        }
      ]
    },
    {
      "cell_type": "code",
      "metadata": {
        "id": "b6_mrAPckGvq",
        "outputId": "15a976ce-2787-4a52-c9ba-3b741870d573"
      },
      "source": [
        "len(intersection(symptoms, only_syms))"
      ],
      "execution_count": null,
      "outputs": [
        {
          "output_type": "execute_result",
          "data": {
            "text/plain": [
              "32"
            ]
          },
          "metadata": {
            "tags": []
          },
          "execution_count": 167
        }
      ]
    },
    {
      "cell_type": "code",
      "metadata": {
        "id": "9fINT6pMkGvq"
      },
      "source": [
        "# import nltk\n",
        "# nltk.download('perluniprops')\n",
        "\n",
        "# from nltk.tokenize.moses import MosesDetokenizer\n"
      ],
      "execution_count": null,
      "outputs": []
    },
    {
      "cell_type": "code",
      "metadata": {
        "id": "atVZu8_jkGvq"
      },
      "source": [
        "# plm_df['detoken']=plm_df['Sentence'].apply(lambda x: detokenizer.detokenize(x, return_str=True))"
      ],
      "execution_count": null,
      "outputs": []
    },
    {
      "cell_type": "markdown",
      "metadata": {
        "id": "jyRKH8-QkGvq"
      },
      "source": [
        "### Create a version of the COLL-DATA that only contains *sentences* with symptom terms"
      ]
    },
    {
      "cell_type": "code",
      "metadata": {
        "id": "dOoNBsAJkGvq",
        "outputId": "476a77f7-f60f-4cfb-c624-ee27f84d846e"
      },
      "source": [
        "plm_df"
      ],
      "execution_count": null,
      "outputs": [
        {
          "output_type": "execute_result",
          "data": {
            "text/html": [
              "<div>\n",
              "<style scoped>\n",
              "    .dataframe tbody tr th:only-of-type {\n",
              "        vertical-align: middle;\n",
              "    }\n",
              "\n",
              "    .dataframe tbody tr th {\n",
              "        vertical-align: top;\n",
              "    }\n",
              "\n",
              "    .dataframe thead th {\n",
              "        text-align: right;\n",
              "    }\n",
              "</style>\n",
              "<table border=\"1\" class=\"dataframe\">\n",
              "  <thead>\n",
              "    <tr style=\"text-align: right;\">\n",
              "      <th></th>\n",
              "      <th>Sentence</th>\n",
              "      <th>Words</th>\n",
              "      <th>Tag</th>\n",
              "    </tr>\n",
              "  </thead>\n",
              "  <tbody>\n",
              "    <tr>\n",
              "      <td>0</td>\n",
              "      <td>Sentence #1</td>\n",
              "      <td>I</td>\n",
              "      <td>O</td>\n",
              "    </tr>\n",
              "    <tr>\n",
              "      <td>1</td>\n",
              "      <td>NaN</td>\n",
              "      <td>was</td>\n",
              "      <td>O</td>\n",
              "    </tr>\n",
              "    <tr>\n",
              "      <td>2</td>\n",
              "      <td>NaN</td>\n",
              "      <td>diagnosed</td>\n",
              "      <td>O</td>\n",
              "    </tr>\n",
              "    <tr>\n",
              "      <td>3</td>\n",
              "      <td>NaN</td>\n",
              "      <td>3</td>\n",
              "      <td>O</td>\n",
              "    </tr>\n",
              "    <tr>\n",
              "      <td>4</td>\n",
              "      <td>NaN</td>\n",
              "      <td>days</td>\n",
              "      <td>O</td>\n",
              "    </tr>\n",
              "    <tr>\n",
              "      <td>...</td>\n",
              "      <td>...</td>\n",
              "      <td>...</td>\n",
              "      <td>...</td>\n",
              "    </tr>\n",
              "    <tr>\n",
              "      <td>8929</td>\n",
              "      <td>NaN</td>\n",
              "      <td>support</td>\n",
              "      <td>O</td>\n",
              "    </tr>\n",
              "    <tr>\n",
              "      <td>8930</td>\n",
              "      <td>NaN</td>\n",
              "      <td>and</td>\n",
              "      <td>O</td>\n",
              "    </tr>\n",
              "    <tr>\n",
              "      <td>8931</td>\n",
              "      <td>NaN</td>\n",
              "      <td>emerging</td>\n",
              "      <td>O</td>\n",
              "    </tr>\n",
              "    <tr>\n",
              "      <td>8932</td>\n",
              "      <td>NaN</td>\n",
              "      <td>information</td>\n",
              "      <td>O</td>\n",
              "    </tr>\n",
              "    <tr>\n",
              "      <td>8933</td>\n",
              "      <td>NaN</td>\n",
              "      <td>.</td>\n",
              "      <td>O</td>\n",
              "    </tr>\n",
              "  </tbody>\n",
              "</table>\n",
              "<p>8934 rows × 3 columns</p>\n",
              "</div>"
            ],
            "text/plain": [
              "         Sentence        Words Tag\n",
              "0     Sentence #1            I   O\n",
              "1             NaN          was   O\n",
              "2             NaN    diagnosed   O\n",
              "3             NaN            3   O\n",
              "4             NaN         days   O\n",
              "...           ...          ...  ..\n",
              "8929          NaN      support   O\n",
              "8930          NaN          and   O\n",
              "8931          NaN     emerging   O\n",
              "8932          NaN  information   O\n",
              "8933          NaN            .   O\n",
              "\n",
              "[8934 rows x 3 columns]"
            ]
          },
          "metadata": {
            "tags": []
          },
          "execution_count": 170
        }
      ]
    },
    {
      "cell_type": "code",
      "metadata": {
        "id": "orm0PTNMkGvq"
      },
      "source": [
        "def colloqual_data_processing(tagged_data, symptom_list):\n",
        "    #Replace NaN values with emtpy spaces to match the original format \n",
        "    tagged_data['Sentence'] = tagged_data['Sentence'].replace(np.nan, ' ')\n",
        "    \n",
        "    #Take in the data frame and create a list of sentences\n",
        "    sent_value = []\n",
        "    sentence = []\n",
        "    for name, values in tagged_data.iterrows():\n",
        "\n",
        "        #print(values)\n",
        "        if values['Sentence'].startswith('Sentence') == True:\n",
        "            sent_value.append(sentence)\n",
        "            sentence = []\n",
        "\n",
        "        sentence.append(str(values['Words']))        \n",
        "    \n",
        "    #Put the full list together to have the full text to extract only the sentences that include symptoms \n",
        "\n",
        "    sentence_list = []\n",
        "    for sentence in sent_value:\n",
        "        if len(sentence) <= 1: #remove the sentences that have . or space as the only character \n",
        "            continue\n",
        "\n",
        "        full_txt = \" \".join(sentence).strip()\n",
        "        sentence_list.append(str(full_txt))\n",
        "    #join the sentences\n",
        "    full_Sent = \" \".join(sentence_list)\n",
        "\n",
        "    #create a dataframe with the full text of words\n",
        "    d = {'Sentence' : [full_Sent]}\n",
        "    col_df = pd.DataFrame(data=d)\n",
        "    \n",
        "    #Tokenize the sentences to have one sentence per row \n",
        "    sentences = []\n",
        "    sentence_pattern = r'(?<=[^A-Z].[.?]) +(?=[A-Z])'\n",
        "    for row in col_df.itertuples():            \n",
        "         for sentence in re.split(sentence_pattern, row[1]):\n",
        "                sentences.append((row[0], sentence))\n",
        "                \n",
        "\n",
        "    collo_df = pd.DataFrame(sentences, columns=['Index','Sentence'])\n",
        "#     print(collo_df.head())\n",
        "    \n",
        "    collo_df.drop('Index', axis = 1, inplace = True)\n",
        "    \n",
        "    #Create a pattern to check for sentences that contain the symtoms \n",
        "    new_pattern = '\\\\b' + '\\\\b|\\\\b'.join(symptom_list) + '\\\\b'\n",
        "    colloqual_df = collo_df[collo_df['Sentence'].str.contains(new_pattern, flags = re.IGNORECASE)].copy()\n",
        "#     print(colloqual_df.head())\n",
        "\n",
        "    return sent_value, colloqual_df\n"
      ],
      "execution_count": null,
      "outputs": []
    },
    {
      "cell_type": "code",
      "metadata": {
        "id": "LFpwcDWYkGvq"
      },
      "source": [
        "sent_value, colloqual_df = colloqual_data_processing(plm_df, only_syms)"
      ],
      "execution_count": null,
      "outputs": []
    },
    {
      "cell_type": "code",
      "metadata": {
        "id": "vEqS1-2JkGvq",
        "outputId": "745fac24-c886-4bef-9ba2-7e760e298458"
      },
      "source": [
        "colloqual_df.head()"
      ],
      "execution_count": null,
      "outputs": [
        {
          "output_type": "execute_result",
          "data": {
            "text/html": [
              "<div>\n",
              "<style scoped>\n",
              "    .dataframe tbody tr th:only-of-type {\n",
              "        vertical-align: middle;\n",
              "    }\n",
              "\n",
              "    .dataframe tbody tr th {\n",
              "        vertical-align: top;\n",
              "    }\n",
              "\n",
              "    .dataframe thead th {\n",
              "        text-align: right;\n",
              "    }\n",
              "</style>\n",
              "<table border=\"1\" class=\"dataframe\">\n",
              "  <thead>\n",
              "    <tr style=\"text-align: right;\">\n",
              "      <th></th>\n",
              "      <th>Sentence</th>\n",
              "    </tr>\n",
              "  </thead>\n",
              "  <tbody>\n",
              "    <tr>\n",
              "      <td>0</td>\n",
              "      <td>I was diagnosed 3 days ago however symptoms st...</td>\n",
              "    </tr>\n",
              "    <tr>\n",
              "      <td>1</td>\n",
              "      <td>Isolated starting 8 days ago but as symptoms m...</td>\n",
              "    </tr>\n",
              "    <tr>\n",
              "      <td>2</td>\n",
              "      <td>Take the time to recover even as symptoms ligh...</td>\n",
              "    </tr>\n",
              "    <tr>\n",
              "      <td>3</td>\n",
              "      <td>I ' ve been extremely fatigued , wanting to sl...</td>\n",
              "    </tr>\n",
              "    <tr>\n",
              "      <td>4</td>\n",
              "      <td>Also my biggest worry I have is this weird pre...</td>\n",
              "    </tr>\n",
              "  </tbody>\n",
              "</table>\n",
              "</div>"
            ],
            "text/plain": [
              "                                            Sentence\n",
              "0  I was diagnosed 3 days ago however symptoms st...\n",
              "1  Isolated starting 8 days ago but as symptoms m...\n",
              "2  Take the time to recover even as symptoms ligh...\n",
              "3  I ' ve been extremely fatigued , wanting to sl...\n",
              "4  Also my biggest worry I have is this weird pre..."
            ]
          },
          "metadata": {
            "tags": []
          },
          "execution_count": 304
        }
      ]
    },
    {
      "cell_type": "code",
      "metadata": {
        "id": "FMFtaFyikGvq"
      },
      "source": [
        "def colloqual_df_info(sent, df):\n",
        "    print('Total number of sentences in this file is:', len(sent))\n",
        "    print('Number of sentences that include any of the provided symtoms is:', len(df))\n",
        "    print('Number of sentences that do NOT include any of the provided symptoms is:', (len(sent) - len(df)))\n",
        "    \n",
        "    "
      ],
      "execution_count": null,
      "outputs": []
    },
    {
      "cell_type": "code",
      "metadata": {
        "id": "33r5dF9jkGvq",
        "outputId": "f4dee6ca-7778-4340-8400-b05d0c1bb1c9"
      },
      "source": [
        "colloqual_df_info(sent_value, colloqual_df)"
      ],
      "execution_count": null,
      "outputs": [
        {
          "output_type": "stream",
          "text": [
            "Total number of sentences in this file is: 531\n",
            "Number of sentences that include any of the provided symtoms is: 168\n",
            "Number of sentences that do NOT include any of the provided symptoms is: 363\n"
          ],
          "name": "stdout"
        }
      ]
    },
    {
      "cell_type": "markdown",
      "metadata": {
        "id": "o-MlBcHkkGvr"
      },
      "source": [
        "## Now lets put those sentences into tagged format"
      ]
    },
    {
      "cell_type": "code",
      "metadata": {
        "id": "1nVXpkMnkGvr",
        "outputId": "381cf7b0-6568-4f6a-b207-e2ced392848d"
      },
      "source": [
        "colloqual_df.head()"
      ],
      "execution_count": null,
      "outputs": [
        {
          "output_type": "execute_result",
          "data": {
            "text/html": [
              "<div>\n",
              "<style scoped>\n",
              "    .dataframe tbody tr th:only-of-type {\n",
              "        vertical-align: middle;\n",
              "    }\n",
              "\n",
              "    .dataframe tbody tr th {\n",
              "        vertical-align: top;\n",
              "    }\n",
              "\n",
              "    .dataframe thead th {\n",
              "        text-align: right;\n",
              "    }\n",
              "</style>\n",
              "<table border=\"1\" class=\"dataframe\">\n",
              "  <thead>\n",
              "    <tr style=\"text-align: right;\">\n",
              "      <th></th>\n",
              "      <th>Sentence</th>\n",
              "    </tr>\n",
              "  </thead>\n",
              "  <tbody>\n",
              "    <tr>\n",
              "      <td>0</td>\n",
              "      <td>I was diagnosed 3 days ago however symptoms st...</td>\n",
              "    </tr>\n",
              "    <tr>\n",
              "      <td>1</td>\n",
              "      <td>Isolated starting 8 days ago but as symptoms m...</td>\n",
              "    </tr>\n",
              "    <tr>\n",
              "      <td>3</td>\n",
              "      <td>Take the time to recover even as symptoms ligh...</td>\n",
              "    </tr>\n",
              "    <tr>\n",
              "      <td>6</td>\n",
              "      <td>I ' ve been extremely fatigued , wanting to sl...</td>\n",
              "    </tr>\n",
              "    <tr>\n",
              "      <td>8</td>\n",
              "      <td>Also my biggest worry I have is this weird pre...</td>\n",
              "    </tr>\n",
              "  </tbody>\n",
              "</table>\n",
              "</div>"
            ],
            "text/plain": [
              "                                            Sentence\n",
              "0  I was diagnosed 3 days ago however symptoms st...\n",
              "1  Isolated starting 8 days ago but as symptoms m...\n",
              "3  Take the time to recover even as symptoms ligh...\n",
              "6  I ' ve been extremely fatigued , wanting to sl...\n",
              "8  Also my biggest worry I have is this weird pre..."
            ]
          },
          "metadata": {
            "tags": []
          },
          "execution_count": 294
        }
      ]
    },
    {
      "cell_type": "code",
      "metadata": {
        "id": "MrkWp9EXkGvr"
      },
      "source": [
        "colloqual_df.reset_index(drop=True, inplace=True)"
      ],
      "execution_count": null,
      "outputs": []
    },
    {
      "cell_type": "code",
      "metadata": {
        "id": "obgw--5IkGvr",
        "outputId": "1dfda38c-95b5-42bf-d00d-1d9a1eb104e3"
      },
      "source": [
        "colloqual_df.head()"
      ],
      "execution_count": null,
      "outputs": [
        {
          "output_type": "execute_result",
          "data": {
            "text/html": [
              "<div>\n",
              "<style scoped>\n",
              "    .dataframe tbody tr th:only-of-type {\n",
              "        vertical-align: middle;\n",
              "    }\n",
              "\n",
              "    .dataframe tbody tr th {\n",
              "        vertical-align: top;\n",
              "    }\n",
              "\n",
              "    .dataframe thead th {\n",
              "        text-align: right;\n",
              "    }\n",
              "</style>\n",
              "<table border=\"1\" class=\"dataframe\">\n",
              "  <thead>\n",
              "    <tr style=\"text-align: right;\">\n",
              "      <th></th>\n",
              "      <th>Sentence</th>\n",
              "    </tr>\n",
              "  </thead>\n",
              "  <tbody>\n",
              "    <tr>\n",
              "      <td>0</td>\n",
              "      <td>I was diagnosed 3 days ago however symptoms st...</td>\n",
              "    </tr>\n",
              "    <tr>\n",
              "      <td>1</td>\n",
              "      <td>Isolated starting 8 days ago but as symptoms m...</td>\n",
              "    </tr>\n",
              "    <tr>\n",
              "      <td>2</td>\n",
              "      <td>Take the time to recover even as symptoms ligh...</td>\n",
              "    </tr>\n",
              "    <tr>\n",
              "      <td>3</td>\n",
              "      <td>I ' ve been extremely fatigued , wanting to sl...</td>\n",
              "    </tr>\n",
              "    <tr>\n",
              "      <td>4</td>\n",
              "      <td>Also my biggest worry I have is this weird pre...</td>\n",
              "    </tr>\n",
              "  </tbody>\n",
              "</table>\n",
              "</div>"
            ],
            "text/plain": [
              "                                            Sentence\n",
              "0  I was diagnosed 3 days ago however symptoms st...\n",
              "1  Isolated starting 8 days ago but as symptoms m...\n",
              "2  Take the time to recover even as symptoms ligh...\n",
              "3  I ' ve been extremely fatigued , wanting to sl...\n",
              "4  Also my biggest worry I have is this weird pre..."
            ]
          },
          "metadata": {
            "tags": []
          },
          "execution_count": 300
        }
      ]
    },
    {
      "cell_type": "code",
      "metadata": {
        "id": "QxT6-Qv9kGvr"
      },
      "source": [
        "plm_peS_df = sentence_w_symptoms(colloqual_df, symptoms)"
      ],
      "execution_count": null,
      "outputs": []
    },
    {
      "cell_type": "code",
      "metadata": {
        "id": "LfeOkliLkGvr",
        "outputId": "c80c2e35-c053-4d17-f6a8-b5e89ee934fb"
      },
      "source": [
        "plm_peS_df.head()"
      ],
      "execution_count": null,
      "outputs": [
        {
          "output_type": "execute_result",
          "data": {
            "text/html": [
              "<div>\n",
              "<style scoped>\n",
              "    .dataframe tbody tr th:only-of-type {\n",
              "        vertical-align: middle;\n",
              "    }\n",
              "\n",
              "    .dataframe tbody tr th {\n",
              "        vertical-align: top;\n",
              "    }\n",
              "\n",
              "    .dataframe thead th {\n",
              "        text-align: right;\n",
              "    }\n",
              "</style>\n",
              "<table border=\"1\" class=\"dataframe\">\n",
              "  <thead>\n",
              "    <tr style=\"text-align: right;\">\n",
              "      <th></th>\n",
              "      <th>Sentence</th>\n",
              "    </tr>\n",
              "  </thead>\n",
              "  <tbody>\n",
              "    <tr>\n",
              "      <td>2</td>\n",
              "      <td>Take the time to recover even as symptoms ligh...</td>\n",
              "    </tr>\n",
              "    <tr>\n",
              "      <td>7</td>\n",
              "      <td>I spoke to a doctor at Kaiser and they suggest...</td>\n",
              "    </tr>\n",
              "    <tr>\n",
              "      <td>15</td>\n",
              "      <td>Tylenol for headache to see if it helps .</td>\n",
              "    </tr>\n",
              "    <tr>\n",
              "      <td>20</td>\n",
              "      <td>No fever .</td>\n",
              "    </tr>\n",
              "    <tr>\n",
              "      <td>21</td>\n",
              "      <td>No chills .</td>\n",
              "    </tr>\n",
              "  </tbody>\n",
              "</table>\n",
              "</div>"
            ],
            "text/plain": [
              "                                             Sentence\n",
              "2   Take the time to recover even as symptoms ligh...\n",
              "7   I spoke to a doctor at Kaiser and they suggest...\n",
              "15          Tylenol for headache to see if it helps .\n",
              "20                                         No fever .\n",
              "21                                        No chills ."
            ]
          },
          "metadata": {
            "tags": []
          },
          "execution_count": 306
        }
      ]
    },
    {
      "cell_type": "code",
      "metadata": {
        "id": "V-NJafPzkGvr"
      },
      "source": [
        "plm_peS_df['Token'] = plm_peS_df['Sentence'].str.replace(pattern, repl, flags = re.IGNORECASE)\n",
        "plm_peS_df['Sentence_ID'] = ['Sentence #%s' %i for i in range(1, len(plm_peS_df) + 1)]\n"
      ],
      "execution_count": null,
      "outputs": []
    },
    {
      "cell_type": "code",
      "metadata": {
        "id": "sHlX6K7JkGvr",
        "outputId": "032dc999-e74a-42c1-debf-56ea6aed4003"
      },
      "source": [
        "plm_peS_df.head()"
      ],
      "execution_count": null,
      "outputs": [
        {
          "output_type": "execute_result",
          "data": {
            "text/html": [
              "<div>\n",
              "<style scoped>\n",
              "    .dataframe tbody tr th:only-of-type {\n",
              "        vertical-align: middle;\n",
              "    }\n",
              "\n",
              "    .dataframe tbody tr th {\n",
              "        vertical-align: top;\n",
              "    }\n",
              "\n",
              "    .dataframe thead th {\n",
              "        text-align: right;\n",
              "    }\n",
              "</style>\n",
              "<table border=\"1\" class=\"dataframe\">\n",
              "  <thead>\n",
              "    <tr style=\"text-align: right;\">\n",
              "      <th></th>\n",
              "      <th>Sentence</th>\n",
              "      <th>Token</th>\n",
              "      <th>Sentence_ID</th>\n",
              "    </tr>\n",
              "  </thead>\n",
              "  <tbody>\n",
              "    <tr>\n",
              "      <td>2</td>\n",
              "      <td>Take the time to recover even as symptoms ligh...</td>\n",
              "      <td>Take the time to recover even as symptoms ligh...</td>\n",
              "      <td>Sentence #1</td>\n",
              "    </tr>\n",
              "    <tr>\n",
              "      <td>7</td>\n",
              "      <td>I spoke to a doctor at Kaiser and they suggest...</td>\n",
              "      <td>I spoke to a doctor at Kaiser and they suggest...</td>\n",
              "      <td>Sentence #2</td>\n",
              "    </tr>\n",
              "    <tr>\n",
              "      <td>15</td>\n",
              "      <td>Tylenol for headache to see if it helps .</td>\n",
              "      <td>Tylenol for BSYM to see if it helps .</td>\n",
              "      <td>Sentence #3</td>\n",
              "    </tr>\n",
              "    <tr>\n",
              "      <td>20</td>\n",
              "      <td>No fever .</td>\n",
              "      <td>No BSYM .</td>\n",
              "      <td>Sentence #4</td>\n",
              "    </tr>\n",
              "    <tr>\n",
              "      <td>21</td>\n",
              "      <td>No chills .</td>\n",
              "      <td>No BSYM .</td>\n",
              "      <td>Sentence #5</td>\n",
              "    </tr>\n",
              "  </tbody>\n",
              "</table>\n",
              "</div>"
            ],
            "text/plain": [
              "                                             Sentence  \\\n",
              "2   Take the time to recover even as symptoms ligh...   \n",
              "7   I spoke to a doctor at Kaiser and they suggest...   \n",
              "15          Tylenol for headache to see if it helps .   \n",
              "20                                         No fever .   \n",
              "21                                        No chills .   \n",
              "\n",
              "                                                Token  Sentence_ID  \n",
              "2   Take the time to recover even as symptoms ligh...  Sentence #1  \n",
              "7   I spoke to a doctor at Kaiser and they suggest...  Sentence #2  \n",
              "15              Tylenol for BSYM to see if it helps .  Sentence #3  \n",
              "20                                          No BSYM .  Sentence #4  \n",
              "21                                          No BSYM .  Sentence #5  "
            ]
          },
          "metadata": {
            "tags": []
          },
          "execution_count": 312
        }
      ]
    },
    {
      "cell_type": "code",
      "metadata": {
        "id": "QlwTJCHhkGvr"
      },
      "source": [
        "df5 = tokenize_sentences(plm_peS_df)\n",
        "plm_peS_df_out=remove_duplicate_sentence_ids(df5)"
      ],
      "execution_count": null,
      "outputs": []
    },
    {
      "cell_type": "code",
      "metadata": {
        "id": "fybU2UIykGvr"
      },
      "source": [
        "plm_peS_df_out=remove_duplicate_sentence_ids(df5)"
      ],
      "execution_count": null,
      "outputs": []
    },
    {
      "cell_type": "code",
      "metadata": {
        "id": "_NRTf9FZkGvr"
      },
      "source": [
        "plm_peS_df_out.to_csv('/Users/elif/Desktop/Existing_Colloquial_data_prior_Nov5.csv', index = False, encoding= 'utf-8')"
      ],
      "execution_count": null,
      "outputs": []
    },
    {
      "cell_type": "markdown",
      "metadata": {
        "id": "rQkgWlsFkGvr"
      },
      "source": [
        "## Scraped Data from the sites"
      ]
    },
    {
      "cell_type": "code",
      "metadata": {
        "id": "IBLGub6FkGvr"
      },
      "source": [
        "scraped_data = pd.read_csv('/Users/elif/Downloads/combined_csv-4.csv')"
      ],
      "execution_count": null,
      "outputs": []
    },
    {
      "cell_type": "code",
      "metadata": {
        "id": "B-gEqNu8kGvr",
        "outputId": "a792f1f4-7259-4867-e707-dd99fa3666cc"
      },
      "source": [
        "scraped_data['Sentence'][8]"
      ],
      "execution_count": null,
      "outputs": [
        {
          "output_type": "execute_result",
          "data": {
            "text/plain": [
              "\"Every cooked food smells like garlic and when I cook something, all I can smell is garlic. It's frustrating.\""
            ]
          },
          "metadata": {
            "tags": []
          },
          "execution_count": 279
        }
      ]
    },
    {
      "cell_type": "code",
      "metadata": {
        "scrolled": true,
        "id": "XK621umukGvr",
        "outputId": "357f6d8e-b794-4ba2-cf52-387dc7e3c0d1"
      },
      "source": [
        "#Count of original symptoms\n",
        "symptoms_df(scraped_data)#, symp = symptoms)"
      ],
      "execution_count": null,
      "outputs": [
        {
          "output_type": "execute_result",
          "data": {
            "text/html": [
              "<div>\n",
              "<style scoped>\n",
              "    .dataframe tbody tr th:only-of-type {\n",
              "        vertical-align: middle;\n",
              "    }\n",
              "\n",
              "    .dataframe tbody tr th {\n",
              "        vertical-align: top;\n",
              "    }\n",
              "\n",
              "    .dataframe thead th {\n",
              "        text-align: right;\n",
              "    }\n",
              "</style>\n",
              "<table border=\"1\" class=\"dataframe\">\n",
              "  <thead>\n",
              "    <tr style=\"text-align: right;\">\n",
              "      <th></th>\n",
              "      <th>Counts</th>\n",
              "    </tr>\n",
              "    <tr>\n",
              "      <th>Symptoms</th>\n",
              "      <th></th>\n",
              "    </tr>\n",
              "  </thead>\n",
              "  <tbody>\n",
              "    <tr>\n",
              "      <td>cough</td>\n",
              "      <td>61</td>\n",
              "    </tr>\n",
              "    <tr>\n",
              "      <td>fever</td>\n",
              "      <td>49</td>\n",
              "    </tr>\n",
              "    <tr>\n",
              "      <td>headache</td>\n",
              "      <td>33</td>\n",
              "    </tr>\n",
              "    <tr>\n",
              "      <td>fatigue</td>\n",
              "      <td>29</td>\n",
              "    </tr>\n",
              "    <tr>\n",
              "      <td>anxiety</td>\n",
              "      <td>28</td>\n",
              "    </tr>\n",
              "    <tr>\n",
              "      <td>sore throat</td>\n",
              "      <td>17</td>\n",
              "    </tr>\n",
              "    <tr>\n",
              "      <td>shortness of breath</td>\n",
              "      <td>16</td>\n",
              "    </tr>\n",
              "    <tr>\n",
              "      <td>dizziness</td>\n",
              "      <td>12</td>\n",
              "    </tr>\n",
              "    <tr>\n",
              "      <td>vertigo</td>\n",
              "      <td>10</td>\n",
              "    </tr>\n",
              "    <tr>\n",
              "      <td>congestion</td>\n",
              "      <td>9</td>\n",
              "    </tr>\n",
              "    <tr>\n",
              "      <td>chills</td>\n",
              "      <td>9</td>\n",
              "    </tr>\n",
              "    <tr>\n",
              "      <td>chest pain</td>\n",
              "      <td>9</td>\n",
              "    </tr>\n",
              "    <tr>\n",
              "      <td>diarrhea</td>\n",
              "      <td>8</td>\n",
              "    </tr>\n",
              "    <tr>\n",
              "      <td>urologic</td>\n",
              "      <td>8</td>\n",
              "    </tr>\n",
              "    <tr>\n",
              "      <td>body aches</td>\n",
              "      <td>7</td>\n",
              "    </tr>\n",
              "    <tr>\n",
              "      <td>nausea</td>\n",
              "      <td>7</td>\n",
              "    </tr>\n",
              "    <tr>\n",
              "      <td>loss of smell</td>\n",
              "      <td>6</td>\n",
              "    </tr>\n",
              "    <tr>\n",
              "      <td>rash</td>\n",
              "      <td>5</td>\n",
              "    </tr>\n",
              "    <tr>\n",
              "      <td>loss of taste</td>\n",
              "      <td>4</td>\n",
              "    </tr>\n",
              "    <tr>\n",
              "      <td>tinnitus</td>\n",
              "      <td>4</td>\n",
              "    </tr>\n",
              "    <tr>\n",
              "      <td>loss of appetite</td>\n",
              "      <td>4</td>\n",
              "    </tr>\n",
              "    <tr>\n",
              "      <td>abdominal pain</td>\n",
              "      <td>3</td>\n",
              "    </tr>\n",
              "    <tr>\n",
              "      <td>nasal congestion</td>\n",
              "      <td>3</td>\n",
              "    </tr>\n",
              "    <tr>\n",
              "      <td>swollen</td>\n",
              "      <td>3</td>\n",
              "    </tr>\n",
              "    <tr>\n",
              "      <td>back pain</td>\n",
              "      <td>3</td>\n",
              "    </tr>\n",
              "    <tr>\n",
              "      <td>muscle weakness</td>\n",
              "      <td>3</td>\n",
              "    </tr>\n",
              "    <tr>\n",
              "      <td>runny nose</td>\n",
              "      <td>2</td>\n",
              "    </tr>\n",
              "    <tr>\n",
              "      <td>vomiting</td>\n",
              "      <td>2</td>\n",
              "    </tr>\n",
              "    <tr>\n",
              "      <td>dry mouth</td>\n",
              "      <td>2</td>\n",
              "    </tr>\n",
              "    <tr>\n",
              "      <td>muscle ache</td>\n",
              "      <td>1</td>\n",
              "    </tr>\n",
              "    <tr>\n",
              "      <td>pelvic pain</td>\n",
              "      <td>1</td>\n",
              "    </tr>\n",
              "    <tr>\n",
              "      <td>insomnia</td>\n",
              "      <td>1</td>\n",
              "    </tr>\n",
              "    <tr>\n",
              "      <td>hearing loss</td>\n",
              "      <td>1</td>\n",
              "    </tr>\n",
              "    <tr>\n",
              "      <td>sciatica</td>\n",
              "      <td>1</td>\n",
              "    </tr>\n",
              "    <tr>\n",
              "      <td>dyspepsia</td>\n",
              "      <td>1</td>\n",
              "    </tr>\n",
              "    <tr>\n",
              "      <td>sneezing</td>\n",
              "      <td>1</td>\n",
              "    </tr>\n",
              "    <tr>\n",
              "      <td>sweats</td>\n",
              "      <td>1</td>\n",
              "    </tr>\n",
              "    <tr>\n",
              "      <td>swelling</td>\n",
              "      <td>1</td>\n",
              "    </tr>\n",
              "    <tr>\n",
              "      <td>confusion</td>\n",
              "      <td>1</td>\n",
              "    </tr>\n",
              "    <tr>\n",
              "      <td>chest tightness</td>\n",
              "      <td>1</td>\n",
              "    </tr>\n",
              "    <tr>\n",
              "      <td>bloating</td>\n",
              "      <td>1</td>\n",
              "    </tr>\n",
              "    <tr>\n",
              "      <td>asthenia</td>\n",
              "      <td>1</td>\n",
              "    </tr>\n",
              "    <tr>\n",
              "      <td>itching</td>\n",
              "      <td>1</td>\n",
              "    </tr>\n",
              "  </tbody>\n",
              "</table>\n",
              "</div>"
            ],
            "text/plain": [
              "                     Counts\n",
              "Symptoms                   \n",
              "cough                    61\n",
              "fever                    49\n",
              "headache                 33\n",
              "fatigue                  29\n",
              "anxiety                  28\n",
              "sore throat              17\n",
              "shortness of breath      16\n",
              "dizziness                12\n",
              "vertigo                  10\n",
              "congestion                9\n",
              "chills                    9\n",
              "chest pain                9\n",
              "diarrhea                  8\n",
              "urologic                  8\n",
              "body aches                7\n",
              "nausea                    7\n",
              "loss of smell             6\n",
              "rash                      5\n",
              "loss of taste             4\n",
              "tinnitus                  4\n",
              "loss of appetite          4\n",
              "abdominal pain            3\n",
              "nasal congestion          3\n",
              "swollen                   3\n",
              "back pain                 3\n",
              "muscle weakness           3\n",
              "runny nose                2\n",
              "vomiting                  2\n",
              "dry mouth                 2\n",
              "muscle ache               1\n",
              "pelvic pain               1\n",
              "insomnia                  1\n",
              "hearing loss              1\n",
              "sciatica                  1\n",
              "dyspepsia                 1\n",
              "sneezing                  1\n",
              "sweats                    1\n",
              "swelling                  1\n",
              "confusion                 1\n",
              "chest tightness           1\n",
              "bloating                  1\n",
              "asthenia                  1\n",
              "itching                   1"
            ]
          },
          "metadata": {
            "tags": []
          },
          "execution_count": 280
        }
      ]
    },
    {
      "cell_type": "code",
      "metadata": {
        "id": "jYsmDAdMkGvr",
        "outputId": "c5f21572-f99f-4a72-a11d-ea8a60c8a9f0"
      },
      "source": [
        "len(symptoms_df(scraped_data))"
      ],
      "execution_count": null,
      "outputs": [
        {
          "output_type": "execute_result",
          "data": {
            "text/plain": [
              "43"
            ]
          },
          "metadata": {
            "tags": []
          },
          "execution_count": 281
        }
      ]
    },
    {
      "cell_type": "code",
      "metadata": {
        "scrolled": false,
        "id": "mYD5yuVXkGvr",
        "outputId": "5587f1fe-30f4-467c-ffdb-31b5870bcce4"
      },
      "source": [
        "#count of symptomps from the patience like me files\n",
        "symptoms_df(scraped_data, only_syms)"
      ],
      "execution_count": null,
      "outputs": [
        {
          "output_type": "execute_result",
          "data": {
            "text/html": [
              "<div>\n",
              "<style scoped>\n",
              "    .dataframe tbody tr th:only-of-type {\n",
              "        vertical-align: middle;\n",
              "    }\n",
              "\n",
              "    .dataframe tbody tr th {\n",
              "        vertical-align: top;\n",
              "    }\n",
              "\n",
              "    .dataframe thead th {\n",
              "        text-align: right;\n",
              "    }\n",
              "</style>\n",
              "<table border=\"1\" class=\"dataframe\">\n",
              "  <thead>\n",
              "    <tr style=\"text-align: right;\">\n",
              "      <th></th>\n",
              "      <th>Counts</th>\n",
              "    </tr>\n",
              "    <tr>\n",
              "      <th>Symptoms</th>\n",
              "      <th></th>\n",
              "    </tr>\n",
              "  </thead>\n",
              "  <tbody>\n",
              "    <tr>\n",
              "      <td>symptoms</td>\n",
              "      <td>146</td>\n",
              "    </tr>\n",
              "    <tr>\n",
              "      <td>feeling</td>\n",
              "      <td>63</td>\n",
              "    </tr>\n",
              "    <tr>\n",
              "      <td>breath</td>\n",
              "      <td>49</td>\n",
              "    </tr>\n",
              "    <tr>\n",
              "      <td>cough</td>\n",
              "      <td>46</td>\n",
              "    </tr>\n",
              "    <tr>\n",
              "      <td>taste</td>\n",
              "      <td>43</td>\n",
              "    </tr>\n",
              "    <tr>\n",
              "      <td>...</td>\n",
              "      <td>...</td>\n",
              "    </tr>\n",
              "    <tr>\n",
              "      <td>hives</td>\n",
              "      <td>1</td>\n",
              "    </tr>\n",
              "    <tr>\n",
              "      <td>high temperatures</td>\n",
              "      <td>1</td>\n",
              "    </tr>\n",
              "    <tr>\n",
              "      <td>hayfever</td>\n",
              "      <td>1</td>\n",
              "    </tr>\n",
              "    <tr>\n",
              "      <td>get blurry</td>\n",
              "      <td>1</td>\n",
              "    </tr>\n",
              "    <tr>\n",
              "      <td>weird stuff showing up on my skin</td>\n",
              "      <td>1</td>\n",
              "    </tr>\n",
              "  </tbody>\n",
              "</table>\n",
              "<p>167 rows × 1 columns</p>\n",
              "</div>"
            ],
            "text/plain": [
              "                                   Counts\n",
              "Symptoms                                 \n",
              "symptoms                              146\n",
              "feeling                                63\n",
              "breath                                 49\n",
              "cough                                  46\n",
              "taste                                  43\n",
              "...                                   ...\n",
              "hives                                   1\n",
              "high temperatures                       1\n",
              "hayfever                                1\n",
              "get blurry                              1\n",
              "weird stuff showing up on my skin       1\n",
              "\n",
              "[167 rows x 1 columns]"
            ]
          },
          "metadata": {
            "tags": []
          },
          "execution_count": 282
        }
      ]
    },
    {
      "cell_type": "code",
      "metadata": {
        "id": "T-01mXEYkGvr"
      },
      "source": [
        "sentences = []\n",
        "sentence_pattern = r'(?<=[^A-Z].[.?]) +(?=[A-Z])'\n",
        "for row in scraped_data.itertuples():            \n",
        "    for sentence in re.split(sentence_pattern, row[1]):\n",
        "        sentences.append((row[0], sentence))\n",
        "                \n",
        "\n",
        "collo_df_new = pd.DataFrame(sentences, columns=['Index','Sentence'])\n",
        "\n",
        "collo_df_new.drop('Index', axis = 1, inplace = True)"
      ],
      "execution_count": null,
      "outputs": []
    },
    {
      "cell_type": "code",
      "metadata": {
        "id": "MdWS3GHIkGvr",
        "outputId": "18987cd3-9291-43f9-9f27-e99b0915b50e"
      },
      "source": [
        "collo_df_new['Sentence'][25]"
      ],
      "execution_count": null,
      "outputs": [
        {
          "output_type": "execute_result",
          "data": {
            "text/plain": [
              "'That should help you'"
            ]
          },
          "metadata": {
            "tags": []
          },
          "execution_count": 335
        }
      ]
    },
    {
      "cell_type": "code",
      "metadata": {
        "id": "JpCoYAm7kGvr"
      },
      "source": [
        "colloqual_new_data = sentence_w_symptoms(collo_df_new, symptoms)"
      ],
      "execution_count": null,
      "outputs": []
    },
    {
      "cell_type": "code",
      "metadata": {
        "id": "KtKo81z_kGvr",
        "outputId": "17405550-825c-49ef-dabf-e78858669882"
      },
      "source": [
        "colloqual_new_data.head()"
      ],
      "execution_count": null,
      "outputs": [
        {
          "output_type": "execute_result",
          "data": {
            "text/html": [
              "<div>\n",
              "<style scoped>\n",
              "    .dataframe tbody tr th:only-of-type {\n",
              "        vertical-align: middle;\n",
              "    }\n",
              "\n",
              "    .dataframe tbody tr th {\n",
              "        vertical-align: top;\n",
              "    }\n",
              "\n",
              "    .dataframe thead th {\n",
              "        text-align: right;\n",
              "    }\n",
              "</style>\n",
              "<table border=\"1\" class=\"dataframe\">\n",
              "  <thead>\n",
              "    <tr style=\"text-align: right;\">\n",
              "      <th></th>\n",
              "      <th>Sentence</th>\n",
              "    </tr>\n",
              "  </thead>\n",
              "  <tbody>\n",
              "    <tr>\n",
              "      <td>3</td>\n",
              "      <td>I've been feeling some fatigue and pelvic pain...</td>\n",
              "    </tr>\n",
              "    <tr>\n",
              "      <td>30</td>\n",
              "      <td>I am waiting on a procedure to help with back ...</td>\n",
              "    </tr>\n",
              "    <tr>\n",
              "      <td>33</td>\n",
              "      <td>I was convinced I had Covid in early March of ...</td>\n",
              "    </tr>\n",
              "    <tr>\n",
              "      <td>41</td>\n",
              "      <td>My husband tested negative..I'm beginning to w...</td>\n",
              "    </tr>\n",
              "    <tr>\n",
              "      <td>68</td>\n",
              "      <td>I first became unwell on 03.05.20 with a cough...</td>\n",
              "    </tr>\n",
              "  </tbody>\n",
              "</table>\n",
              "</div>"
            ],
            "text/plain": [
              "                                             Sentence\n",
              "3   I've been feeling some fatigue and pelvic pain...\n",
              "30  I am waiting on a procedure to help with back ...\n",
              "33  I was convinced I had Covid in early March of ...\n",
              "41  My husband tested negative..I'm beginning to w...\n",
              "68  I first became unwell on 03.05.20 with a cough..."
            ]
          },
          "metadata": {
            "tags": []
          },
          "execution_count": 337
        }
      ]
    },
    {
      "cell_type": "code",
      "metadata": {
        "id": "lENCpTprkGvr"
      },
      "source": [
        "colloqual_new_data['Token'] = colloqual_new_data['Sentence'].str.replace(pattern, repl, flags = re.IGNORECASE)\n",
        "colloqual_new_data['Sentence_ID'] = ['Sentence #%s' %i for i in range(1, len(colloqual_new_data) + 1)]\n",
        "df6 = tokenize_sentences(colloqual_new_data)\n",
        "tagged_scraped_data = remove_duplicate_sentence_ids(df6)"
      ],
      "execution_count": null,
      "outputs": []
    },
    {
      "cell_type": "code",
      "metadata": {
        "scrolled": true,
        "id": "Y9NI0Eb1kGvs",
        "outputId": "979e6dba-3949-496f-8293-ce077c12cf97"
      },
      "source": [
        "tagged_scraped_data.head()"
      ],
      "execution_count": null,
      "outputs": [
        {
          "output_type": "execute_result",
          "data": {
            "text/html": [
              "<div>\n",
              "<style scoped>\n",
              "    .dataframe tbody tr th:only-of-type {\n",
              "        vertical-align: middle;\n",
              "    }\n",
              "\n",
              "    .dataframe tbody tr th {\n",
              "        vertical-align: top;\n",
              "    }\n",
              "\n",
              "    .dataframe thead th {\n",
              "        text-align: right;\n",
              "    }\n",
              "</style>\n",
              "<table border=\"1\" class=\"dataframe\">\n",
              "  <thead>\n",
              "    <tr style=\"text-align: right;\">\n",
              "      <th></th>\n",
              "      <th>Sentence_ID</th>\n",
              "      <th>Words</th>\n",
              "      <th>Tag</th>\n",
              "    </tr>\n",
              "  </thead>\n",
              "  <tbody>\n",
              "    <tr>\n",
              "      <td>0</td>\n",
              "      <td>Sentence #1</td>\n",
              "      <td>I</td>\n",
              "      <td>O</td>\n",
              "    </tr>\n",
              "    <tr>\n",
              "      <td>1</td>\n",
              "      <td></td>\n",
              "      <td>'ve</td>\n",
              "      <td>O</td>\n",
              "    </tr>\n",
              "    <tr>\n",
              "      <td>2</td>\n",
              "      <td></td>\n",
              "      <td>been</td>\n",
              "      <td>O</td>\n",
              "    </tr>\n",
              "    <tr>\n",
              "      <td>3</td>\n",
              "      <td></td>\n",
              "      <td>feeling</td>\n",
              "      <td>O</td>\n",
              "    </tr>\n",
              "    <tr>\n",
              "      <td>4</td>\n",
              "      <td></td>\n",
              "      <td>some</td>\n",
              "      <td>O</td>\n",
              "    </tr>\n",
              "  </tbody>\n",
              "</table>\n",
              "</div>"
            ],
            "text/plain": [
              "   Sentence_ID    Words Tag\n",
              "0  Sentence #1        I   O\n",
              "1                   've   O\n",
              "2                  been   O\n",
              "3               feeling   O\n",
              "4                  some   O"
            ]
          },
          "metadata": {
            "tags": []
          },
          "execution_count": 339
        }
      ]
    },
    {
      "cell_type": "code",
      "metadata": {
        "id": "8xymkMZEkGvs"
      },
      "source": [
        ""
      ],
      "execution_count": null,
      "outputs": []
    },
    {
      "cell_type": "code",
      "metadata": {
        "scrolled": true,
        "id": "ILKwOCdpkGvs"
      },
      "source": [
        "tagged_scraped_data.to_csv('/Users/elif/Desktop/New_Colloquial_data_Nov5.csv', index = False, encoding= 'utf-8')"
      ],
      "execution_count": null,
      "outputs": []
    },
    {
      "cell_type": "code",
      "metadata": {
        "id": "2GE7qb6RkGvs"
      },
      "source": [
        ""
      ],
      "execution_count": null,
      "outputs": []
    }
  ]
}